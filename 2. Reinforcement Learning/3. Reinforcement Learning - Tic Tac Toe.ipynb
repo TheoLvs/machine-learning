{
 "cells": [
  {
   "cell_type": "markdown",
   "metadata": {},
   "source": [
    "# Tic Tac Toe - Reinforcement Learning"
   ]
  },
  {
   "cell_type": "markdown",
   "metadata": {},
   "source": [
    "![](http://img1.encyclopedie-incomplete.com/local/cache-vignettes/L440xH381/morpion_tic-tac-toe-b3a0a.jpg)"
   ]
  },
  {
   "cell_type": "markdown",
   "metadata": {},
   "source": [
    "##### Introduction"
   ]
  },
  {
   "cell_type": "markdown",
   "metadata": {},
   "source": [
    "This notebook will hold a few experiments I made during my discovery of Reinforcement Learning. <br>\n",
    "I wanted to build a simple game with all the environment-agent components : \n",
    "- The environment modelling and the game\n",
    "- The agents : Human, Random, Rules-Based, and RL based\n",
    "\n",
    "What was best than a simple **Tic Tac Toe** game then ? <br>\n",
    "The environment is only a 3*3 grid with 3 states possible by cell. That sounded like a perfect playground. "
   ]
  },
  {
   "cell_type": "markdown",
   "metadata": {},
   "source": [
    "##### Summary\n",
    "1. How to set up and build an environment\n",
    "2. Looking at some games \n",
    "3. Training a RL Agent\n",
    "4. First experiments\n",
    "5. Improving the RL Agent\n",
    "6. Second experiments"
   ]
  },
  {
   "cell_type": "markdown",
   "metadata": {},
   "source": [
    "###### Links and references\n",
    "\n",
    "- [Udemy course on RL](https://www.udemy.com/artificial-intelligence-reinforcement-learning-in-python/)  \n",
    "- [Deep Reinforcement Learning: Pong from Pixels](http://karpathy.github.io/2016/05/31/rl/) Andrej Karpathy's blog article on RL (always a reference)\n",
    "- [Beginner's guide to RL](https://www.analyticsvidhya.com/blog/2017/01/introduction-to-reinforcement-learning-implementation/) - Analytics Vidhya\n",
    "- [Multi-Agent Actor-Critic for Mixed Cooperative-Competitive Environments](https://arxiv.org/pdf/1706.02275.pdf) - OpenAI\n",
    "- [Davild Silver course on RL at UCL]()"
   ]
  },
  {
   "cell_type": "markdown",
   "metadata": {},
   "source": [
    "##### Libraries"
   ]
  },
  {
   "cell_type": "code",
   "execution_count": 3,
   "metadata": {
    "collapsed": false,
    "init_cell": true
   },
   "outputs": [
    {
     "name": "stdout",
     "output_type": "stream",
     "text": [
      "The autoreload extension is already loaded. To reload it, use:\n",
      "  %reload_ext autoreload\n"
     ]
    }
   ],
   "source": [
    "# Usual\n",
    "import os\n",
    "import matplotlib.pyplot as plt\n",
    "import pandas as pd\n",
    "import numpy as np\n",
    "import sys\n",
    "sys.path.append(\"C:/git/ai-library/\")\n",
    "\n",
    "# Autoreload\n",
    "%load_ext autoreload\n",
    "%autoreload 2\n",
    "%reload_ext autoreload\n",
    "% matplotlib inline\n",
    "\n",
    "# Seaborn config\n",
    "import seaborn as sns\n",
    "sns.set(style=\"whitegrid\", color_codes=True)\n",
    "sns.set(font_scale=1)\n",
    "\n",
    "# Deep Learning (Keras, Tensorflow)\n",
    "import tensorflow as tf\n",
    "from keras.models import Sequential\n",
    "from keras.optimizers import SGD,RMSprop, Adam\n",
    "from keras.layers import Dense, Dropout, Activation, Flatten\n",
    "from keras.layers import MaxPooling2D,ZeroPadding2D,Conv2D\n",
    "from keras.utils.np_utils import to_categorical"
   ]
  },
  {
   "cell_type": "markdown",
   "metadata": {},
   "source": [
    "##### Import the Tic Tac Toe library\n",
    "To improve readibility and adopt a library oriented philosophy, most of the code is written in my general purpose AI library.<br>\n",
    "Available in the repo https://github.com/TheoLvs/ai-library/blob/master/ai/rl/tictactoe.py"
   ]
  },
  {
   "cell_type": "code",
   "execution_count": 4,
   "metadata": {
    "collapsed": false,
    "init_cell": true
   },
   "outputs": [],
   "source": [
    "from ai.rl.tictactoe import *"
   ]
  },
  {
   "cell_type": "markdown",
   "metadata": {},
   "source": [
    "***"
   ]
  },
  {
   "cell_type": "markdown",
   "metadata": {},
   "source": [
    "# Set up the environment\n",
    "To model this problem, we will take an Oriented Object Programming approach and define :  \n",
    "- A grid made of cells\n",
    "- An AI agent trained by RL and a AI agent that knows rules\n",
    "- An environment for the agents to discover the grid with rules\n",
    "- A Game to simulate a run of the Tic Tac Toe Game "
   ]
  },
  {
   "cell_type": "markdown",
   "metadata": {},
   "source": [
    "## Define the grid\n",
    "In this section I will describe the modelling approach for those type of problems. <br>\n",
    "I will show sections of the code, but the full reasoning is available at https://github.com/TheoLvs/ai-library/blob/master/ai/rl/tictactoe.py\n"
   ]
  },
  {
   "cell_type": "markdown",
   "metadata": {},
   "source": [
    "### Cell\n",
    "I could have considered a tic tac toe grid as a numpy matrix. <br> \n",
    "But I prefer the approach of taking a grid of 3x3 \"Cell\" objects with more properties. <br>\n",
    "Thus I defined a Cell class with a few properties : \n",
    "- a **value** attribute : 0 for an empty cell, 1 for a cell occuped by the first player, 2 for a cell occupied by the second\n",
    "- a **vectorizing** method : to encode the value in a one hot vector, example [0,0,1] for a value of 2, this is how we will consider a cell value for the RL part\n",
    "- a **representation** to display a game : empty if not occupied, otherwise \"x\" for player 1 and \"o\" for player 2"
   ]
  },
  {
   "cell_type": "markdown",
   "metadata": {},
   "source": [
    "### Grid"
   ]
  },
  {
   "cell_type": "markdown",
   "metadata": {},
   "source": [
    "A grid is an object made of **Cells** objects. <br>\n",
    "\n",
    "##### The important properties are mostly the rules in the environment : \n",
    "- Is a game done ? Who has won ? Is it a draw ?\n",
    "- You cannot tick a cell already occupied\n",
    "\n",
    "##### The important methods will help me to\n",
    "- change the state of a cell (occupied by one player)\n",
    "- get the position and number of free and occupied cells (useful to define the rules of the environment)"
   ]
  },
  {
   "cell_type": "code",
   "execution_count": 3,
   "metadata": {
    "collapsed": false
   },
   "outputs": [
    {
     "name": "stdout",
     "output_type": "stream",
     "text": [
      "|   |   |   |\n",
      "|   | x |   |\n",
      "|   |   | o |\n"
     ]
    },
    {
     "data": {
      "text/plain": [
       "3x3 TicTacToe grid"
      ]
     },
     "execution_count": 3,
     "metadata": {},
     "output_type": "execute_result"
    }
   ],
   "source": [
    "# Define an empty grid\n",
    "example_grid = Grid()\n",
    "\n",
    "# Set two ticks ((position,player))\n",
    "example_grid.set_value((1,1),1)\n",
    "example_grid.set_value((2,2),2)\n",
    "\n",
    "# Visualize the grid and the state of the game\n",
    "example_grid"
   ]
  },
  {
   "cell_type": "markdown",
   "metadata": {},
   "source": [
    "## Define the agents\n",
    "The agents (players) are the entities interacting with the environment (the grid). <br> \n",
    "Every agent designed here will be objects inherited from a agent baseline class. "
   ]
  },
  {
   "cell_type": "markdown",
   "metadata": {},
   "source": [
    "### The agent baseline\n",
    "\n",
    "The Agent class is an abstract class with mostly void methods that are not used by the agents unless the RL Agent. <br>\n",
    "In all cases, the agents will have to consider this problem : <br> \n",
    "![](https://s3-ap-south-1.amazonaws.com/av-blog-media/wp-content/uploads/2017/01/11131906/figtmp7.png)<br><br>\n",
    "This means that considering the current state of the environment, the agent will have to predict an action to make in this environment. <br>\n",
    "Thus what changes between the different agents are : \n",
    "- How to react to a current state ? using the ``predict`` method\n",
    "- How to process the rewards (only for the RL agent that gains from experience and store data from the environment along its existence)"
   ]
  },
  {
   "cell_type": "markdown",
   "metadata": {},
   "source": [
    "### The Human agent\n",
    "The action decision function for the Human agent is quite straightforward, it waits for the user input a position to place the tick on the grid. "
   ]
  },
  {
   "cell_type": "markdown",
   "metadata": {},
   "source": [
    "### The random AI agent\n",
    "The action decision function is even more simple, it takes a random pick among all the free possibilities on the grid. "
   ]
  },
  {
   "cell_type": "markdown",
   "metadata": {},
   "source": [
    "### The rules-based AI agent\n",
    "*SOON*"
   ]
  },
  {
   "cell_type": "markdown",
   "metadata": {},
   "source": [
    "### The RL AI agent\n",
    "*SOON*"
   ]
  },
  {
   "cell_type": "markdown",
   "metadata": {},
   "source": [
    "## Define the game\n",
    "*SOON*"
   ]
  },
  {
   "cell_type": "markdown",
   "metadata": {},
   "source": [
    "***\n",
    "# Some games"
   ]
  },
  {
   "cell_type": "markdown",
   "metadata": {},
   "source": [
    "## Between two random AIs"
   ]
  },
  {
   "cell_type": "code",
   "execution_count": 11,
   "metadata": {
    "collapsed": false
   },
   "outputs": [
    {
     "name": "stdout",
     "output_type": "stream",
     "text": [
      "| o | x | x |\n",
      "| o | x | o |\n",
      "| o | o | x |\n",
      "3x3 TicTacToe grid\n",
      ">>> Player 2 has won !!\n"
     ]
    }
   ],
   "source": [
    "# Define the players\n",
    "player1 = AI_Random_Agent()\n",
    "player2 = AI_Random_Agent()\n",
    "\n",
    "# Define the game between the two players\n",
    "game = Game(player1,player2)\n",
    "\n",
    "# Launch an episode of the game\n",
    "time.sleep(1)\n",
    "game.run_episode()"
   ]
  },
  {
   "cell_type": "markdown",
   "metadata": {},
   "source": [
    "##### Here is an example game :\n",
    "![](images/game_two_random_agents.gif)"
   ]
  },
  {
   "cell_type": "markdown",
   "metadata": {},
   "source": [
    "## Between rules-based AI and random AI"
   ]
  },
  {
   "cell_type": "code",
   "execution_count": 15,
   "metadata": {
    "collapsed": false
   },
   "outputs": [
    {
     "name": "stdout",
     "output_type": "stream",
     "text": [
      "| x | x | o |\n",
      "| o | o | x |\n",
      "| o |   | x |\n",
      "3x3 TicTacToe grid\n",
      ">>> Player 2 has won !!\n"
     ]
    }
   ],
   "source": [
    "# Define the players\n",
    "player1 = AI_Random_Agent()\n",
    "player2 = AI_Rules_Agent()\n",
    "\n",
    "# Define the game between the two players\n",
    "game = Game(player1,player2)\n",
    "\n",
    "# Launch an episode of the game\n",
    "time.sleep(1)\n",
    "game.run_episode()"
   ]
  },
  {
   "cell_type": "markdown",
   "metadata": {},
   "source": [
    "##### First example\n",
    "As expected in this game, the rules-based agent (\"o\") crushed the random agent (\"x\")\n",
    "![](images/game_random_rules_agents.gif)\n",
    "\n",
    "##### Second example\n",
    "In the second game, there are two phases : \n",
    "- The Rules based agent blocked the Random agent on the third column\n",
    "- Then it attacked on the first column, but was blocked by chance by the random agent\n",
    "- However it got the diagonal right to secure the win\n",
    "![](images/game_random_rules_agents2.gif)"
   ]
  },
  {
   "cell_type": "markdown",
   "metadata": {},
   "source": [
    "***\n",
    "# RL agent - first model : feed forward neural network with policy gradient\n",
    "![](https://learnaboutdogs.files.wordpress.com/2011/12/positive-dog-training.jpg)"
   ]
  },
  {
   "cell_type": "markdown",
   "metadata": {},
   "source": [
    "## Training the RL Agent"
   ]
  },
  {
   "cell_type": "code",
   "execution_count": 5,
   "metadata": {
    "collapsed": false
   },
   "outputs": [
    {
     "name": "stdout",
     "output_type": "stream",
     "text": [
      "| o | x | x |\n",
      "| o | x | o |\n",
      "| o | o | x |\n",
      "3x3 TicTacToe grid\n",
      ">>> Player 2 has won !!\n"
     ]
    }
   ],
   "source": [
    "# Define the players\n",
    "player1 = AI_Random_Agent()\n",
    "player2 = AI_RL_Agent()\n",
    "\n",
    "# Define the game between the two players\n",
    "game = Game(player1,player2)\n",
    "\n",
    "# Launch an episode of the game"
   ]
  },
  {
   "cell_type": "markdown",
   "metadata": {},
   "source": [
    "## Random VS RL Agent"
   ]
  },
  {
   "cell_type": "markdown",
   "metadata": {},
   "source": [
    "## Rules Based VS RL Agent"
   ]
  },
  {
   "cell_type": "markdown",
   "metadata": {},
   "source": [
    "## RL Agent VS RL Agent"
   ]
  },
  {
   "cell_type": "markdown",
   "metadata": {},
   "source": [
    "***\n",
    "# RL agent - second model : XXX"
   ]
  },
  {
   "cell_type": "markdown",
   "metadata": {},
   "source": [
    "***\n",
    "# WORK IN PROGRESS"
   ]
  },
  {
   "cell_type": "code",
   "execution_count": 3,
   "metadata": {
    "collapsed": false
   },
   "outputs": [
    {
     "name": "stdout",
     "output_type": "stream",
     "text": [
      "|   |   |   |\n",
      "|   |   |   |\n",
      "|   |   | o |\n"
     ]
    },
    {
     "data": {
      "text/plain": [
       "3x3 TicTacToe grid"
      ]
     },
     "execution_count": 3,
     "metadata": {},
     "output_type": "execute_result"
    }
   ],
   "source": [
    "a = Grid()\n",
    "# a.set_value((1,1),1)\n",
    "a.set_value((2,2),2)\n",
    "a"
   ]
  },
  {
   "cell_type": "code",
   "execution_count": 85,
   "metadata": {
    "collapsed": false
   },
   "outputs": [],
   "source": [
    "player1 = AI_Random_Agent()\n",
    "# player1 = AI_Rules_Agent()\n",
    "player2 = AI_RL_Agent(lr = 0.1)\n",
    "player1 = AI_RL_Agent(lr = 0.05)\n",
    "\n",
    "g = Game(player1,player2)"
   ]
  },
  {
   "cell_type": "code",
   "execution_count": 68,
   "metadata": {
    "collapsed": false
   },
   "outputs": [
    {
     "name": "stdout",
     "output_type": "stream",
     "text": [
      "|   | o | o |\n",
      "| x | o | x |\n",
      "| o |   | x |\n",
      "3x3 TicTacToe grid\n",
      ">>> Player 2 has won !!\n"
     ]
    }
   ],
   "source": [
    "g.run_episode()"
   ]
  },
  {
   "cell_type": "code",
   "execution_count": 92,
   "metadata": {
    "collapsed": false,
    "scrolled": true
   },
   "outputs": [
    {
     "name": "stderr",
     "output_type": "stream",
     "text": [
      "100%|███████████████████████████████████| 10000/10000 [00:57<00:00, 173.32it/s]\n"
     ]
    }
   ],
   "source": [
    "g.run_n_episodes(10000)"
   ]
  },
  {
   "cell_type": "code",
   "execution_count": 93,
   "metadata": {
    "collapsed": false
   },
   "outputs": [
    {
     "data": {
      "image/png": "[encoded data removed]",
      "text/plain": [
       "<matplotlib.figure.Figure at 0x1347bfd0>"
      ]
     },
     "metadata": {},
     "output_type": "display_data"
    }
   ],
   "source": [
    "plt.figure(figsize = (15,4))\n",
    "plt.plot(np.cumsum(player2.running_rewards)/np.array(range(1,len(player2.running_rewards)+1)))\n",
    "plt.plot(np.cumsum(player1.running_rewards)/np.array(range(1,len(player2.running_rewards)+1)))\n",
    "plt.legend([\"player 2\",\"player 1\"])\n",
    "plt.show()"
   ]
  },
  {
   "cell_type": "code",
   "execution_count": null,
   "metadata": {
    "collapsed": true
   },
   "outputs": [],
   "source": []
  }
 ],
 "metadata": {
  "anaconda-cloud": {},
  "kernelspec": {
   "display_name": "Python [conda root]",
   "language": "python",
   "name": "conda-root-py"
  },
  "language_info": {
   "codemirror_mode": {
    "name": "ipython",
    "version": 3
   },
   "file_extension": ".py",
   "mimetype": "text/x-python",
   "name": "python",
   "nbconvert_exporter": "python",
   "pygments_lexer": "ipython3",
   "version": "3.5.2"
  },
  "toc": {
   "colors": {
    "hover_highlight": "#DAA520",
    "running_highlight": "#FF0000",
    "selected_highlight": "#FFD700"
   },
   "moveMenuLeft": true,
   "nav_menu": {
    "height": "102px",
    "width": "252px"
   },
   "navigate_menu": true,
   "number_sections": true,
   "sideBar": true,
   "threshold": 4,
   "toc_cell": false,
   "toc_position": {
    "height": "796px",
    "left": "0px",
    "right": "1046px",
    "top": "106px",
    "width": "212px"
   },
   "toc_section_display": "block",
   "toc_window_display": true
  }
 },
 "nbformat": 4,
 "nbformat_minor": 1
}
