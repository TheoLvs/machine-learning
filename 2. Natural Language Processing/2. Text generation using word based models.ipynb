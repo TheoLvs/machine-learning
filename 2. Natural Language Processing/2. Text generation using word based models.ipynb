{
 "cells": [
  {
   "cell_type": "markdown",
   "metadata": {},
   "source": [
    "# Text generation with LSTMs\n",
    "![](https://tc.sinaimg.cn/maxwidth.800/tc.service.weibo.com/cdn_images_1_medium_com/58ad765e09eacb5116c9dfc5897c7296.png)"
   ]
  },
  {
   "cell_type": "markdown",
   "metadata": {},
   "source": [
    "This notebook is an attempt to reproduce the results from the official Keras example on text generation. <br>\n",
    "All credits are to François CHOLLET, the Keras author. "
   ]
  },
  {
   "cell_type": "code",
   "execution_count": 1,
   "metadata": {
    "ExecuteTime": {
     "end_time": "2018-03-30T12:15:15.080500Z",
     "start_time": "2018-03-30T12:15:13.045500Z"
    }
   },
   "outputs": [],
   "source": [
    "# Usual\n",
    "import os\n",
    "import matplotlib.pyplot as plt\n",
    "import pandas as pd\n",
    "import numpy as np\n",
    "import sys\n",
    "import time\n",
    "from tqdm import tqdm\n",
    "\n",
    "# Autoreload\n",
    "%load_ext autoreload\n",
    "%autoreload 2\n",
    "%reload_ext autoreload\n",
    "%matplotlib inline"
   ]
  },
  {
   "cell_type": "code",
   "execution_count": 2,
   "metadata": {
    "ExecuteTime": {
     "end_time": "2018-03-30T12:15:19.852500Z",
     "start_time": "2018-03-30T12:15:15.105500Z"
    }
   },
   "outputs": [
    {
     "name": "stderr",
     "output_type": "stream",
     "text": [
      "Using TensorFlow backend.\n"
     ]
    }
   ],
   "source": [
    "from __future__ import print_function\n",
    "from keras.models import Sequential\n",
    "from keras.layers import Dense, Activation\n",
    "from keras.layers import LSTM\n",
    "from keras.optimizers import RMSprop\n",
    "from keras.utils.data_utils import get_file\n",
    "import numpy as np\n",
    "import random\n",
    "import sys"
   ]
  },
  {
   "cell_type": "markdown",
   "metadata": {},
   "source": [
    "***\n",
    "# Preparing the dataset\n",
    "## Getting the raw data"
   ]
  },
  {
   "cell_type": "markdown",
   "metadata": {},
   "source": [
    "##### Read a dataset of songs lyrics"
   ]
  },
  {
   "cell_type": "code",
   "execution_count": 3,
   "metadata": {
    "ExecuteTime": {
     "end_time": "2018-03-30T12:16:26.448500Z",
     "start_time": "2018-03-30T12:16:24.947500Z"
    }
   },
   "outputs": [],
   "source": [
    "dataset = pd.read_csv(\"C:/data/text_generation/songdata.csv\")"
   ]
  },
  {
   "cell_type": "markdown",
   "metadata": {},
   "source": [
    "##### Select a subset of 1000 songs"
   ]
  },
  {
   "cell_type": "code",
   "execution_count": 4,
   "metadata": {
    "ExecuteTime": {
     "end_time": "2018-03-30T12:16:28.618500Z",
     "start_time": "2018-03-30T12:16:28.333500Z"
    }
   },
   "outputs": [],
   "source": [
    "text = \" \".join(list(dataset.text.head(1000)))"
   ]
  },
  {
   "cell_type": "markdown",
   "metadata": {},
   "source": [
    "## Preprocessing the data"
   ]
  },
  {
   "cell_type": "code",
   "execution_count": 7,
   "metadata": {
    "ExecuteTime": {
     "end_time": "2018-03-30T12:17:26.628500Z",
     "start_time": "2018-03-30T12:17:26.212500Z"
    }
   },
   "outputs": [],
   "source": [
    "from nltk.tokenize import wordpunct_tokenize"
   ]
  },
  {
   "cell_type": "code",
   "execution_count": 9,
   "metadata": {
    "ExecuteTime": {
     "end_time": "2018-03-30T12:17:54.264500Z",
     "start_time": "2018-03-30T12:17:53.807500Z"
    }
   },
   "outputs": [
    {
     "name": "stdout",
     "output_type": "stream",
     "text": [
      "corpus length: 1170215\n",
      "total tokens: 10982\n"
     ]
    }
   ],
   "source": [
    "print('corpus length:', len(text))\n",
    "\n",
    "tokens = sorted(list(set(wordpunct_tokenize(text))))\n",
    "print('total tokens:', len(tokens))\n",
    "token_indices = dict((c, i) for i, c in enumerate(tokens))\n",
    "indices_token = dict((i, c) for i, c in enumerate(tokens))"
   ]
  },
  {
   "cell_type": "code",
   "execution_count": 15,
   "metadata": {
    "ExecuteTime": {
     "end_time": "2018-03-30T12:19:08.831500Z",
     "start_time": "2018-03-30T12:19:08.447500Z"
    }
   },
   "outputs": [],
   "source": [
    "text_tokenized = wordpunct_tokenize(text)"
   ]
  },
  {
   "cell_type": "code",
   "execution_count": 16,
   "metadata": {
    "ExecuteTime": {
     "end_time": "2018-03-30T12:19:15.414500Z",
     "start_time": "2018-03-30T12:19:14.929500Z"
    }
   },
   "outputs": [
    {
     "name": "stdout",
     "output_type": "stream",
     "text": [
      "nb sequences: 87428\n"
     ]
    }
   ],
   "source": [
    "# cut the text in semi-redundant sequences of maxlen tokens\n",
    "maxlen = 10\n",
    "step = 3\n",
    "sentences = []\n",
    "next_tokens = []\n",
    "for i in range(0, len(text_tokenized) - maxlen, step):\n",
    "    sentences.append(text_tokenized[i: i + maxlen])\n",
    "    next_tokens.append(text_tokenized[i + maxlen])\n",
    "print('nb sequences:', len(sentences))"
   ]
  },
  {
   "cell_type": "code",
   "execution_count": 18,
   "metadata": {
    "ExecuteTime": {
     "end_time": "2018-03-30T12:20:09.001500Z",
     "start_time": "2018-03-30T12:20:08.689500Z"
    }
   },
   "outputs": [],
   "source": [
    "sentences = sentences[:500]"
   ]
  },
  {
   "cell_type": "code",
   "execution_count": 21,
   "metadata": {
    "ExecuteTime": {
     "end_time": "2018-03-30T12:20:26.459500Z",
     "start_time": "2018-03-30T12:20:26.140500Z"
    }
   },
   "outputs": [
    {
     "name": "stdout",
     "output_type": "stream",
     "text": [
      "Vectorization...\n"
     ]
    }
   ],
   "source": [
    "print('Vectorization...')\n",
    "x = np.zeros((len(sentences), maxlen, len(tokens)), dtype=np.bool)\n",
    "y = np.zeros((len(sentences), len(tokens)), dtype=np.bool)\n",
    "for i, sentence in enumerate(sentences):\n",
    "    for t, token in enumerate(sentence):\n",
    "        x[i, t, token_indices[token]] = 1\n",
    "    y[i, token_indices[next_tokens[i]]] = 1"
   ]
  },
  {
   "cell_type": "markdown",
   "metadata": {},
   "source": [
    "***\n",
    "# Create the model"
   ]
  },
  {
   "cell_type": "markdown",
   "metadata": {},
   "source": [
    "##### Creating the model"
   ]
  },
  {
   "cell_type": "code",
   "execution_count": 22,
   "metadata": {
    "ExecuteTime": {
     "end_time": "2018-03-30T12:20:39.102500Z",
     "start_time": "2018-03-30T12:20:38.147500Z"
    }
   },
   "outputs": [
    {
     "name": "stdout",
     "output_type": "stream",
     "text": [
      "Build model...\n"
     ]
    }
   ],
   "source": [
    "# build the model: a single LSTM\n",
    "print('Build model...')\n",
    "model = Sequential()\n",
    "model.add(LSTM(128, input_shape=(maxlen, len(tokens))))\n",
    "model.add(Dense(len(tokens)))\n",
    "model.add(Activation('softmax'))\n",
    "\n",
    "optimizer = RMSprop(lr=0.01)\n",
    "model.compile(loss='categorical_crossentropy', optimizer=optimizer)"
   ]
  },
  {
   "cell_type": "code",
   "execution_count": 23,
   "metadata": {
    "ExecuteTime": {
     "end_time": "2018-03-30T12:20:58.347000Z",
     "start_time": "2018-03-30T12:20:58.038000Z"
    }
   },
   "outputs": [],
   "source": [
    "def sample(preds, temperature=1.0):\n",
    "    # helper function to sample an index from a probability array\n",
    "    preds = np.asarray(preds).astype('float64')\n",
    "    preds = np.log(preds) / temperature\n",
    "    exp_preds = np.exp(preds)\n",
    "    preds = exp_preds / np.sum(exp_preds)\n",
    "    probas = np.random.multinomial(1, preds, 1)\n",
    "    return np.argmax(probas)"
   ]
  },
  {
   "cell_type": "code",
   "execution_count": 35,
   "metadata": {
    "ExecuteTime": {
     "end_time": "2018-03-30T12:48:58.144500Z",
     "start_time": "2018-03-30T12:48:57.562500Z"
    }
   },
   "outputs": [],
   "source": [
    "def generate_song(start_sentence = None,temperature = [0.2,0.5,1.0,1.2]):\n",
    "    if type(temperature)!=list: temperature = [temperature]\n",
    "    if start_sentence is None:\n",
    "        start_index = random.randint(0, len(text_tokenized) - maxlen - 1)\n",
    "        start_sentence = text_tokenized[start_index: start_index + maxlen]\n",
    "    else:\n",
    "        augment = lambda x : \" \"*(10-len(x))+x\n",
    "        start_sentence = augment(start_sentence)\n",
    "\n",
    "    for diversity in temperature:\n",
    "        print()\n",
    "        print('----- diversity:', diversity)\n",
    "\n",
    "        generated = ''\n",
    "        sentence = start_sentence\n",
    "        generated += \" \".join(sentence)\n",
    "        print('----- Generating with seed: \"' + \" \".join(sentence) + '\"')\n",
    "        sys.stdout.write(generated)\n",
    "\n",
    "        for i in range(400):\n",
    "            x_pred = np.zeros((1, maxlen, len(tokens)))\n",
    "            for t, token in enumerate(sentence):\n",
    "                x_pred[0, t, token_indices[char]] = 1.\n",
    "\n",
    "            preds = model.predict(x_pred, verbose=0)[0]\n",
    "            next_index = sample(preds, diversity)\n",
    "            next_token = indices_token[next_index]\n",
    "\n",
    "            generated += \" \"+next_token\n",
    "            sentence = sentence[1:] + [next_token]\n",
    "\n",
    "            sys.stdout.write(\" \" + next_token)\n",
    "            sys.stdout.flush()\n",
    "        print()"
   ]
  },
  {
   "cell_type": "code",
   "execution_count": 36,
   "metadata": {
    "ExecuteTime": {
     "end_time": "2018-03-30T13:00:58.002500Z",
     "start_time": "2018-03-30T12:48:58.149500Z"
    },
    "scrolled": false
   },
   "outputs": [
    {
     "name": "stdout",
     "output_type": "stream",
     "text": [
      "\n",
      "--------------------------------------------------\n",
      "Iteration 1\n",
      "Epoch 1/1\n",
      " - 6s - loss: 4.9068\n",
      "\n",
      "----- diversity: 0.2\n",
      "----- Generating with seed: \"hand in hand . Remember , The night was so\"\n",
      "hand in hand . Remember , The night was so a a - a - a - a a a a a a - a a a a a - - - a a - a a a - a a a a a a a - a a a a a - a a - a - a a a a a a a - ' - - a a - - a a - - a - a a a a a a a a a a a a a - a a a a a a a a a a a - a a a a a a a a a a a - a - a a - a a a a a , a a - a a a - a a a a a a a a a a a a a a a - a a a a a a a a a a a a a a - a a - a a a a a - - a - a a a , a a a a a a a a a - a a - a a a a a a - a - a a a - a a a a a a a a a be - a a a - a a - a a a a a a - a a a a a a a a a a a a a a a a a a a - - a - - a a a - - a - a a a a a a - a a a a - - a a a - a - a a a a a a a a a - - a a - a a a a a a - a a a a a a a a a a a a a a - a - a - a a a a a - a - m a a - - a a - a a - a a a a a a a a a a a a a - a a a - a - a a - a - - a a a a a a a a a a a - a a - a a a a a a - a a a - a - a a a a a - a a a a a a a a\n",
      "\n",
      "----- diversity: 0.5\n",
      "----- Generating with seed: \"hand in hand . Remember , The night was so\"\n",
      "hand in hand . Remember , The night was so a me ' - a a a a could ll ll ' me me , a ' that a re ' - - dumb is Take a , - am a - me - Bang a - my a - a a a life dumb dum forgive a a could a - - a a - - - a a - I - ma a - - that that and a me - be a re me time hum - - and a as throwing - - - , a ll hum As Oh as of a - ' if a a a - a - a a - - a return my ' a , a ( - a a We a a - - ll m felt me a a a a , - As fool a a Andante a a a a it a me a a with m if m a a a a ll - a a a a a ll - a a a a a a a a that a - as a ma that a a ll dum a a a could boom a her a a - that be a - as - I a - sender , a a - Oh a - me me ' me ll - - as - a - , a me a be could to Always a - - - new - - , a - - a a , it - a it ll - a - a , as song - mine - ' - and end a a me , - if ll - , - a a ' a it - - a - ll - a We and Bang , - Oh - a - a a dumb a a a a - a - m as you , to - as a a - my - a that , a a a a think as , a a and - - me a , ma boomerang ll and a a ll as m - a if be a as a - - a a thank a a a as - , be - be be - - - a - dumb a - a a - - a - me - a that that how a a - m a a a please be a a a and\n",
      "\n",
      "----- diversity: 1.0\n",
      "----- Generating with seed: \"hand in hand . Remember , The night was so\"\n",
      "hand in hand . Remember , The night was so with Andante hum her that is I is can creep m is and guitars , it a notion get Gotta you - Always near me of As ' ) advice Play a dumb Is the - Don new m And a - know again And new a God mine tune song that ma it - is boomerang and - song means for Every to of - it it as forgive girl ll feels re felt love - , life always the face me - ma my - take - a my a fine holds please hum as that a as s near ll Andante slather , - to dum ) you time - your - ( - ma think Andante look m , I a m talking tune tune hum could gently Oh Gotta and ' mine , let girl Always re - strong return ) dumb you as m re life your as Oh ll that , found , much Always ) Every is music can ' sender you Tread you A a so ' dumb me me a , please a dumb a a boom hum And I can song dumb be take a dumb roamed Oh if life as Never Never Feel and - if tender we found in ' a much , a - as away ) ' we sender hum if - leaves how Oh could re ' it to Touch Like Andante that it around ) be can in anymore near boomerang - hum hum if a You me ll m away dumb As showing that a you making a good could anywhere and to yourself is a can Sweet ' happy talking for you dum somebody to that We a ) ever mistake my a such is you I Never mine good music , be it your is We much give ' know me be a a dumb And butterflies be - a , - yourself Sweet on dum be - you As a me dum , boom a me Yes bang m it girl the life Every if on me I down be , my am I bang a me be a ma so please boom too a howda it on boomerang anymore - life you - a and will Like be butterflies hum make and much dumb be a life - Nah song it Every a feels Gotta , - you\n",
      "\n",
      "----- diversity: 1.2\n",
      "----- Generating with seed: \"hand in hand . Remember , The night was so\"\n",
      "hand in hand . Remember , The night was so your ( she feels me much nijtht please music m it enough tune throwing Dumb know a your Take enough - and as be a girl makes boomerang Yes baby face somebody end time anymore near and I my - Yes - s I if better a a - - hum know new my make baby song think is me a me By much fool t ' I love dimension show much , You on for boom as her By as - ' they a and felt We and think Completely me love her my away a please m again love me a t could and notion Make bata - darling that ll and squeezes be Love sing You mattered love at I music I could forgive Never take - felt Bang as re think me boom ll love - Never a be put as re to creep Never a You sing dumb ' Touch m if make a Never Always could Oh Singin it tender and ma , holler a - ma be butterflies , a hum sender and Oh sandpit that ' feel - song make Gotta the it so is m and learn ' near ' - my that Andante , - boom new ' is Never m ) is I fool such straws be - better question Darling how it ' make could Dumb God am with kisses Oh fine a again flap s Yes a dum leaves forgive I You can much a why on anymore it love Quench , Feel my lied We on you boomerang of We you somebody think You a - is sender her We boom ) ' bang - kisses re show tender - you if ) it dum smile - much found think make down me control smile m music tender song m I leaves a dum beg a a that soft Dumb your song a a put smile ' You m ( a m Along your You talking As is , butterflies if ma a butterflies again Every such thank that song near it slow is can tender a is a ( am return re song we - Bang You Eat ma a as , as on in away forsaken advice market tool song let am return please - it aura mine bang forgive again - I - a I show Never love girl I Andante ll m\n",
      "\n",
      "--------------------------------------------------\n",
      "Iteration 2\n",
      "Epoch 1/1\n",
      " - 6s - loss: 4.9250\n",
      "\n",
      "----- diversity: 0.2\n",
      "----- Generating with seed: \"Bay And if you ' re thinking about romance And\"\n",
      "Bay And if you ' re thinking about romance And - - - - - - - - - - - - - it - - - - - - - - - - - - , - - , - - - - - - - and - - - - - - - - - - - - - - - - - - - - - - - - - - - - - - - - - - - - - - - - - be - - - - - - - - - - - - - - - - - - - - - - - - - - - - - - - - - - - - - , - - - - - - - - - - - - - - - - - - - - - - - - - - - - - - - - - - - - - - - - - - - - - - - - - - - - - - - - - - - - - - - - - - - - - - - - - - - - - - - - - - - - - - - - - - - - - - - - - - - - - - - - - - - - - - - - - - - - - - - - - - - - - - - - - , - - - - - - - - - - - - - - - - - - - - - - - - - - - - - - - - - - - - ' - - - - - - - - - - - - - - - - - - - - - - - - - - - - and - - - - - - - - - - - - - - - - a - - - - - - - - - - - - - - - - - - - - - - - - - - - - - - - it - - - - - - - - - - - be - - - - - - - - - - - - - - - - - - - - - - - - -\n",
      "\n",
      "----- diversity: 0.5\n",
      "----- Generating with seed: \"Bay And if you ' re thinking about romance And\"\n",
      "Bay And if you ' re thinking about romance And be be I be - , be it You - and dum , - is a boom ' - - ' be Love - ma a it - - be be - - - ma in ' on dum gently a - ' a dumb she be I - dum you dum - it I be , ma - - - - ( - , - - Feel boomerang ' - such be and you You ( - a I - I - , - ' I that ( - me You song Love - and - - it Oh - - - love - ' - you - to - ' you let strong - please - , is ' much ' , and Love love and be - - , - I a - , - ' - - , boom your - in - - ' please , - ( ' , is ma stay - - - be ' - - that - - Oh - - - - a - down cause - that - I be - I be and have ' ever - be be you can - boomerang ' , , that - ( I ) - ' , ( it you So - - be me of ( was - be me - dum be - Oh - , , it - could - and - - to dum - be and - it - it - a ' be - and a you ' ) - - please bang and ' - love - dumb be - - it - - - - be Play - be be ma ' - song - me me and you to ma dum ma - - dum - near you - - how - of ' it - - - - - - ' love - and and ' , - - - be m - - - be be and is , Andante , it and you and - - ma ( I - ma can - - your - - , - - - I dumb , you love - , - that as , Let - - s to - dum ' - it ma ' ' me ma I ' ll - - - , it - ' - to I , and - I song , and -\n",
      "\n",
      "----- diversity: 1.0\n"
     ]
    },
    {
     "name": "stdout",
     "output_type": "stream",
     "text": [
      "----- Generating with seed: \"Bay And if you ' re thinking about romance And\"\n",
      "Bay And if you ' re thinking about romance And question - dumb gently somebody ever re Yes - to Andante it ' m please dumb I be it ' feel is a will dum with a - - Never your tool - a - you - am hum boom You notion ' music , m hum your hum my put song boomerang your a - m ) ' And - and Love you dum ma We m creep you you ma - - the cause if boom is and ' And and girl - I it anywhere dumb can Just happy learn Never make As give Gotta my that at ll You Oh a dum please a it as , if Gotta to strong can As you Always fuck I I can feel she I - me I boomerang sender sender Twice ) ll By return away you it sender felt you ma - think and life found and down Let to - return and such will You and love ( Always You I As dimension if use be ' a away Sweet if is notion please boom make be - love I a park song - ma yourself boom Never and it be ' You felt strong you that I - - you - dum how - I be you dum - away a And - tender a and Play song - I a a a notion re We notion boom be could can Play God dum me boomerang notion that - Andante of throwing it throwing on Oh is and so dum squeezes Oh - as on good and and is be - , question if - learn - showing be , dumb - little you you - my - ' that of was you if song and that - is boomerang bang - I cause you you showing too is life , a - down bang be a - mean I at song soft - , - tender - ma - the ' ma felt you Never you as re as think I ) slow it thank ma you - - make and ma a your I use be in me away Oh you is re ( boomerang dum m ' a is make Love ll and your ' ( use ma around fine m - Gotta on a love that bang me thank So We , every Every make be I bind ) love hum\n",
      "\n",
      "----- diversity: 1.2\n",
      "----- Generating with seed: \"Bay And if you ' re thinking about romance And\"\n",
      "Bay And if you ' re thinking about romance And dum hum let put As be ll Touch Andante be - it makes park can Gotta that return kisses be I please ' , face hum Andante soft ll always Every feel away you near that forgive put as hurdy be have mean Oh on You boomerang that hum girl they t So think song make you the You ( use - a ) you dumb Feel it dum your ma making it I is smile please - advice boomerang ) please ' sender to tender love park be dumb felt m Play think Always Love tender please ma - We in leaves look use a We as it - on ma that your feels - t boomerang Oh a feel ' So m dum be show you leaves away ll a - - sing talking her me - Make Always my , - , life the , feels Lordie be - you tender was mistake to for in hum it As - it used - ) it if Tread in sender your sender be use of , she ) it love every Gotta ll ll ( - ridden ma But Take stay if stopped cause dum - ( boomerang a Always hum me your ll As God advice It that is stay hum could Minister around and boomerang in my Sweet , - Andante This ever be felt bang please Love dumb me be in crowd - kisses - , look why if , found ma a can I - t think demonstrations so anywhere take boomerang - showing boomerang Dumb butterflies ) , I - can - Always ll know - bang Play Tread better you you ma ( boomerang to Gotta notion used boomerang smile Oh the learn Touch Yes s a - By ' please ( beg always leaves Don when Bang a joe - with - Yes ' the you ' tool ma song girl be ' Every quiza they ' Gotta feel at tune can dumb hum Let song be always notion dum too boom Does me be fairer be ' she is question - summer - creep , Make making makes a Always So a of I mon Dum So sing love - ' ' ) s - mine can your can that - and life is Love Tread anywhere ' new Love your your Love it to a again you advice be\n",
      "\n",
      "--------------------------------------------------\n",
      "Iteration 3\n",
      "Epoch 1/1\n",
      " - 6s - loss: 4.9455\n",
      "\n",
      "----- diversity: 0.2\n",
      "----- Generating with seed: \"hand And a boy became a man Once upon a\"\n",
      "hand And a boy became a man Once upon a , , , , , , , , , , , , , , , , , , , - , , , , , , , , , , , , , , , , , , , , , , , , , , , , , , , my , , , , , , , , , , , , , , , , , , , , , , , , , , , , , a , , , , , , , , , , , , , , , , , , , , , , , , , , , , , , , , , , , , , , , , , , , , , , , , , , , , , , , , , , , , , , , I - , , , , , , , , , , , , , , , , , , , , , , , , , , , , , , , , , , , , , , , , , , , I , , , boom , , a - , , , , , , , , , , , , , , , , , , , , , , , , , , , , , , , , , , , , , , , , , , I , , boom , , , , I , , , , , , , , , , , , , , , , , , , , , , , , , , , , , , , , , , , , , , , , - , - , , , , , , , , , , , , , , a , , , , , , , , , , , , , , , , , , , , , a , , , , , , , , , , , , , a , , , , , , , , , , , , , a , , , , , , , , , , , , , I , , a I , , , , , , , , , , , , , , , , , - , , , a - ,\n",
      "\n",
      "----- diversity: 0.5\n",
      "----- Generating with seed: \"hand And a boy became a man Once upon a\"\n",
      "hand And a boy became a man Once upon a , , , , , - , Andante is ' , ) , , girl Andante ll - a - - , , , I , , , , , you - away , , , ' as , , - , hum , , - you , , I on dumb ( and , , is , a Oh , I ( , my I make , , I , , is , , , , , - ' - dum boom So I , as , dum , , dum , , so a so a , , return my , , I as , , that you dum I , , dum ) , , , - , Gotta , know holds , I me a , dumb dum , is , a a , , As a dumb is , girl , a ma fine , , , - , , think - m ' , is hum make a think , - , - you is such ' you my , , , that - , , - , boom , dum - hum so - , I to a , - - , dum , you - , , , ' - you , me - me - , , , dum - , As , , I you , , dum a , , , a , , ' , , near think - my , a , is Touch - , I , is please - you , , I - , , I dum - a By as , a is , , Yes , , a my , , - is my , dum me is , how - , , , , , , , , , , make , is , , me am that , can hum , , - girl , as , a , , , ma , a , , , , , , make a , , , you boom , why , dum , , the , , , I I - - , , boom , dumb Andante ll , , Andante ' ) I , - boom , you you , anymore , - , ) , , please , my - you is , my , a a always ) ' , ll , as , I , a\n",
      "\n",
      "----- diversity: 1.0\n",
      "----- Generating with seed: \"hand And a boy became a man Once upon a\"\n",
      "hand And a boy became a man Once upon a me your , A , know with love squeezes the So Darling , Take is - know showing think , my , my music - around use I ' ll , baby girl you beg fine And Andante dum makes dum boomerang , Gotta your love my boom ll ' tender it talking as dumb Oh look that I be , the - Yes every dumb be my such - mean me ) you ma So near me s summer song love she - it , a ma squeezes walk So boom Like Oh , let ' to By how s it , mistake that a Play boom - think , butterflies ' hum make please and , hum is my Never better - in me boom m fine make , enough as m gently have Sweet to love dum dum Love mean her girl let I ' Andante stay and please ' you please Andante ' , my ' love boomerang So Andante God - leaves ll and Take a , a , they t know Andante m walk is As is dum - ll spent and Never girl Love Yes dumb can Love a So look much , , new Dumb can , Sweet to Always near So be my s a Never Every think dum bang - tune ) beg much , hum be I can Darling Gotta around , - - you feel , Oh Gotta thank ) I make in boomerang - I nauseous , me ll Yes , if your if your Love ma , ' how if - , have on I you a is to You , And creep - away make life Andante if my Play Oh I leaves think could boom new your make as - ) , a the Love can a in I Oh away re get is Andante make Love tune love I learn ' a ma have make of love it ma love down me ma m every the could I you Oh bang me me please was so - Sweet - learn dumb - they bang on a a my make you music Make cause learn m ' a I ma Dumb can summer and A sing down know will can as make a t summer life sender dumb my , dum dum as make stay ma a a , dum - how think )\n",
      "\n",
      "----- diversity: 1.2\n",
      "----- Generating with seed: \"hand And a boy became a man Once upon a\"\n"
     ]
    },
    {
     "name": "stdout",
     "output_type": "stream",
     "text": [
      "hand And a boy became a man Once upon a Every baby love dum soft to take ) , love Andante Dumb ll t late as song return you your they my think re gently - sing Make throwing cause I squeezes As around life ma to feel Feel Bang be she dum baby Busy ' ma ) , notion , hum dum and a tune is let I used ( Darling be , fool And stay get Always Tread boom my God Dum dum And dum , return Always down ' me as Play Feel ever boom love get m God the as summer please please is throwing better anymore holds fooling always new Sweet look tune Let cause better why - it Oh think , as fine is , beg , - - dum love Dumb dum means a - , that Every pray butterflies Dumb your dum that , it near again I my dumb song new So gently so again blond Every m ma a make Play near mine with m please think leaves again boom in Oh life ma , a always good gently sender tune tune Andante that is at she good makes for feels squeezes Don can yourself can ma But creep girl hum look learn Andante I ma , , I - , - your a how be , Tread so a as make As think the sender dum ' so a near take so ' re dum Is , squeezes fine when Andante the life thank away , dumb think away dum , boom a m Never that , Oh I is you such ma as dum near - Andante you beg bang mean Love that so better , ( make s in slow dumb little time , be dumb , Never love brokenhearted ( t near face is Is - hum dumb dum , , bang And , I the ) Never give girl a be t sender Never ll my A a ll play song Love I squeezes and a ) monks fine As Dum ll bang a enough s Every slow girl summer Play when is , so if little I tool good , fine lover a ' , again Adrian , were mistake ' dimension dumb love As ma she is forgive strong , stay , , bang is you ma me so - I will such smile ll sing to Play to my you tune me\n",
      "\n",
      "--------------------------------------------------\n",
      "Iteration 4\n",
      "Epoch 1/1\n",
      " - 6s - loss: 4.9407\n",
      "\n",
      "----- diversity: 0.2\n",
      "----- Generating with seed: \"' up ( I have been waiting for these visitors\"\n",
      "' up ( I have been waiting for these visitors - - - - , - - - - - - - - - - - - ' - - - - - - - - - - - - - - - - - - , - ' - - - , - a , my - , - , - - ' - - - - - - - my , - - - - - a - - - - - - - - - - - - - - - - - - - - - - - - - - - - - - - - - - - - my - , ' - - - - - , , - - - - - - - - - - - - my - - - - ' - - - - - my - - - - - - - - - - - - - , , - - - - , - - - - - - - - my - - - - - ' - - - - - - - - - - - - ' - a - - - - - - - , - - , - - ' - - - - - - , - - my - - - - , is - - - - , - - - - - , - my - - - me - - - - - ' - - - , - - - - - , - - - - - ' - , - - - - - - , - ' - - - - - - - - - , - - - , - - - - , - ' - - - - , , , - - - , - - - - - - - - - - - - - - - - - - - my - - - - - - - - - , - - - - - - , a - - - - - ' - - - - - - - , - a - - - - - - - - - - - - - - - - , - - - - - - - - - - - - - ' - - - - - - - - - - - - -\n",
      "\n",
      "----- diversity: 0.5\n",
      "----- Generating with seed: \"' up ( I have been waiting for these visitors\"\n",
      "' up ( I have been waiting for these visitors and - , is - girl - is - my Andante my ) - - ) I - a , ll around - - , You away that I dumb ' and Oh - dumb - - - s is - you , be love , - to dum , ' , - - - be my a - me be you So re ' hum , ' a , - , think - Gotta - - ' - is - a ' - - - I as it Andante , is , ' - , a is , , you - , - - - I - - - ' ' Andante my boomerang boom - ' I a - I a can , ma a ' ma , - Andante my a - I , , - , re , - away ' a a Andante , - my is my my a down ' my - - it my - - - be - - - - - ma a Andante I Every - - you , - my is be - ) - - re - you ' ) could ma my - , - ' , - song , - - - be ' is holds ' - - my I , - - , ' a - my - me - ) ' - Oh a ' , you you forgive ma I ' is ) - , ) , - - - - ' ( ' , that - - - - , , , ' - is - think my be ma my , my - ' and - Dum ma , - a re - - ma , ) you a - - - be as I , you - ' , my - you - my be , , ' my - be my as a - , - , - ' a - ' you strong near strong - a I , - boom s - is ) - - , - a , Andante - dum - , is is you - when ' is , - - be - it - - a - my - , boom - is you - - I - a - - my - - my away , - as - my they - - ) think - - Oh and\n",
      "\n",
      "----- diversity: 1.0\n",
      "----- Generating with seed: \"' up ( I have been waiting for these visitors\"\n",
      "' up ( I have been waiting for these visitors ( You slow Andante , ll - Feel on I makes you making dumb ( my you , tune fool , , Is me ) your it showing strong ) question ) makes I it Andante - and fine Touch to know Bang Dumb ' - on enough mine ) ma it is - We , - think ' as me please a a she God down it By me a I is , , Just Andante such dum you a ' life ' summer hum hum Love Every used she dumb notion you a dumb dum ' - if soft ' it the me girl I - Every can ' a and m my , a Always I little Andante , gently - my butterflies Is dum re and makes me think creep love boomerang By her dumb it they me Every - my , summer ma Oh m - and is strong be - Love as , Oh - makes always , , fool a my a ' love - , you song squeezes ll s ( ' , think re - m dum take throwing am mine Never girl - me to a me sing ll holds were is gently - boom ' re she much your makes me every girl am love it think Take ( it song - dum my - my making makes a Andante let give take life gently with song and ) Every a a m mine boom use makes that be as is ' - go my Just , how ever were ' is rude you is think music happy it tool Dum every sing you to is as - love and my and near - I I and ( think Dum be new , strong makes so makes in Yes to summer ( life anymore summer you You ll Oh yourself , you go me so me Bang s butterflies to , ll how girl a a can anywhere song ' park have - time is God my t your me think ' ' - song bang is By But is - Like as , how dumb that away be such to her and So is s - ' feels , and with give t dimension your ma you Never ma ' a Never - ' stay anymore anymore ( a is you yourself boomerang Every can ( of you\n",
      "\n",
      "----- diversity: 1.2\n",
      "----- Generating with seed: \"' up ( I have been waiting for these visitors\"\n",
      "' up ( I have been waiting for these visitors your let ' Andante As , bang you Love cause better stand Andante again her song Yes advice Andante re is Oh such Love Andante , feel dum learn Oh We feels always hum Daydreams dumb near to anymore you makes I leaves - A - go ma ) as - Scully sender ' mine is she Bang return it mine my Take am m think how strong Caves throwing a Gotta every m Andante and I a a Dumb slow Andante face makes - a Every think boom , know ma Andante - - learn your ever girl By ma me and ( my ll felt happy ' song music too s ' - is dumb and pourin - , me dum ' am yourself you dum boom of ( ' question that love re soft be you me soft you good ever and it You Always I be she at little , s Andante Gotta Andante why soft I your We put mine slow my ' why ) Oh a end ' is anywhere down making forgive always mine I as with please holds could t away Darling ll Love your boomerang they Andante is boomerang she - we - hum ll my anymore ma ll m was little it mine is m learn re go to Feel , Andante you to life But Bring , - girl servant much it and she Andante somebody me - it be near every dimension my ' - shrine squeezes a By boom and - Andante baby down Dum is your tool life Feel your my Andante can and Andante , a boomerang Every boomerang , You Darling life girl Oh ll bald By Love - boomerang rides to is be m feel is me go Andante showing boom of , Just to boom strong it hum Oh is make woo , a , near it As use stay - Every fool , Just ' down found means boomerang So , song show , you ma near Its Andante make and ' go As your song - Feel Dum ) - Andante a Love Never my By - song ma my - t ' ll - ' a if song You you to sender ' tune you Just as song me ' stay Every ll Andante - Oh new she is a re re ignition is that re ) , that\n",
      "\n",
      "--------------------------------------------------\n",
      "Iteration 5\n",
      "Epoch 1/1\n",
      " - 7s - loss: 4.9189\n",
      "\n",
      "----- diversity: 0.2\n",
      "----- Generating with seed: \"diapers out ! ( Man ) Okay , baby (\"\n"
     ]
    },
    {
     "name": "stdout",
     "output_type": "stream",
     "text": [
      "diapers out ! ( Man ) Okay , baby ( a - a - a - a me I me I - a - - my - a - I a - me my - me - - I a me me me my I - I a me I ' - - I me me my I re a - a - a my - me - ' - I me - me me - - me - - a I I I me - - a - - a a I - - - a - love me I - - - me me - - I ' - - - me a my - a I - - a a ' a - I - a I a - me - my ' a - a - - a - - - - - - - - - me - - - - me a me - a my - a I - I a girl I I a - - - a me I I a - a - I - - - a - a a I I - my - - my - me - - - I - - I - me I - a a me me I - - - a a - - - - a a me - me - - - - I a me a a - a - a ' - - - a - I - - - - - I - - I I - I me - - I - - me my - - - - me me a I me - I me - I a me ' me a - I I - I - ' a I I - - a I me - me love I - - a my me - - - a - - a ' - - - - a a me - - a me - - - - - - a - I - - my my - me a I a me love - - - - ' a - I a - - a I me me I me a I - me I I - a I a - - - my ' a I - - a - is - - a a my - - - a I - I - - a me - - -\n",
      "\n",
      "----- diversity: 0.5\n",
      "----- Generating with seed: \"diapers out ! ( Man ) Okay , baby (\"\n",
      "diapers out ! ( Man ) Okay , baby ( You me a me ' a - me Take love love a love re me - a be - bang a ' a and I girl ' - could ' ' I be I me - - it dum ) - - - , dum - me me , I Oh a me a - a love re me a ' Oh Andante in ' again I I ' love girl love - , me - me with Oh my me m a a , dum - my ' me if s ' my , boomerang could - ' can s ll re ma me me ( you me to I my be me ' dimension , my I me a I your be girl Oh - a my me of me - my - I re - a dum - new your I me boomerang I can dum - me a I I me I - - I - your a I ' a you - you a my , your ' me be a boomerang ' I me a , - me ma - love a me ' - I my and be ma me ' ' my - I strong love dum I girl me sender I me - anywhere - - me ' love ' be me re as - girl my ever life I love , strong hum s - a can life a , - my a So me I you a me girl you ' me - my making me me - ' a dum - me I ' me makes is a - a me - - - love - - me ll could love a me - I love t me be a sing I I me - - ' I my ' - re a - me ' a be slow a - I a I - me - girl ever me a - be I me I I a - - a - is - ' me - girl ' ' me to - me a I love ' boomerang I a - you me s my ' ever - Never new smile me me me I - - You a I I my me - as I leaves I - be and - me love a your I a - I love re me - ' a could\n",
      "\n",
      "----- diversity: 1.0\n",
      "----- Generating with seed: \"diapers out ! ( Man ) Okay , baby (\"\n",
      "diapers out ! ( Man ) Okay , baby ( in I that thank me love new You if if Andante , Love be you used ( Always with how ' girl Andante Is you with boom dumb me song to me But love always love I my feels be me So I s I and as kisses I on ma end go happy And As ma I , I how ( love be near ( ma - - - boomerang me dum my a beg boom I m and love Darling ( a ' ll re girl take re that as love re dumb - a ' be - - love But and be is ever sorry song a Oh make Andante fine tune found a - boom my You tender a life new always will ' Oh is as to know - a life Tread hum as happy think a - me near girl - dum boom ever Like girl go girl ( Never - dum am a down as when me dumb me - is you Every love Make and , a re you Take - so a me as Never dumb s butterflies talking girl be such to I - dum It that - song were a your I be But look feels my around your - a We , again a dum You can be me as you boom give love a I is ' So song s please walk me I could ' life me ' s love you So her new and - life ( my my somebody my found it my forgive be my a found ever my be my mistake be Just dum - my on me new new notion ' , me girl I As - if a tender a she Andante Yes me away around Gotta your me boomerang you I song sender me make dum look Sweet always you a look feels could It go love could a boom A - is you - use dumb she be t music As ' is s song life my Bang Yes ' anywhere I boom a such if s girl and when ma re makes a ( tender is , my ma it I ever so me re love makes happy park a of ma s hum feels re making You could love life a s it ' I - - away ' a sing my good baby soft again\n",
      "\n",
      "----- diversity: 1.2\n",
      "----- Generating with seed: \"diapers out ! ( Man ) Okay , baby (\"\n",
      "diapers out ! ( Man ) Okay , baby ( fine dum And You dumb re her have ( know notion my such go sender please me me Dum go ' such be am know mine bang on - new she my dumb , making so show anymore notion as a can and , and your Andante it you is dumb music love Take strong I near life a mine re ' ( a Always boom girl leaves new Love will in s Play hum you as - Don makes love that me my was boomerang when give to love ever me and - a is - me By a face m Let me I I ll ( - - - too - on dum is ll - Sweet life dumb love Dumb a that baby Dum used that make Bang - the girl new tune as love By s dum ma she yourself is in making ever m could mistake used fine so me Is to , Play dumb ' t bang m the question of notion is have Bang a on please dum learn in sing leaves somebody to time feels a - end And could Is my if will m - forgive Never - a Tarareabas a ( my I boom Andante so m you love and leaves is am so how - love a new as showing is ll why strong burns ' , - forgive So of so s could - know I a it me and good - go Wonderful your But I at your life as , in bang your my me you sender as Sailin Darling please a ma dimension dumb We that ' new was the new t s I stay Oh such tune sender and get You is again a Never strong me am - a But your Oh hum s me - my By Every - Is stay give - But forgive as if how go is away near your know I please end used me - t Tread me it sing love I re - me Tread me boom ( away - we , feel Feel ma if Play bang will is ever is oooooh Oh we ) eats me Touch if can love - love ) By me again every I hum if a your little ' be s is let take - - always So to soft - love I me But time I such Oh\n",
      "\n",
      "--------------------------------------------------\n",
      "Iteration 6\n",
      "Epoch 1/1\n",
      " - 6s - loss: 4.8968\n",
      "\n",
      "----- diversity: 0.2\n",
      "----- Generating with seed: \"High , high , what a feeling to fly Over\"\n",
      "High , high , what a feeling to fly Over my - a - - - - - - a my my - a - , a - , my - - - - - - - , my - a my - - - - a - - - - - - - - you - - - - - - - - - my - - - a my - - - - - - - - - - - a , - a - - - love - - you - - - - - love - - Oh - - - a - - - - a - - - - - - - - - - , - - - - - - - a - - - - - , - - - - - - - - , - - my ma my me a ' a - - - - - , - - - - - a - my - - - , - - - my - , - - - - - - you - - - I a you - - - a - - , ma - my - - - , - - - - - a - - - - - - you - a a my - a , - a - - - - a - - - - - you - - a - - - - a - - - - - - - you my - , , , - a - - - - - - a - - a - - - - a to - - - - I my - - love - ma - - , ma - - - a a - - , - - - - , - my - - - - a , - - - - - - - - - Oh - my - - - my a - ' - - - - - a , - , - - - , - a - - - a - - - - - - - - a - - - - - a - - - - my - - - my be - - - - - - - - a - - - - - you - - - - , - - - - , - - - - - my - - -\n",
      "\n",
      "----- diversity: 0.5\n",
      "----- Generating with seed: \"High , high , what a feeling to fly Over\"\n",
      "High , high , what a feeling to fly Over , I my - I me - - Bang sender ma love - Oh be - a if - - - you make I face as that my - my down ma love a , hum - , a - dumb me dumb - ma I - my - ' always - - dumb a - - - I sender I , my my I - smile ' , my , you - a ma a a - you could - ll ma - my a squeezes - bang my love is dumb - - a - ' a - hum to me ' ma be ma I a to - song ' I I hum , when - a away me ever ) - I a a I my Oh ma ma - ever - you - a my , a - - - again ma love , that - please - if , - - hum - my you me as you - hum love please you - I Oh my Oh a my - - that love and away be dumb love me girl away , my boom - - my love - - forgive a love a bang a I love a you ll sender I my boomerang my a I I me you a ' Oh hum my - Oh you bang - - ' my my - m ma you - boom my Love I a my , Oh , hum dum dumb it so throwing you anymore a ma you - to - - - love hum my - love could you , a me my , could - you - I me a a - - I love a it , you , a , a love Oh a you ' love a dum - bang ma - girl a you in ' I make am my away dum m - - - , , you you be , my kisses a - ' I - I my - make ma Gotta - me , me ma a , - a ' You , I ' love - ma - a - Andante - - sing dumb and - a ' bang - - you my - you my - if - my I if a - a ma - , ' a dumb my my be I bang , my a\n",
      "\n",
      "----- diversity: 1.0\n",
      "----- Generating with seed: \"High , high , what a feeling to fly Over\"\n"
     ]
    },
    {
     "name": "stdout",
     "output_type": "stream",
     "text": [
      "High , high , what a feeling to fly Over Like let Sweet anymore But - make dumb boomerang boomerang love ' bang think dum a You me m Make - am - of to I dumb - Love music boom my - you ma dum - will you on of bang - to - be your bang dum - face my So ever you you is a gently be how talking re bang make creep t - that Oh we ' - I Take I a , why and dum s was dumb dum found Andante - it you the Closing you It down s I when , I love me Let your ( my anymore please such mine it I Always a Andante - my smile ma Take ' me love , boom me Oh m But Gotta squeezes a ever , making ma As me m make love love - Play be love near means walk as Oh Oh - love look if you boom can the I - , love am ma me your and God , fine gently such ma you was making - sing at my a with I stay So t be it Gotta as talking song found am , can and leaves tool my am was sender they boomerang such Dumb and - to a you I m dumb sing it good - my Love ma notion - song summer hum Love Andante - , my ) of question on you my a ma sing ma So me Touch , love away me song girl your - a As make face so ll mending mine found girl throwing is , fool ll holds tune my ' love of , fine as dumb dumb I if dumb ll You my me always you boom ever - sing tune such somebody - a my re - leaves makes my much a Take Bang Oh to ' let I ma Never But - question sender in bang Like you sing cause leaves be Love you boomerang felt - dumb hum a such her , love I a - me dumb s slow be - baby Every ma that girl sender look she You tune be to anywhere Gotta away give m hum I ll show I love Oh dum ever love my Always please , Take - tender dumb - dumb be , ma felt go boom bang - a me walk boomerang boom you\n",
      "\n",
      "----- diversity: 1.2\n",
      "----- Generating with seed: \"High , high , what a feeling to fly Over\"\n",
      "High , high , what a feeling to fly Over Oh be learn ( it hum dumb let s think gently a hum near ) that Oh dumb dumb Make could boomerang can - Make Dumb you sing could you be much But and hum please Always ( sender be me a as my it fool you a take ' Sweet boomerang slow again s Oh little learn hum me as be Gotta used in - too means you dum much , ' dum ll mine new - m slow with that ' you ' squeezes on Gotta show summer - good enough my Touch boomerang bang Oh creep to song in - hum Every By And and - to ma a So Take hum how Love to leaves I - talking Love show dumb it bang , so return my , We ( a Oh much think slow your dum sender ) of good holds with a away Bang dimension m ma feel the that - why you have Oh my question face be ( away and hum so girl end ( so be make time fine beg s better make as question - ) , ll you m I my fine a were t my return if away take you you it you that and , Doing hum re enough ll m ' m - t boom I mine little ( were ( if dumb I we around song , a of , much , sender So a you m I new song you Oh such you will Dumb down you - your be thank am Gotta sender so stay it me ll be ma unity in Never dimension and girl , and Voodoo you strong summer is , your cause Bang re Bang talking So that away girl your strong It making dumb - put time , - use - anywhere a and You my ' , - dum be as away the me Take boom that girl as and - m Andante a ma slow a cause such strong with my girl I stay , you feels ma let Oh Oh I when ma and be love have a when on so - if anymore hum you away to - m look ll you a squeezes ma me - sing ll hum on makes creep with m summer tender hum me good a love ' , love hum found you a make you girl as '\n",
      "\n",
      "--------------------------------------------------\n",
      "Iteration 7\n",
      "Epoch 1/1\n",
      " - 6s - loss: 4.8882\n",
      "\n",
      "----- diversity: 0.2\n",
      "----- Generating with seed: \"stay like this If possible to the end By now\"\n",
      "stay like this If possible to the end By now a a you a a you you dumb a you you a a a a , a you you - a you a , a , a a a - a a a a you a , you a a a you a you a a a a a , a you a a you a you a a a a a a a a a a a a a you a , a you you a a a , a , a a a , a a a you you a a you a a you a a a a a a a a a a , a a you a a a you a a you a girl a , you a ( a a - a a a , you a a a , a you a a you a you a a you a a a a a you a a you Oh a a - a dumb you a a a a you a you a a a you a is you a a girl a - you a a a a a a a - a a a , you a a a a a you a you a a a a a - you you a you a you a a a a you a a a you you a a a you a you you you a a a a you a a a you you a a a a you a a you a a a you a a a a , a a a a you you , you a a a a a a a a you a a a a a a you you , you a a , a a a , you a you a a you a m and a you a a a a a a a a a a a you a a a a a a a you a a a you you you a a a a you a you you you you a you you a a a you a a a a a a - , a a , a a , you a , a a you - a a a you a a a a a a a a you a a a a a a , a you a you - a you a a a\n",
      "\n",
      "----- diversity: 0.5\n",
      "----- Generating with seed: \"stay like this If possible to the end By now\"\n",
      "stay like this If possible to the end By now dumb will you you , you dum you a - and you you Love away you , girl a you and girl a a - a a and - ' think me you - a love a a boomerang dum a a , ) a boom a is if a it and dumb a a , girl , , boom you a a if a a dumb ' boom boom bang you - fine love such dum you and , you and you , it Never m m you and , , a ( a ll dum - a - me a you ( Feel summer you to a a a on a Andante a - m , and - a you a you , you hum and a me and is , and you - and as , , a , love a a can ) a and and a a Oh you ( anymore a a Never So I you - a boom bang you a dum a be that you you you dum a you you Take if - - and girl boom anywhere a ' I song fine a you Just - - a a girl making re think means - a , - a re , , always dumb bang a a you love you - , a a is ( - , a you dumb if you a , me , you happy you you boom you a if you boom a as showing a a - showing a song - , - , you you dum my you , Love hum a ll ll you Oh , a girl ) song - you a , a you you me , a you ma and m a it , a away Oh you Oh ' - strong ' be ) a is is you Andante , and girl if ' a you you ( me you a dumb a a as you summer and a you you you a - your a you , , that a you - a - for you - you a , , and m s , a you a , a s Andante , my ' , you you you you So so and throwing ' m , - a and , - - and ' a and a a as dum , boom you so a dum\n",
      "\n",
      "----- diversity: 1.0\n",
      "----- Generating with seed: \"stay like this If possible to the end By now\"\n",
      "stay like this If possible to the end By now the , dum it good ma ' ' t tune Oh near tune talking ) - you ( ' ma Sweet a , You hum dumb and felt boom slow forgive it you , , ( and girl Oh and think As , I dimension am , , By and kisses love Oh learn fine girl boomerang a if dum boom Andante that As Darling stay dumb , Gotta hum sing and feels if By Is m you me stay fine boom dumb in you make , leaves away Dumb ) new a Never m you know song Never boomerang know know makes boomerang why Take song you and strong the , face a means , a m always with make you a the how baby Take to hum boom - every But was again dumb you you Take were boom too ) ll You - song anymore fine By - s near ( dumb Play and dumb , your fine to slow is mistake ' ' boom my think re leaves down notion Never me re give if Play have a her ) s Oh your is a , ma hum , stay your song it is sing So with Let go baby leaves she is that t she please me Touch ) , go little as So , ll t Gotta ) again strong ( bang boomerang By away it you girl question be dimension Sweet I ( make my of new Take when a the a make dum we my her found , a - - and she a So music me We and dumb hum ll a boom , and a a ll a and , dum Take if ma bang if away a and of as boomerang dumb And the in And Love Andante girl is ' near Never go - Love - Oh ' a - anywhere ma , can Every m and music smile dumb s life mistake time your Play you fine at show again if girl a you could girl ( away , girl Oh look girl Andante found Feel your Play it - is ll bang s Oh Love on found you anymore a re boom Andante if please new dumb somebody re Never dumb to so you ) is will t dumb with you be fine the take go can return me dimension in and ll cause Oh me\n",
      "\n",
      "----- diversity: 1.2\n",
      "----- Generating with seed: \"stay like this If possible to the end By now\"\n"
     ]
    },
    {
     "name": "stdout",
     "output_type": "stream",
     "text": [
      "stay like this If possible to the end By now my be a feel think ) ll be forgive if , t music get and ex beg can at m anymore ( Love mine squeezes girl on as Take boom ma strong - you hum how of good , be Love a making ( - you re I squeezes I as , can and girl re We - song Dumb as ma so boom she ) Dum boomerang around Oh mistake why mine you if ( let , Always As ma Dum s my Love end enough a a t , - Oh make As hum music ( dumb gently m a Play a go is little much re around away hum and to is t You how boomerang if and ) - found throwing used your how your beg walk love how new a Darling ) fine feel you a s let know - a yourself your me Like girl think boom a Gotta castle end so my strong Dum tool know easier if We As re love ever is ( fine , Dumb - A if s always you down question , fine re , so ( life ' me slow a such when girl Is cause Sweet Oh ) sing boomerang But girl walk of anymore that means near walk ' thank beg my is And she ever , music So of on Love ll can As and me too kisses girl you girl sender good me you - m new , and a dimension girl holds Oh Never it fool leaves Oh show in end As talking somebody , means as as stay m a she boom you hum your new Love dimension anywhere life if boomerang Andante such tool me your Take strong boomerang every for Gotta she be , the love - my song please fool anymore Dumb It By m boomerang Never of stay - dum get s notion Andante baby a how ( Play a girl anymore - we ( ll you Never ll the for Never can dum cause have hum for Take Make somebody as - , new could and So , Take music love go t fool Oh make Andante time always could m is you that Bang ' squeezes m used with could beg cause hum So - ' away much me But You s - if so dum hum ma girl me if a re ' if\n",
      "\n",
      "--------------------------------------------------\n",
      "Iteration 8\n",
      "Epoch 1/1\n",
      " - 7s - loss: 4.9228\n",
      "\n",
      "----- diversity: 0.2\n",
      "----- Generating with seed: \") Now is all we get ( ah - ha\"\n",
      ") Now is all we get ( ah - ha , , , me , , , , , , , , , , me , , , , me , you , , , , , , , , , , , , , me , , , , - , , me , , me , , , , , , ' , , , , , , , , , , , - , , , , me , , , , , a - , , , , , , , , , , , , a , , , , , you , , , , ' ' , , , , , me , , , , , , , me , , , , , , , , , , ' ' , , me , , , , , , , , , ' , , a , I , , , , , , , , , , - , , , , , , , ' , , me , , , , , , , ' , , , ' , ' , , , , , , , , , a , , , , , , , , a , , , , , , , , a , - ' , , , , , , , , , , , me , , , , , , ' , , , , , , , , , , , , , , , me , , , , , , , , , , hum , , , , , , to , , , , , ma , , , , , , , , , , , , , , ' , , , , , , , , me , me , , , , , , ' , , , , , , , a , , , ma , , to , , me , , , , , , , , , , , , , , , , , , , , ma , , , , a , , , , , , , , , , , , , , - , , , , , , , me , , , , , me , , , , , , , , , , , me , , , - , hum , , ,\n",
      "\n",
      "----- diversity: 0.5\n",
      "----- Generating with seed: \") Now is all we get ( ah - ha\"\n",
      ") Now is all we get ( ah - ha my me s , me , boom to my ma it , of , , , hum ll , girl me ma it a a - , ' dumb , , , to ' Love it , , boom a my a dum it my you boom , a , you ll boom and dum ) , , is , you you ) forgive me and am a and - me love ma , creep you , it hum me me , , , my , , me , ' - me to , girl , - ma , hum me to me ' me your - , ma you - and - , me , ' , ll you a hum and boom me , , , , hum - , song boom dumb - it love , a ma A ' gently - ll Andante me , , a - Oh it my m , ' , , love , hum a a to you , , - me , I bang , ( a , hum , I , me , a - to - a me me , - you and ma , you to me you it ma be every to , me ' it ' me I , , ma ll - - , , , me a - ' and ' , , , and - and love and ' ma me ma , boom me look Oh , me ' , boom , love , - ma ll fool , - a a and , you can be me , , ma my , ' hum , me better - dumb a dum ll dum to a me you ma ' - - my a , , a , , Take end it , , , me you , ma Oh , my ma ' , s can ) - you , hum me me a me I me a a again ever boom know be me me , ma as So use , a , and , , me you you , song you Oh - ma you me it me a Like ma me every a ' , ' away - boom it you ' go a - ' a , you me as hum hum , a , a , , you you ' hum , ' me to\n",
      "\n",
      "----- diversity: 1.0\n",
      "----- Generating with seed: \") Now is all we get ( ah - ha\"\n",
      ") Now is all we get ( ah - ha it ma my ' ' girl that me so ' let love I ' So forgive hum Andante thank - hum dumb love Always so Love , Don strong re so boom , it I be ma Andante a Love me I Let Never go for me Gotta , a ' s used a it was boom Is Andante your t You - ma And love to advice tune my love Love and ) my think around God my a talking dum and bang you - again , you the , a and a always hum creep ' it summer the slow to me new You can bang your always could when - sender song is So give a hum Gotta re - , beg somebody put re Oh to Sweet you get used life Never I So boom Dum they how slow ma be take felt hum me , Gotta ' ' you a - know hum - you please it Feel making such down Love - Andante good could playin anymore her it Andante ma look m I be again around boom Oh was tune to t , to they to new dumb love girl so - learn , dumb ll , , dumb it feels , be dumb hum , So can good ' And if you you I boom Andante the a near - ' We tune to , Oh on be re mine strong my hum can dumb hum me my , m end love I creep me hum let , me and forgive fine that always , , Oh hum m - she strong my park Oh go and song make happy makes I girl a ' is me I a me how - you dum bang such I I enough m ' to so , And you boom was So Always so Andante to good Oh forgive hum down I feels a t my gently Yes Oh - makes a is always a Love time dum to Andante mine sing every you love By me when enough ) a me question Oh me - - - makes - Oh ma holds squeezes Oh So , it were and me s , is I , can , away to tool - around ma ma Love her , know was I ma me , ' I So me s so ' know ll ever -\n",
      "\n",
      "----- diversity: 1.2\n",
      "----- Generating with seed: \") Now is all we get ( ah - ha\"\n",
      ") Now is all we get ( ah - ha take stay so to forgive anywhere my , I Andante ll good ll my near So my time ) you Dumb walk strong love you And they I boom love tune ' it song me am a Andante tune , to around can sing show a bang m fool as show , it means , me you I me dimension Sweet me And t gently it at Love with throwing such will ) - ( Oh she the I ' near near m ll new And leaves as tender ' always bang Sweet it feel m used Always I , Is used a show to I Andante park ' , And m - yourself I face me down Is you a have boomerang dumb she as t bang By walk dumb , can let notion a hum we s ll it my as girl me it s , a boom Sweet And makes Oh put her s I in a every ll me look I , you , , Sweet t felt always is hum take tender hum makes It ' baby her know , as you too ma , fine anywhere As show sing ma mean as please end always your - leaves forgive - was Love Every on , - makes ever And m too dumb re girl fine to - , feels , Andante you away smile a dimension put Love creep tune ma ever Touch me me every stay your s ' love could ' it I you a much can boomerang near life it , down can you dumb can Andante and be anymore , re s is me down sender , Yes used You - And Darling to around make my so fool was park , why re she Andante - found t girl , me , ' , Oh - always me it hum boom park girl I always your ' it I to time s show be Love ever you look can And sender - and ll in showing Tread me me lightnin is much always a As , dum - m We Like my know , dumb Touch dum bang be mine be hum can a ll , hum butterflies Never show means it , love as boomerang a to a t Andante of end mine a make , hum Love , song , , I a it she we to\n",
      "\n",
      "--------------------------------------------------\n",
      "Iteration 9\n",
      "Epoch 1/1\n",
      " - 6s - loss: 4.8914\n",
      "\n",
      "----- diversity: 0.2\n",
      "----- Generating with seed: \"Games people play in the middle of the night Watching\"\n"
     ]
    },
    {
     "name": "stdout",
     "output_type": "stream",
     "text": [
      "Games people play in the middle of the night Watching a a a a , a a a a a a a a a a a a a a a a a a - a a you a a a a a a a a a - a ' a a a - - - a a my a a you a a a a a a a a a is a a a a - a a a a a a a a a a a a a a a a a a a a you a a a is a a a a a a a a a a a a a a a a a is a a a a a a - a a a a a a a a a a a - - you a a a - a a a a a a a a a - - a , a - a a a a a a a a ' - a a a a a a a a a a a a a a a a a a a - - a a a a a a ' a ' a a a a a a a a a you a a - a a a a a a - a a a a a - - a a a a a a a you a a a a a a a a a a a - a a a a a a a my - a a a a a , a a a a a a a a a - a - a a a a a a my a a a - a a a a a a a a a a a a - - - ' a a a a a a a a a a a a a my a a me a a you a a a a a - a a a a a a a - my love a a a a you - a a a a a a a a a a a a a a a a you a a you a a a a a a a - a a a a a a a a a - a a a a a a a a a a a a a a a a a a a a - my ' - - a a a a a\n",
      "\n",
      "----- diversity: 0.5\n",
      "----- Generating with seed: \"Games people play in the middle of the night Watching\"\n",
      "Games people play in the middle of the night Watching a me - ' is dum a a a a you a a love my me - you a my dum ' a a ( can you a dum a a you a ' my a is a I ( , - bang is a a dum be song ' love me stay a ma a me a you - Andante , By a a a ' hum - know a a my new you a is - - be me me - a is a a a - a - I you is a I dum a a my a a new Andante my ' a make dum I dum a - my dum ( me - a love , - a make dum - a a a - is love you - dum new go you a is a - a me a boomerang my a a you ( make my ( a dum a a you a a please is a I a , - - dumb you dum ' a a - Oh my a I - I a sender I ever love you is let - ' - it a to you dum dum is is dum a new a a a ( - a love ' your you a a is dum a my me a boom know on is a a a a you boom I boomerang a - a a ' - Oh a , sender ' a ' a - a a love love love By a is anymore my ( ' - my as be dumb a a a I m ' a - a a a ' you girl a a a , - dum a - my ( you a the re a a a a dum a dum a a a you ' Oh is you me is a a ma a ma a your is ( a ' a a a a you a is a Andante a a ( , the is my I - ' a you ' is me - a is a new I to a a gently be ' a - a is a a , a ' - is you ' on ' ( a my my ) ll a ' a ( that is - a a I a - you my a you a me I - is\n",
      "\n",
      "----- diversity: 1.0\n",
      "----- Generating with seed: \"Games people play in the middle of the night Watching\"\n",
      "Games people play in the middle of the night Watching you gently Bang ' boomerang love feels ' , boom I you I beg - - dum ' my and ( boom new was love a face get think , you dumb were sing is Never a Never Andante to tender make a boom is boom it mine look is found a - summer - am you - - I m better Make ' Oh t Andante is love new dum lo I dum a hum , is how dumb dumb that her ma - A squeezes t to the re make is is Gotta could - a is ( my a boomerang me song my learn better make - - the could that As dum means dum ( think ' on mine Yes my ' better creep me is music how boom making smile Darling - love is is me Darling can dum talking I - ma a at new hum Gotta - walk Every me fool girl much Love better your a my ma could go me throwing ' can at with am me my a So such ' you - mine gently face Like a as a sing a re a anywhere of a Oh Gotta - , my if make m me the a ' be as a a t a - ' Sweet cause is throwing can much a ' view love a ' a ' boomerang Oh a sing tender is to will - dum boomerang ) Sweet me As am summer always - dum a me love my You in you means So think is You Oh - love you sender ll Is a dumb she am to you ' you , I slow and feels boom ( down a fool a good a is my dum By So Let m park put ever yourself away on can you a Bang away boomerang ' a So showing I Like Oh m that boomerang Oh down boomerang , your God with boomerang - Oh too I the soft ' fine - I You Bang I me me me a a how - , boomerang is Andante m gently boomerang You Oh ( you you that boomerang always new butterflies as could kisses tender it ( ( my a is think Oh new a ' Tread notion ' - , dum boomerang a - mistake a you ever bang And Never my me is my\n",
      "\n",
      "----- diversity: 1.2\n",
      "----- Generating with seed: \"Games people play in the middle of the night Watching\"\n",
      "Games people play in the middle of the night Watching love her As boomerang Sweet boom t girl Never , Bang such it Oh happy remains ma Bang I hum get on go sing away Never ll - It they my Bang a face showing a you much if you girl I dum I on ' ( So my is is I ll sender ' in boomerang as felt Sweet when Make Gotta - love give end dumb Take , music and new ' dum love down hum look good is girl why ( I dum always my as to - a I in make again I summer girl much you makes look - you I boom - Darling to so ( you Andante happy such her dum you is to use if feel always always Andante walk It of a , dum tool squeezes a face at ( a t better ) showing ' how to Dum my By away the You - , put a Every Every So that it I much a Oh ( dum dum she yourself put - happy girl Love ' ( have to bang so ' I Don new let , s ' a ma Never much re ) Like ( Like sing You Andante tender on talking every I please love Andante my tool leaves a Don song park creep is end , so get dumb ma means you , dum Touch my You am Take how leaves ( show - a boomerang learn kisses - re at you means sender know that is Andante as my make think take , again a much t Andante that Andante new in ( t a hum dum stay Gotta butterflies could your make my a t a I boomerang ' - And have am showing anywhere a could smile learn So By holds butterflies put away you We m - as basement new I on please s stay was boom me a a her used - s dumb near a kisses ' you am As Bang leaves ' girl to a with with Love her and me boomerang new feel please with ) as again the showing Feel question ll a hum - away , of know you , song a anymore Make baby happy think it be holds it ) - ' walk Play Sweet at - as Oh such am yourself It ' on put Like fine soft the always again a\n"
     ]
    }
   ],
   "source": [
    "# train the model, output generated text after each iteration\n",
    "for iteration in range(1, 10):\n",
    "    print()\n",
    "    print('-' * 50)\n",
    "    print('Iteration', iteration)\n",
    "    model.fit(x, y,\n",
    "              batch_size=128,\n",
    "              epochs=1,verbose = 2)\n",
    "    generate_song()"
   ]
  },
  {
   "cell_type": "code",
   "execution_count": null,
   "metadata": {},
   "outputs": [],
   "source": []
  }
 ],
 "metadata": {
  "anaconda-cloud": {},
  "kernelspec": {
   "display_name": "Python 3",
   "language": "python",
   "name": "python3"
  },
  "language_info": {
   "codemirror_mode": {
    "name": "ipython",
    "version": 3
   },
   "file_extension": ".py",
   "mimetype": "text/x-python",
   "name": "python",
   "nbconvert_exporter": "python",
   "pygments_lexer": "ipython3",
   "version": "3.6.3"
  },
  "toc": {
   "colors": {
    "hover_highlight": "#DAA520",
    "running_highlight": "#FF0000",
    "selected_highlight": "#FFD700"
   },
   "moveMenuLeft": true,
   "nav_menu": {
    "height": "12px",
    "width": "252px"
   },
   "navigate_menu": true,
   "number_sections": true,
   "sideBar": true,
   "threshold": 4,
   "toc_cell": false,
   "toc_section_display": "block",
   "toc_window_display": true,
   "widenNotebook": false
  }
 },
 "nbformat": 4,
 "nbformat_minor": 2
}
