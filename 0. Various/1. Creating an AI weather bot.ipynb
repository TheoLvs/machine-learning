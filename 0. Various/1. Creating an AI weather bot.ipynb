{
 "cells": [
  {
   "cell_type": "markdown",
   "metadata": {},
   "source": [
    "# AI Weather Bot\n",
    "\n",
    "### Introduction\n",
    "I wanted to make a bot to send to myself the weather every morning on my smartphone, because I am not fond of my weather app and I wanted to try making a simple bot. \n",
    "\n",
    "This script allowed me to send messages to myself through various platforms, for now : \n",
    "- by SMS\n",
    "- by Slack\n",
    "\n",
    "Example on what I receive every morning on slack : \n",
    "<img src =\"https://alan-ai.herokuapp.com/static/img/exempleAIweather.PNG\"/>\n",
    "\n",
    "##### IMPORTANT\n",
    "**What I will show here is how to build a bot who send information, not a conversational one with whom you can discuss** \n",
    "\n",
    "### Summary\n",
    "I hope this can be useful information on many subjects and show you various interesting things on how to use API to build a simple bot : \n",
    "- How to send Bot SMS with Twilio ?\n",
    "- How to send Bot messages with Slack ?\n",
    "- How to scrape the weather with OpenWeatherAPI ?\n",
    "- How to design a bot to send all this information ?\n",
    "- Next Steps and improvements\n",
    "\n",
    "### References\n",
    "\n",
    "https://www.twilio.com\n",
    "\n",
    "https://home.openweathermap.org\n",
    "\n",
    "http://stackoverflow.com/questions/6386308/http-requests-and-json-parsing-in-python"
   ]
  },
  {
   "cell_type": "markdown",
   "metadata": {},
   "source": [
    "***\n",
    "## 1. How to send bot SMS with Twilio ?\n",
    "Twilio is a service which allows amongst others to send SMS with a nice API. \n",
    "- Just subscribe on the developer site at https://www.twilio.com\n",
    "- get the account id, the token and the number (# Find these values at https://twilio.com/user/account)\n",
    "- install the python package to communicate with the API (pip install TwilioRestClient)\n",
    "\n",
    "I put every parameters, token and ID in a json file, so that I won't disclose my personal information :)  "
   ]
  },
  {
   "cell_type": "code",
   "execution_count": 14,
   "metadata": {
    "collapsed": false
   },
   "outputs": [],
   "source": [
    "import json\n",
    "with open('parameters.json') as file:\n",
    "    parameters = json.load(file)"
   ]
  },
  {
   "cell_type": "markdown",
   "metadata": {},
   "source": [
    "Sending a simple SMS is pretty straightforward"
   ]
  },
  {
   "cell_type": "code",
   "execution_count": null,
   "metadata": {
    "collapsed": true
   },
   "outputs": [],
   "source": [
    "from twilio.rest import TwilioRestClient\n",
    "account_sid = parameters['twilio']['id']\n",
    "auth_token = parameters['twilio']['token']\n",
    "client = TwilioRestClient(account_sid, auth_token)\n",
    "message = client.messages.create(to=\"+336XXXXXXX\", from_= parameters['twilio']['from_num'],body=\"Hello there!\")"
   ]
  },
  {
   "cell_type": "markdown",
   "metadata": {},
   "source": [
    "***\n",
    "## 2. How to send bot messags with Slack ?\n",
    "Slack allows easy set up of bots in only two lines of codes. \n",
    "\n",
    "You also have to subscribe to the developer API at https://api.slack.com/bot-users\n",
    "\n",
    "For every slack you want to set up a bot, you can subscribe and get a token you will use (that I put in my parameters json)\n",
    "\n",
    "You also need to install the Python Slack Client (pip install SlackClient)\n",
    "\n",
    "#### Parameters : \n",
    "You can really personalize your message : \n",
    "- The Slack channel you want to send your message to\n",
    "- Of course the text\n",
    "- The username\n",
    "- Even the icon of the bot, here I chose a monkey"
   ]
  },
  {
   "cell_type": "code",
   "execution_count": 16,
   "metadata": {
    "collapsed": false
   },
   "outputs": [
    {
     "data": {
      "text/plain": [
       "{u'channel': u'C23ME8Y0G',\n",
       " u'message': {u'bot_id': u'B23NKUR25',\n",
       "  u'icons': {u'emoji': u':monkey:',\n",
       "   u'image_64': u'https://a.slack-edge.com/d4bf/img/emoji_2015_2/apple/1f412.png'},\n",
       "  u'subtype': u'bot_message',\n",
       "  u'text': u'Hello there !',\n",
       "  u'ts': u'1475839248.000002',\n",
       "  u'type': u'message',\n",
       "  u'username': u'theo'},\n",
       " u'ok': True,\n",
       " u'ts': u'1475839248.000002'}"
      ]
     },
     "execution_count": 16,
     "metadata": {},
     "output_type": "execute_result"
    }
   ],
   "source": [
    "from slackclient import SlackClient\n",
    "\n",
    "sc = SlackClient(parameters['slack']['token'])\n",
    "sc.api_call(\"chat.postMessage\", channel=\"#general\", text=\"Hello there !\",username=\"AI\", icon_emoji=':monkey:') #icon_emoji=':robot_face:'"
   ]
  },
  {
   "cell_type": "markdown",
   "metadata": {},
   "source": [
    "***\n",
    "## 3. How to scrape the weather with the OpenWeatherAPI ?\n",
    "In this section, I will try to show how to get weather data from anywhere at any time. \n",
    "\n",
    "The OpenWeather API allow us to obtain this information. \n",
    "\n",
    "Here again, you have to subscribe to the API as developer and get a key https://openweathermap.org/ (that I put in my parameters json)\n",
    "\n",
    "#### Scraping\n",
    "Here you don't have a Python client to discuss with the API, thus we have to request directly to the API thanks to the request library. \n",
    "\n",
    "I personally need the weather in Paris, for which I got the City ID on the OpenWeather website, keep in mind you may have to change this ID, or you can also request according to your geocoding coordinates. "
   ]
  },
  {
   "cell_type": "code",
   "execution_count": 18,
   "metadata": {
    "collapsed": true
   },
   "outputs": [],
   "source": [
    "openweather_key = parameters['openweather']['id']\n",
    "Paris_ID = '2988507'\n",
    "\n",
    "from urllib2 import Request, urlopen, URLError\n",
    "import json"
   ]
  },
  {
   "cell_type": "markdown",
   "metadata": {},
   "source": [
    "I built here a function, which request the API giving the key and the city ID.\n",
    "\n",
    "You can change the unit type if you are not in the metric system. And again, remember you can also request according to your position. \n",
    "\n",
    "It gives you a big JSON full of information, I chose to keep tuples for different moment of the day (n tuples) which contain : \n",
    "- the time step (date and time)\n",
    "- a quick description of the weather\n",
    "- the temperature"
   ]
  },
  {
   "cell_type": "code",
   "execution_count": 21,
   "metadata": {
    "collapsed": false
   },
   "outputs": [
    {
     "data": {
      "text/plain": [
       "{'city': 'Paris',\n",
       " 'list': [(u'2016-10-07 12:00:00', u'clear sky', 19.85),\n",
       "  (u'2016-10-07 15:00:00', u'broken clouds', 19.35),\n",
       "  (u'2016-10-07 18:00:00', u'overcast clouds', 16.55),\n",
       "  (u'2016-10-07 21:00:00', u'light rain', 14.26),\n",
       "  (u'2016-10-08 00:00:00', u'broken clouds', 12.37),\n",
       "  (u'2016-10-08 03:00:00', u'few clouds', 8.37),\n",
       "  (u'2016-10-08 06:00:00', u'light rain', 8.08),\n",
       "  (u'2016-10-08 09:00:00', u'few clouds', 12.42)]}"
      ]
     },
     "execution_count": 21,
     "metadata": {},
     "output_type": "execute_result"
    }
   ],
   "source": [
    "def weather_tracker(api_key = openweather_key,city_ID = Paris_ID,n = 3):\n",
    "    request = Request('http://api.openweathermap.org/data/2.5/forecast/city?id={0}&APPID={1}&units=metric'.format(city_ID,openweather_key))\n",
    "    try:\n",
    "        response = json.loads(urlopen(request).read())\n",
    "        info = {}\n",
    "        info['city'] = str(response['city']['name'])\n",
    "        info['list'] = [(x['dt_txt'],x['weather'][0]['description'],x['main']['temp']) for x in response['list'][:n]]        \n",
    "        return info\n",
    "    except URLError, e:\n",
    "        print(\"Error :\",e)\n",
    "        \n",
    "weather = weather_tracker(n = 8)\n",
    "weather"
   ]
  },
  {
   "cell_type": "markdown",
   "metadata": {},
   "source": [
    "For more convenient uses, I built a class to describe the weather here that I will use in the bot\n",
    "\n",
    "It extract the interesting information for each tuple snapshot of the weather that I have in the above list. And process to some mapping : \n",
    "- extract the season from the month\n",
    "- extract the period of the day (because I wanted to send different reports whether it's morning (I want today's weather) or the evening (I want tomorrow's)\n",
    "- I set a scale from 0 (real bad weather with snow) to 5 (sunny) for the mood, that I extracted from the words used in the description\n",
    "- For each level of the scale I associated an adjective to describe and a pretty Slack emoji to illustrate the mood\n",
    "\n",
    "##### IMPROVEMENTS\n",
    "I coded this class very fast for my personal use, it could be **enormously refined**\n",
    "- I did not study every possible words in the description as I did this in the summer, there are surely a lot more\n",
    "- A sentiment analysis could give great results here\n",
    "- And also you could extract more information from the OpenWeatherAPI"
   ]
  },
  {
   "cell_type": "code",
   "execution_count": 22,
   "metadata": {
    "collapsed": true
   },
   "outputs": [],
   "source": [
    "class Weather_snapshot():\n",
    "    def __init__(self,time,description,temperature):\n",
    "        '''BASIC CONFIGURATION'''\n",
    "        self.time = time\n",
    "        self.description = description\n",
    "        self.temperature = int(temperature)\n",
    "        \n",
    "        '''TIME DATA'''\n",
    "        self.day = int(self.time[8:10])\n",
    "        self.month = int(self.time[5:7])\n",
    "        self.year = int(self.time[0:4])\n",
    "        self.hour = int(self.time[11:13])\n",
    "        \n",
    "        #Seasons\n",
    "        if self.month <= 2:\n",
    "            self.season = \"winter\"\n",
    "        elif self.month < 6:\n",
    "            self.season = \"spring\"\n",
    "        elif self.month < 10:\n",
    "            self.season = \"summer\"\n",
    "        else:\n",
    "            self.season = \"autumn\"\n",
    "            \n",
    "        #Period of the day\n",
    "        if (self.hour >= 4 and self.hour <= 7):\n",
    "            self.period = \"dawn\"\n",
    "        elif (self.hour > 7 and self.hour <= 11):\n",
    "            self.period = \"morning\"\n",
    "        elif (self.hour > 11 and self.hour <= 14):\n",
    "            self.period = \"noon\"\n",
    "        elif (self.hour > 14 and self.hour <= 18):\n",
    "            self.period = \"afternoon\"\n",
    "        elif (self.hour > 18 and self.hour <= 21):\n",
    "            self.period = \"evening\"\n",
    "        else:\n",
    "            self.period = \"night\"\n",
    "            \n",
    "        '''WEATHER MOOD LEVELS'''\n",
    "        \n",
    "        if self.intersection({'snow'}):\n",
    "            self.level = 1\n",
    "        elif self.intersection({'rain'}):\n",
    "            self.level = 2\n",
    "        elif self.intersection({'cloudy','clouds','cloud'}):\n",
    "            self.level = 3\n",
    "        elif self.intersection({'clear'}):\n",
    "            self.level = 4\n",
    "        elif self.intersection({'sun','sunny'}):\n",
    "            self.level = 5\n",
    "        else:\n",
    "            self.level = 0\n",
    "        \n",
    "        if self.level == 1:\n",
    "            self.mood = \"snowy\"\n",
    "            self.slack_emoji = \":snow_cloud:\"\n",
    "        elif self.level == 2:\n",
    "            self.mood = \"rainy\"\n",
    "            self.slack_emoji = \":rain_cloud:\"\n",
    "        elif self.level == 3:\n",
    "            self.mood = \"cloudy\"\n",
    "            self.slack_emoji = \":cloud:\"\n",
    "        elif self.level == 4:\n",
    "            self.mood = \"fine\"\n",
    "            self.slack_emoji = \":mostly_sunny:\" if self.temperature < 28 else \":sunny:\"\n",
    "        elif self.level == 5:\n",
    "            self.mood = \"sunny\"\n",
    "            self.slack_emoji = \":sunny:\" if self.temperature < 28 else \":sunny: :sunny:\"\n",
    "        else:\n",
    "            self.mood = \"uncertain\"\n",
    "            self.slack_emoji = \":cyclone:\"\n",
    "            \n",
    "    def intersection(self,feature_set):\n",
    "        if len(set(self.description.split(' ')).intersection(feature_set))>0:\n",
    "            return True\n",
    "        else:\n",
    "            return False\n",
    "        "
   ]
  },
  {
   "cell_type": "markdown",
   "metadata": {
    "collapsed": true
   },
   "source": [
    "***\n",
    "## How to design a bot to send all this information ?\n",
    "\n",
    "This class contains the previous functions all embedded in one object. \n",
    "\n",
    "The goal here is that it could allow to add more complicated information or ways to communicate (Messenger for example) in the purpose of a general Artificial Intelligence. \n",
    "\n",
    "##### Note : \n",
    "I copied this whole cell in a usual Python script I run automatically to send to me those Weather Reports\n",
    "\n",
    "#### On the weather report\n",
    "I use the previous class on the API extract I got before to send :\n",
    "- If it's the morning : the mood and temperature right now\n",
    "- If it's the evening : the mood and temperature right now + how it's going to be the next day (will the temperature be better than today ?)\n",
    "Again this part is not finished and was done quick for my needs, it can be completely modified and improved\n"
   ]
  },
  {
   "cell_type": "code",
   "execution_count": 23,
   "metadata": {
    "collapsed": false
   },
   "outputs": [],
   "source": [
    "#!/usr/bin/env python\n",
    "# -*- coding: utf-8 -*-\n",
    "\n",
    "from twilio.rest import TwilioRestClient\n",
    "from slackclient import SlackClient\n",
    "from urllib2 import Request, urlopen, URLError\n",
    "import json\n",
    "\n",
    "class AI():\n",
    "    '''---------------------------------------------------------------------------------------------------------------'''\n",
    "    '''INITIALIZATION'''\n",
    "    def __init__(self,username = \"Unknown\",num = \"+336XXXXXXX\",hometown_id = '2988507'):\n",
    "        '''CONFIGURATION'''\n",
    "        self.config = {}\n",
    "        \n",
    "        #Twilio configuration\n",
    "        self.config['twilio'] = {}\n",
    "        self.config['twilio']['id'] = parameters['twilio']['id']\n",
    "        self.config['twilio']['token'] = parameters['twilio']['token']\n",
    "        self.config['twilio']['from_num'] = parameters['twilio']['from_num']\n",
    "        \n",
    "        #Open Weather configuration\n",
    "        self.config['openweather'] = {}\n",
    "        self.config['openweather']['id'] = parameters['openweather']['id']\n",
    "        \n",
    "        #Slack configuration\n",
    "        self.config['slack'] = {}\n",
    "        self.config['slack']['token'] = parameters['slack']['token']\n",
    "        \n",
    "        '''USER PROFILE'''\n",
    "        self.user_profile = {}\n",
    "        self.user_profile['username'] = username\n",
    "        self.user_profile['num'] = num\n",
    "        self.user_profile['hometown_id'] = hometown_id\n",
    "        \n",
    "        '''AI PROFILE'''\n",
    "        self.name = \"AI\"\n",
    "        \n",
    "        \n",
    "    '''---------------------------------------------------------------------------------------------------------------'''\n",
    "    '''COMMUNICATION METHODS'''\n",
    "    def send_SMS(self,body = \"Hello there !\",to_num = \"\"):\n",
    "        if to_num == \"\":\n",
    "            to_num = self.user_profile['num']\n",
    "        client = TwilioRestClient(self.config['twilio']['id'], self.config['twilio']['token'])\n",
    "        message = client.messages.create(to = to_num,from_ = self.config['twilio']['from_num'],body = body)\n",
    "        \n",
    "    def send_slack(self,body = \"Hello there\",channel = \"#general\"):\n",
    "        sc = SlackClient(self.config['slack']['token'])\n",
    "        sc.api_call(\"chat.postMessage\", channel=channel, text=body,username=self.name, icon_emoji=':monkey:') #icon_emoji=':robot_face:'\n",
    "\n",
    "    \n",
    "    '''---------------------------------------------------------------------------------------------------------------'''\n",
    "    '''INFORMATION METHODS'''\n",
    "    def weather_tracker(self,n = 3):\n",
    "        request = Request('http://api.openweathermap.org/data/2.5/forecast/city?id={0}&APPID={1}&units=metric'.format(\n",
    "                self.user_profile['hometown_id'],\n",
    "                self.config['openweather']['id']))\n",
    "        try:\n",
    "            response = json.loads(urlopen(request).read())\n",
    "            info = {}\n",
    "            info['city'] = str(response['city']['name'])\n",
    "            info['list'] = [{'time':x['dt_txt'],\n",
    "                             'description':x['weather'][0]['description'],\n",
    "                             'temperature':x['main']['temp']}\n",
    "                             for x in response['list'][:n]]\n",
    "            info['list'] = [Weather_snapshot(**x) for x in info['list']]\n",
    "            #print(info)\n",
    "            return info\n",
    "        except URLError, e:\n",
    "            print(\"Error :\",e)\n",
    "    \n",
    "    def weather_report(self,slack = False):\n",
    "        weather = self.weather_tracker(n = 10)\n",
    "        weather_list = weather['list']\n",
    "        now = weather_list[0]\n",
    "        after = weather_list[1:]\n",
    "\n",
    "        '''SAYING HELLO'''\n",
    "        if now.period in ['dawn','morning']:\n",
    "            hello = \"Good morning\"\n",
    "        elif now.period in ['noon']:\n",
    "            hello = \"Bon appétit\"\n",
    "        elif now.period in ['afternoon']:\n",
    "            hello = \"Good afternoon\"\n",
    "        elif now.period in ['evening']:\n",
    "            hello = \"Good evening\"\n",
    "        else:\n",
    "            hello = \"Good night\"\n",
    "        hello += \" {0} !\".format(self.user_profile['username'])\n",
    "        report = [\"------------------------\",hello]\n",
    "        \n",
    "        '''CITY'''\n",
    "        date = \"/\".join(map(str,[now.day,now.month,now.year]))\n",
    "        report += [\"Report in {0} on the {1}.\".format(weather['city'],date)]\n",
    "        \n",
    "        '''NOW'''\n",
    "        report += ['It is {0}:00'.format(now.hour)]\n",
    "        if slack:\n",
    "            report += [\"The weather is {0} {1}\".format(now.mood,now.slack_emoji)]\n",
    "        else:\n",
    "            report += [\"The weather is {0}\".format(now.mood)]\n",
    "        report += ['The temperature is {0}°'.format(now.temperature)]\n",
    "        if now.hour >= 14 or now.hour <= 4:\n",
    "            tomorrow = min(after,key = lambda x:(abs(x.hour-12)))\n",
    "            if now.level != tomorrow.level:\n",
    "                change = \"better\" if now.level < tomorrow.level else \"less good\"\n",
    "                report += [\"Tomorrow, the weather will be {0}\".format(change)]\n",
    "                report += [\"It will be {0} and the temperature {1}°\".format(tomorrow.mood,tomorrow.temperature)]\n",
    "            else:\n",
    "                if slack:\n",
    "                    report += [\"Tomorrow the weather will be {0} and the temperature {1}° {2}\".format(tomorrow.mood,tomorrow.temperature,tomorrow.slack_emoji)]\n",
    "                else:\n",
    "                    report += [\"Tomorrow the weather will be {0} and the temperature {1}°\".format(tomorrow.mood,tomorrow.temperature)]\n",
    "            \n",
    "        return \"\\n\".join(report)\n",
    "    \n",
    "    def send_weather(self,methods = [\"SMS\"]):\n",
    "        print(\"Sending weather report ...\")\n",
    "        for method in methods:\n",
    "            if method == \"SMS\":\n",
    "                self.send_SMS(self.weather_report())\n",
    "            elif method == \"slack\":\n",
    "                self.send_slack(self.weather_report(slack = True),channel = \"#weather\")\n",
    "        print('Sending weather report OK\"')"
   ]
  },
  {
   "cell_type": "markdown",
   "metadata": {},
   "source": [
    "##### HOW TO USE IT ?\n",
    "First you instantiate the AI for you giving it the important information"
   ]
  },
  {
   "cell_type": "code",
   "execution_count": 24,
   "metadata": {
    "collapsed": false
   },
   "outputs": [],
   "source": [
    "AI = AI(username = 'Theo')"
   ]
  },
  {
   "cell_type": "markdown",
   "metadata": {},
   "source": [
    "You can simply send the weather like that, giving just the way you prefer. \n",
    "\n",
    "In my slack I created a \"#weather\" channel where every message go to (but you can change it in the class)"
   ]
  },
  {
   "cell_type": "code",
   "execution_count": 25,
   "metadata": {
    "collapsed": false
   },
   "outputs": [
    {
     "name": "stdout",
     "output_type": "stream",
     "text": [
      "Sending weather report ...\n",
      "Sending weather report OK\"\n"
     ]
    }
   ],
   "source": [
    "AI.send_weather([\"slack\"])"
   ]
  },
  {
   "cell_type": "markdown",
   "metadata": {},
   "source": [
    "You can also just send regular messages with the other methods"
   ]
  },
  {
   "cell_type": "code",
   "execution_count": 26,
   "metadata": {
    "collapsed": false
   },
   "outputs": [],
   "source": [
    "AI.send_slack(\"TEST\",channel = \"#random\")"
   ]
  },
  {
   "cell_type": "markdown",
   "metadata": {
    "collapsed": true
   },
   "source": [
    "***\n",
    "## NEXT STEPS AND IMPROVEMENTS\n",
    "I already talked about what could be improved\n",
    "- in the weather report\n",
    "- in how much information you extract\n",
    "- by adding other channels like Messenger to the bot\n",
    "- but also and the most important one, by using that to build a more general AI Bot with whom you can talk\n",
    "- for now I am lauching automatically this script with a Windows batch file (.bat), but it could be interesting to set it up with AWS Lambda or even PythonAnywhere"
   ]
  }
 ],
 "metadata": {
  "kernelspec": {
   "display_name": "Python 2",
   "language": "python",
   "name": "python2"
  },
  "language_info": {
   "codemirror_mode": {
    "name": "ipython",
    "version": 2
   },
   "file_extension": ".py",
   "mimetype": "text/x-python",
   "name": "python",
   "nbconvert_exporter": "python",
   "pygments_lexer": "ipython2",
   "version": "2.7.11"
  }
 },
 "nbformat": 4,
 "nbformat_minor": 0
}
