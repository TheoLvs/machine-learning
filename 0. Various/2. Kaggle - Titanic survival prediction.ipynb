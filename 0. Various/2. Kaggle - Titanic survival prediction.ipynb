{
 "cells": [
  {
   "cell_type": "markdown",
   "metadata": {},
   "source": [
    "# KAGGLE TITANIC CHALLENGE\n",
    "https://www.kaggle.com/c/titanic\n",
    "## SUMMARY\n",
    "Here is my attempt to crack the Kaggle Titanic challenge. For those who don't know : it is a machine learning prediction case study in which to goal is to predict and guess who would die or survive in the Titanic accident, using data about the passengers (age, sex, cabin, etc..).\n",
    "\n",
    "I used Python, Pandas, Scikit-Learn and a little bit of TensorFlow\n",
    "\n",
    "In the menu : \n",
    "- Loading the datasets\n",
    "- Exploratory analysis and correlations between variables and the chances of survival\n",
    "- First preprocessing model (feature engineering, one-hot encoding, normalization)\n",
    "- Selection of the best classifier : Random Forest ensemble classifier\n",
    "- Optimization and hyper-parameters tuning for this classifier \n",
    "- Quick deep learning classifier test with TensorFlow on the data\n",
    "\n",
    "\n",
    "Will follow :  \n",
    "- Advanced feature engineering\n",
    "- Advanced deep learning methods (regularization especially to reduce overfitting)"
   ]
  },
  {
   "cell_type": "markdown",
   "metadata": {},
   "source": [
    "***"
   ]
  },
  {
   "cell_type": "markdown",
   "metadata": {},
   "source": [
    "##### Loading the datasets\n",
    "Import the train and test datasets on your computer from the Kaggle website"
   ]
  },
  {
   "cell_type": "code",
   "execution_count": 1,
   "metadata": {
    "collapsed": false
   },
   "outputs": [],
   "source": [
    "import pandas as pd\n",
    "import numpy as np\n",
    "import matplotlib.pyplot as plt\n",
    "plt.style.use('ggplot')\n",
    "% matplotlib inline"
   ]
  },
  {
   "cell_type": "code",
   "execution_count": 2,
   "metadata": {
    "collapsed": true
   },
   "outputs": [],
   "source": [
    "train = pd.read_csv(\"train.csv\")\n",
    "test = pd.read_csv(\"test.csv\")"
   ]
  },
  {
   "cell_type": "code",
   "execution_count": 3,
   "metadata": {
    "collapsed": false
   },
   "outputs": [
    {
     "name": "stdout",
     "output_type": "stream",
     "text": [
      "(891, 12)\n",
      "(418, 11)\n"
     ]
    }
   ],
   "source": [
    "print train.shape\n",
    "print test.shape"
   ]
  },
  {
   "cell_type": "markdown",
   "metadata": {},
   "source": [
    "## Exploratory analysis\n",
    "### What is going here ?"
   ]
  },
  {
   "cell_type": "code",
   "execution_count": 4,
   "metadata": {
    "collapsed": false
   },
   "outputs": [
    {
     "data": {
      "text/html": [
       "<div>\n",
       "<table border=\"1\" class=\"dataframe\">\n",
       "  <thead>\n",
       "    <tr style=\"text-align: right;\">\n",
       "      <th></th>\n",
       "      <th>PassengerId</th>\n",
       "      <th>Survived</th>\n",
       "      <th>Pclass</th>\n",
       "      <th>Age</th>\n",
       "      <th>SibSp</th>\n",
       "      <th>Parch</th>\n",
       "      <th>Fare</th>\n",
       "    </tr>\n",
       "  </thead>\n",
       "  <tbody>\n",
       "    <tr>\n",
       "      <th>count</th>\n",
       "      <td>891.000000</td>\n",
       "      <td>891.000000</td>\n",
       "      <td>891.000000</td>\n",
       "      <td>714.000000</td>\n",
       "      <td>891.000000</td>\n",
       "      <td>891.000000</td>\n",
       "      <td>891.000000</td>\n",
       "    </tr>\n",
       "    <tr>\n",
       "      <th>mean</th>\n",
       "      <td>446.000000</td>\n",
       "      <td>0.383838</td>\n",
       "      <td>2.308642</td>\n",
       "      <td>29.699118</td>\n",
       "      <td>0.523008</td>\n",
       "      <td>0.381594</td>\n",
       "      <td>32.204208</td>\n",
       "    </tr>\n",
       "    <tr>\n",
       "      <th>std</th>\n",
       "      <td>257.353842</td>\n",
       "      <td>0.486592</td>\n",
       "      <td>0.836071</td>\n",
       "      <td>14.526497</td>\n",
       "      <td>1.102743</td>\n",
       "      <td>0.806057</td>\n",
       "      <td>49.693429</td>\n",
       "    </tr>\n",
       "    <tr>\n",
       "      <th>min</th>\n",
       "      <td>1.000000</td>\n",
       "      <td>0.000000</td>\n",
       "      <td>1.000000</td>\n",
       "      <td>0.420000</td>\n",
       "      <td>0.000000</td>\n",
       "      <td>0.000000</td>\n",
       "      <td>0.000000</td>\n",
       "    </tr>\n",
       "    <tr>\n",
       "      <th>25%</th>\n",
       "      <td>223.500000</td>\n",
       "      <td>0.000000</td>\n",
       "      <td>2.000000</td>\n",
       "      <td>20.125000</td>\n",
       "      <td>0.000000</td>\n",
       "      <td>0.000000</td>\n",
       "      <td>7.910400</td>\n",
       "    </tr>\n",
       "    <tr>\n",
       "      <th>50%</th>\n",
       "      <td>446.000000</td>\n",
       "      <td>0.000000</td>\n",
       "      <td>3.000000</td>\n",
       "      <td>28.000000</td>\n",
       "      <td>0.000000</td>\n",
       "      <td>0.000000</td>\n",
       "      <td>14.454200</td>\n",
       "    </tr>\n",
       "    <tr>\n",
       "      <th>75%</th>\n",
       "      <td>668.500000</td>\n",
       "      <td>1.000000</td>\n",
       "      <td>3.000000</td>\n",
       "      <td>38.000000</td>\n",
       "      <td>1.000000</td>\n",
       "      <td>0.000000</td>\n",
       "      <td>31.000000</td>\n",
       "    </tr>\n",
       "    <tr>\n",
       "      <th>max</th>\n",
       "      <td>891.000000</td>\n",
       "      <td>1.000000</td>\n",
       "      <td>3.000000</td>\n",
       "      <td>80.000000</td>\n",
       "      <td>8.000000</td>\n",
       "      <td>6.000000</td>\n",
       "      <td>512.329200</td>\n",
       "    </tr>\n",
       "  </tbody>\n",
       "</table>\n",
       "</div>"
      ],
      "text/plain": [
       "       PassengerId    Survived      Pclass         Age       SibSp  \\\n",
       "count   891.000000  891.000000  891.000000  714.000000  891.000000   \n",
       "mean    446.000000    0.383838    2.308642   29.699118    0.523008   \n",
       "std     257.353842    0.486592    0.836071   14.526497    1.102743   \n",
       "min       1.000000    0.000000    1.000000    0.420000    0.000000   \n",
       "25%     223.500000    0.000000    2.000000   20.125000    0.000000   \n",
       "50%     446.000000    0.000000    3.000000   28.000000    0.000000   \n",
       "75%     668.500000    1.000000    3.000000   38.000000    1.000000   \n",
       "max     891.000000    1.000000    3.000000   80.000000    8.000000   \n",
       "\n",
       "            Parch        Fare  \n",
       "count  891.000000  891.000000  \n",
       "mean     0.381594   32.204208  \n",
       "std      0.806057   49.693429  \n",
       "min      0.000000    0.000000  \n",
       "25%      0.000000    7.910400  \n",
       "50%      0.000000   14.454200  \n",
       "75%      0.000000   31.000000  \n",
       "max      6.000000  512.329200  "
      ]
     },
     "execution_count": 4,
     "metadata": {},
     "output_type": "execute_result"
    }
   ],
   "source": [
    "train.describe()"
   ]
  },
  {
   "cell_type": "markdown",
   "metadata": {},
   "source": [
    "We have some missing data, a lot for Cabin, and some for Age and Embarked, yet we'll deal with them later "
   ]
  },
  {
   "cell_type": "code",
   "execution_count": 5,
   "metadata": {
    "collapsed": false
   },
   "outputs": [
    {
     "data": {
      "text/plain": [
       "PassengerId      0\n",
       "Survived         0\n",
       "Pclass           0\n",
       "Name             0\n",
       "Sex              0\n",
       "Age            177\n",
       "SibSp            0\n",
       "Parch            0\n",
       "Ticket           0\n",
       "Fare             0\n",
       "Cabin          687\n",
       "Embarked         2\n",
       "dtype: int64"
      ]
     },
     "execution_count": 5,
     "metadata": {},
     "output_type": "execute_result"
    }
   ],
   "source": [
    "train.isnull().sum()"
   ]
  },
  {
   "cell_type": "markdown",
   "metadata": {},
   "source": [
    "Which features are we going to consider ?"
   ]
  },
  {
   "cell_type": "code",
   "execution_count": 6,
   "metadata": {
    "collapsed": false
   },
   "outputs": [
    {
     "name": "stdout",
     "output_type": "stream",
     "text": [
      "['Pclass', 'Name', 'Sex', 'Age', 'SibSp', 'Parch', 'Ticket', 'Fare', 'Cabin', 'Embarked']\n"
     ]
    }
   ],
   "source": [
    "target = \"Survived\"\n",
    "features = [x for x in list(test.columns) if x not in ['PassengerId']]\n",
    "print(features)"
   ]
  },
  {
   "cell_type": "markdown",
   "metadata": {},
   "source": [
    "Let's take a look at the data"
   ]
  },
  {
   "cell_type": "code",
   "execution_count": 7,
   "metadata": {
    "collapsed": false
   },
   "outputs": [
    {
     "data": {
      "text/html": [
       "<div>\n",
       "<table border=\"1\" class=\"dataframe\">\n",
       "  <thead>\n",
       "    <tr style=\"text-align: right;\">\n",
       "      <th></th>\n",
       "      <th>PassengerId</th>\n",
       "      <th>Survived</th>\n",
       "      <th>Pclass</th>\n",
       "      <th>Name</th>\n",
       "      <th>Sex</th>\n",
       "      <th>Age</th>\n",
       "      <th>SibSp</th>\n",
       "      <th>Parch</th>\n",
       "      <th>Ticket</th>\n",
       "      <th>Fare</th>\n",
       "      <th>Cabin</th>\n",
       "      <th>Embarked</th>\n",
       "    </tr>\n",
       "  </thead>\n",
       "  <tbody>\n",
       "    <tr>\n",
       "      <th>0</th>\n",
       "      <td>1</td>\n",
       "      <td>0</td>\n",
       "      <td>3</td>\n",
       "      <td>Braund, Mr. Owen Harris</td>\n",
       "      <td>male</td>\n",
       "      <td>22.0</td>\n",
       "      <td>1</td>\n",
       "      <td>0</td>\n",
       "      <td>A/5 21171</td>\n",
       "      <td>7.2500</td>\n",
       "      <td>NaN</td>\n",
       "      <td>S</td>\n",
       "    </tr>\n",
       "    <tr>\n",
       "      <th>1</th>\n",
       "      <td>2</td>\n",
       "      <td>1</td>\n",
       "      <td>1</td>\n",
       "      <td>Cumings, Mrs. John Bradley (Florence Briggs Th...</td>\n",
       "      <td>female</td>\n",
       "      <td>38.0</td>\n",
       "      <td>1</td>\n",
       "      <td>0</td>\n",
       "      <td>PC 17599</td>\n",
       "      <td>71.2833</td>\n",
       "      <td>C85</td>\n",
       "      <td>C</td>\n",
       "    </tr>\n",
       "    <tr>\n",
       "      <th>2</th>\n",
       "      <td>3</td>\n",
       "      <td>1</td>\n",
       "      <td>3</td>\n",
       "      <td>Heikkinen, Miss. Laina</td>\n",
       "      <td>female</td>\n",
       "      <td>26.0</td>\n",
       "      <td>0</td>\n",
       "      <td>0</td>\n",
       "      <td>STON/O2. 3101282</td>\n",
       "      <td>7.9250</td>\n",
       "      <td>NaN</td>\n",
       "      <td>S</td>\n",
       "    </tr>\n",
       "    <tr>\n",
       "      <th>3</th>\n",
       "      <td>4</td>\n",
       "      <td>1</td>\n",
       "      <td>1</td>\n",
       "      <td>Futrelle, Mrs. Jacques Heath (Lily May Peel)</td>\n",
       "      <td>female</td>\n",
       "      <td>35.0</td>\n",
       "      <td>1</td>\n",
       "      <td>0</td>\n",
       "      <td>113803</td>\n",
       "      <td>53.1000</td>\n",
       "      <td>C123</td>\n",
       "      <td>S</td>\n",
       "    </tr>\n",
       "    <tr>\n",
       "      <th>4</th>\n",
       "      <td>5</td>\n",
       "      <td>0</td>\n",
       "      <td>3</td>\n",
       "      <td>Allen, Mr. William Henry</td>\n",
       "      <td>male</td>\n",
       "      <td>35.0</td>\n",
       "      <td>0</td>\n",
       "      <td>0</td>\n",
       "      <td>373450</td>\n",
       "      <td>8.0500</td>\n",
       "      <td>NaN</td>\n",
       "      <td>S</td>\n",
       "    </tr>\n",
       "  </tbody>\n",
       "</table>\n",
       "</div>"
      ],
      "text/plain": [
       "   PassengerId  Survived  Pclass  \\\n",
       "0            1         0       3   \n",
       "1            2         1       1   \n",
       "2            3         1       3   \n",
       "3            4         1       1   \n",
       "4            5         0       3   \n",
       "\n",
       "                                                Name     Sex   Age  SibSp  \\\n",
       "0                            Braund, Mr. Owen Harris    male  22.0      1   \n",
       "1  Cumings, Mrs. John Bradley (Florence Briggs Th...  female  38.0      1   \n",
       "2                             Heikkinen, Miss. Laina  female  26.0      0   \n",
       "3       Futrelle, Mrs. Jacques Heath (Lily May Peel)  female  35.0      1   \n",
       "4                           Allen, Mr. William Henry    male  35.0      0   \n",
       "\n",
       "   Parch            Ticket     Fare Cabin Embarked  \n",
       "0      0         A/5 21171   7.2500   NaN        S  \n",
       "1      0          PC 17599  71.2833   C85        C  \n",
       "2      0  STON/O2. 3101282   7.9250   NaN        S  \n",
       "3      0            113803  53.1000  C123        S  \n",
       "4      0            373450   8.0500   NaN        S  "
      ]
     },
     "execution_count": 7,
     "metadata": {},
     "output_type": "execute_result"
    }
   ],
   "source": [
    "train.head()"
   ]
  },
  {
   "cell_type": "markdown",
   "metadata": {},
   "source": [
    "#### Study of each features\n",
    "There are 10 features to consider in the dataset.\n",
    "- 2 are text variables, Name and ticket \n",
    "- 3 are numeric variables (ticket fare, passenger age, number of siblings embarked with)\n",
    "- the others are categorical features"
   ]
  },
  {
   "cell_type": "markdown",
   "metadata": {},
   "source": [
    "##### Passenger class"
   ]
  },
  {
   "cell_type": "markdown",
   "metadata": {},
   "source": [
    "We have 891 passengers in the dataset. \n",
    "\n",
    "Each are separated in 3 passenger class, the class 3 contains half of the passengers"
   ]
  },
  {
   "cell_type": "markdown",
   "metadata": {},
   "source": [
    "Let's build a function to find the number of passengers by unique values, and if they have survived or not. \n",
    "\n",
    "It will allow us to understand the correlation of survival along one independent variable. "
   ]
  },
  {
   "cell_type": "code",
   "execution_count": 8,
   "metadata": {
    "collapsed": false
   },
   "outputs": [
    {
     "data": {
      "text/html": [
       "<div>\n",
       "<table border=\"1\" class=\"dataframe\">\n",
       "  <thead>\n",
       "    <tr style=\"text-align: right;\">\n",
       "      <th></th>\n",
       "      <th>count</th>\n",
       "      <th>survived</th>\n",
       "      <th>dead</th>\n",
       "      <th>percentage</th>\n",
       "      <th>percentage died</th>\n",
       "    </tr>\n",
       "    <tr>\n",
       "      <th>Pclass</th>\n",
       "      <th></th>\n",
       "      <th></th>\n",
       "      <th></th>\n",
       "      <th></th>\n",
       "      <th></th>\n",
       "    </tr>\n",
       "  </thead>\n",
       "  <tbody>\n",
       "    <tr>\n",
       "      <th>1</th>\n",
       "      <td>216</td>\n",
       "      <td>136</td>\n",
       "      <td>80</td>\n",
       "      <td>0.242424</td>\n",
       "      <td>0.370370</td>\n",
       "    </tr>\n",
       "    <tr>\n",
       "      <th>2</th>\n",
       "      <td>184</td>\n",
       "      <td>87</td>\n",
       "      <td>97</td>\n",
       "      <td>0.206510</td>\n",
       "      <td>0.527174</td>\n",
       "    </tr>\n",
       "    <tr>\n",
       "      <th>3</th>\n",
       "      <td>491</td>\n",
       "      <td>119</td>\n",
       "      <td>372</td>\n",
       "      <td>0.551066</td>\n",
       "      <td>0.757637</td>\n",
       "    </tr>\n",
       "  </tbody>\n",
       "</table>\n",
       "</div>"
      ],
      "text/plain": [
       "        count  survived  dead  percentage  percentage died\n",
       "Pclass                                                    \n",
       "1         216       136    80    0.242424         0.370370\n",
       "2         184        87    97    0.206510         0.527174\n",
       "3         491       119   372    0.551066         0.757637"
      ]
     },
     "execution_count": 8,
     "metadata": {},
     "output_type": "execute_result"
    }
   ],
   "source": [
    "def distribution_by_unique_values(feature):\n",
    "    _ = pd.DataFrame()\n",
    "    temp = train.groupby([feature])\n",
    "    _['count'] = temp.count()['PassengerId']\n",
    "    _['survived'] = temp.sum()['Survived']\n",
    "    _['dead'] = _['count'] - _['survived']\n",
    "    _['percentage'] = _['count']/sum(_['count'])\n",
    "    _['percentage died'] = _['dead']/_['count']\n",
    "    return _\n",
    "\n",
    "distribution_by_unique_values('Pclass')"
   ]
  },
  {
   "cell_type": "markdown",
   "metadata": {},
   "source": [
    "\n",
    "To that extent, let's build also a function to plot a bar diagram showing the survival by unique occurence of a variable"
   ]
  },
  {
   "cell_type": "code",
   "execution_count": 9,
   "metadata": {
    "collapsed": true
   },
   "outputs": [],
   "source": [
    "def plot_distribution(feature):\n",
    "    title = 'Number of passengers by %s' % feature\n",
    "    distribution = distribution_by_unique_values(feature)\n",
    "    indexes = [i for i in range(len(list(distribution.index)))]\n",
    "    distribution[['survived','dead']].plot(kind = \"bar\",stacked = True,title = title,figsize = (15,5))\n",
    "    plt.xticks(indexes,list(distribution.index))\n",
    "    plt.show()"
   ]
  },
  {
   "cell_type": "markdown",
   "metadata": {},
   "source": [
    "We can already observe some \"nice\" correlations : \n",
    "- Passengers in class 1 are more likely to survive\n",
    "- Passengers in class 2 50% of chances \n",
    "- Passengers in class 3 are outstandingly more likely to die"
   ]
  },
  {
   "cell_type": "code",
   "execution_count": 10,
   "metadata": {
    "collapsed": false
   },
   "outputs": [
    {
     "data": {
      "image/png": "[encoded data removed]",
      "text/plain": [
       "<matplotlib.figure.Figure at 0xb383b38>"
      ]
     },
     "metadata": {},
     "output_type": "display_data"
    }
   ],
   "source": [
    "plot_distribution('Pclass')"
   ]
  },
  {
   "cell_type": "markdown",
   "metadata": {},
   "source": [
    "##### Passenger Sex\n",
    "A lot more men are travelling, however the survival rate is much higher for women. "
   ]
  },
  {
   "cell_type": "code",
   "execution_count": 11,
   "metadata": {
    "collapsed": false
   },
   "outputs": [
    {
     "data": {
      "image/png": "[encoded data removed]",
      "text/plain": [
       "<matplotlib.figure.Figure at 0xb383da0>"
      ]
     },
     "metadata": {},
     "output_type": "display_data"
    }
   ],
   "source": [
    "plot_distribution('Sex')"
   ]
  },
  {
   "cell_type": "markdown",
   "metadata": {},
   "source": [
    "##### Passenger Age"
   ]
  },
  {
   "cell_type": "markdown",
   "metadata": {},
   "source": [
    "That variable is numerical, let's build another function to plot an histogram showing the chances of survival : "
   ]
  },
  {
   "cell_type": "code",
   "execution_count": 12,
   "metadata": {
    "collapsed": false
   },
   "outputs": [],
   "source": [
    "def plot_histogram(feature):\n",
    "    plt.figure(figsize = (15,5))\n",
    "    plt.title('Distribution of %s' % feature)\n",
    "    temp = train.copy()\n",
    "    temp[feature].fillna(temp[feature].median(),inplace = True)\n",
    "    plt.hist([temp[temp['Survived'] == 1][feature],temp[temp['Survived'] == 0][feature]],stacked = True,bins = 30,label = ['Survived','Dead'])\n",
    "    plt.xlabel(feature)\n",
    "    plt.ylabel('Number of passengers')\n",
    "    plt.show()"
   ]
  },
  {
   "cell_type": "markdown",
   "metadata": {},
   "source": [
    "Most passengers are young people from 20 to 30, about 50% \n",
    "\n",
    "There are about 100 children and teens. And only about 10% of people aged more than 55\n",
    "\n",
    "Young and old people seem more likely to survive."
   ]
  },
  {
   "cell_type": "code",
   "execution_count": 13,
   "metadata": {
    "collapsed": false
   },
   "outputs": [
    {
     "data": {
      "image/png": "[encoded data removed]",
      "text/plain": [
       "<matplotlib.figure.Figure at 0xb6e7588>"
      ]
     },
     "metadata": {},
     "output_type": "display_data"
    }
   ],
   "source": [
    "plot_histogram('Age')"
   ]
  },
  {
   "cell_type": "markdown",
   "metadata": {},
   "source": [
    "##### Siblings embarked\n",
    "This feature is important, because we can imagine that large families are more likely to be travelling in a cheaper situation, thus making them less likely to be saved.\n",
    "- Most passengers travel alone (70%).\n",
    "- 23% travel with one person\n",
    "- A few (and probably one only) big families with eight siblings\n",
    "\n",
    "\n",
    "And, we can observe that people travelling alone or with big families are more likely to die. "
   ]
  },
  {
   "cell_type": "code",
   "execution_count": 14,
   "metadata": {
    "collapsed": false
   },
   "outputs": [
    {
     "data": {
      "text/html": [
       "<div>\n",
       "<table border=\"1\" class=\"dataframe\">\n",
       "  <thead>\n",
       "    <tr style=\"text-align: right;\">\n",
       "      <th></th>\n",
       "      <th>count</th>\n",
       "      <th>survived</th>\n",
       "      <th>dead</th>\n",
       "      <th>percentage</th>\n",
       "      <th>percentage died</th>\n",
       "    </tr>\n",
       "    <tr>\n",
       "      <th>SibSp</th>\n",
       "      <th></th>\n",
       "      <th></th>\n",
       "      <th></th>\n",
       "      <th></th>\n",
       "      <th></th>\n",
       "    </tr>\n",
       "  </thead>\n",
       "  <tbody>\n",
       "    <tr>\n",
       "      <th>0</th>\n",
       "      <td>608</td>\n",
       "      <td>210</td>\n",
       "      <td>398</td>\n",
       "      <td>0.682379</td>\n",
       "      <td>0.654605</td>\n",
       "    </tr>\n",
       "    <tr>\n",
       "      <th>1</th>\n",
       "      <td>209</td>\n",
       "      <td>112</td>\n",
       "      <td>97</td>\n",
       "      <td>0.234568</td>\n",
       "      <td>0.464115</td>\n",
       "    </tr>\n",
       "    <tr>\n",
       "      <th>2</th>\n",
       "      <td>28</td>\n",
       "      <td>13</td>\n",
       "      <td>15</td>\n",
       "      <td>0.031425</td>\n",
       "      <td>0.535714</td>\n",
       "    </tr>\n",
       "    <tr>\n",
       "      <th>3</th>\n",
       "      <td>16</td>\n",
       "      <td>4</td>\n",
       "      <td>12</td>\n",
       "      <td>0.017957</td>\n",
       "      <td>0.750000</td>\n",
       "    </tr>\n",
       "    <tr>\n",
       "      <th>4</th>\n",
       "      <td>18</td>\n",
       "      <td>3</td>\n",
       "      <td>15</td>\n",
       "      <td>0.020202</td>\n",
       "      <td>0.833333</td>\n",
       "    </tr>\n",
       "    <tr>\n",
       "      <th>5</th>\n",
       "      <td>5</td>\n",
       "      <td>0</td>\n",
       "      <td>5</td>\n",
       "      <td>0.005612</td>\n",
       "      <td>1.000000</td>\n",
       "    </tr>\n",
       "    <tr>\n",
       "      <th>8</th>\n",
       "      <td>7</td>\n",
       "      <td>0</td>\n",
       "      <td>7</td>\n",
       "      <td>0.007856</td>\n",
       "      <td>1.000000</td>\n",
       "    </tr>\n",
       "  </tbody>\n",
       "</table>\n",
       "</div>"
      ],
      "text/plain": [
       "       count  survived  dead  percentage  percentage died\n",
       "SibSp                                                    \n",
       "0        608       210   398    0.682379         0.654605\n",
       "1        209       112    97    0.234568         0.464115\n",
       "2         28        13    15    0.031425         0.535714\n",
       "3         16         4    12    0.017957         0.750000\n",
       "4         18         3    15    0.020202         0.833333\n",
       "5          5         0     5    0.005612         1.000000\n",
       "8          7         0     7    0.007856         1.000000"
      ]
     },
     "execution_count": 14,
     "metadata": {},
     "output_type": "execute_result"
    }
   ],
   "source": [
    "distribution_by_unique_values('SibSp')"
   ]
  },
  {
   "cell_type": "markdown",
   "metadata": {},
   "source": [
    "##### Parch\n",
    "Parch is number of parents travelling with a passenger. \n",
    "\n",
    "We can make the same observations as for the siblings : middle sized families are more likely to survive. "
   ]
  },
  {
   "cell_type": "code",
   "execution_count": 15,
   "metadata": {
    "collapsed": false
   },
   "outputs": [
    {
     "data": {
      "text/html": [
       "<div>\n",
       "<table border=\"1\" class=\"dataframe\">\n",
       "  <thead>\n",
       "    <tr style=\"text-align: right;\">\n",
       "      <th></th>\n",
       "      <th>count</th>\n",
       "      <th>survived</th>\n",
       "      <th>dead</th>\n",
       "      <th>percentage</th>\n",
       "      <th>percentage died</th>\n",
       "    </tr>\n",
       "    <tr>\n",
       "      <th>Parch</th>\n",
       "      <th></th>\n",
       "      <th></th>\n",
       "      <th></th>\n",
       "      <th></th>\n",
       "      <th></th>\n",
       "    </tr>\n",
       "  </thead>\n",
       "  <tbody>\n",
       "    <tr>\n",
       "      <th>0</th>\n",
       "      <td>678</td>\n",
       "      <td>233</td>\n",
       "      <td>445</td>\n",
       "      <td>0.760943</td>\n",
       "      <td>0.656342</td>\n",
       "    </tr>\n",
       "    <tr>\n",
       "      <th>1</th>\n",
       "      <td>118</td>\n",
       "      <td>65</td>\n",
       "      <td>53</td>\n",
       "      <td>0.132435</td>\n",
       "      <td>0.449153</td>\n",
       "    </tr>\n",
       "    <tr>\n",
       "      <th>2</th>\n",
       "      <td>80</td>\n",
       "      <td>40</td>\n",
       "      <td>40</td>\n",
       "      <td>0.089787</td>\n",
       "      <td>0.500000</td>\n",
       "    </tr>\n",
       "    <tr>\n",
       "      <th>3</th>\n",
       "      <td>5</td>\n",
       "      <td>3</td>\n",
       "      <td>2</td>\n",
       "      <td>0.005612</td>\n",
       "      <td>0.400000</td>\n",
       "    </tr>\n",
       "    <tr>\n",
       "      <th>4</th>\n",
       "      <td>4</td>\n",
       "      <td>0</td>\n",
       "      <td>4</td>\n",
       "      <td>0.004489</td>\n",
       "      <td>1.000000</td>\n",
       "    </tr>\n",
       "    <tr>\n",
       "      <th>5</th>\n",
       "      <td>5</td>\n",
       "      <td>1</td>\n",
       "      <td>4</td>\n",
       "      <td>0.005612</td>\n",
       "      <td>0.800000</td>\n",
       "    </tr>\n",
       "    <tr>\n",
       "      <th>6</th>\n",
       "      <td>1</td>\n",
       "      <td>0</td>\n",
       "      <td>1</td>\n",
       "      <td>0.001122</td>\n",
       "      <td>1.000000</td>\n",
       "    </tr>\n",
       "  </tbody>\n",
       "</table>\n",
       "</div>"
      ],
      "text/plain": [
       "       count  survived  dead  percentage  percentage died\n",
       "Parch                                                    \n",
       "0        678       233   445    0.760943         0.656342\n",
       "1        118        65    53    0.132435         0.449153\n",
       "2         80        40    40    0.089787         0.500000\n",
       "3          5         3     2    0.005612         0.400000\n",
       "4          4         0     4    0.004489         1.000000\n",
       "5          5         1     4    0.005612         0.800000\n",
       "6          1         0     1    0.001122         1.000000"
      ]
     },
     "execution_count": 15,
     "metadata": {},
     "output_type": "execute_result"
    }
   ],
   "source": [
    "distribution_by_unique_values('Parch')"
   ]
  },
  {
   "cell_type": "markdown",
   "metadata": {},
   "source": [
    "##### Ticket fare\n",
    "Again this is a probably import feature, if we assume that rich passengers are more likely to survive. \n",
    "\n",
    "Most people paid a really low price, while a few paid 10 times the low price ticket"
   ]
  },
  {
   "cell_type": "code",
   "execution_count": 16,
   "metadata": {
    "collapsed": false
   },
   "outputs": [
    {
     "data": {
      "image/png": "[encoded data removed]",
      "text/plain": [
       "<matplotlib.figure.Figure at 0xb8ea198>"
      ]
     },
     "metadata": {},
     "output_type": "display_data"
    }
   ],
   "source": [
    "plt.title('Distribution of passengers ticket fare')\n",
    "train['Fare'].hist(bins = 10)\n",
    "plt.show()"
   ]
  },
  {
   "cell_type": "markdown",
   "metadata": {},
   "source": [
    "##### Cabin Number\n",
    "Cabin number will be a less important feature in the first models. We can probably extract information about where are located the cabins. \n",
    "\n",
    "Some assumptions : \n",
    "- Cabins with the same letter have the same standing, hosting categories of people with similar survival probabilities\n",
    "- Some cabins are probably located closer from the safety boats\n",
    "- Number can indicate in which floor the cabin is situated. On the top floor you take more time to reach the safety boats. \n",
    "\n",
    "We noticed also "
   ]
  },
  {
   "cell_type": "code",
   "execution_count": 17,
   "metadata": {
    "collapsed": false
   },
   "outputs": [
    {
     "data": {
      "text/plain": [
       "array([nan, 'C85', 'C123', 'E46', 'G6', 'C103', 'D56', 'A6', 'C23 C25 C27',\n",
       "       'B78', 'D33', 'B30', 'C52', 'B28', 'C83', 'F33', 'F G73', 'E31',\n",
       "       'A5', 'D10 D12', 'D26', 'C110', 'B58 B60', 'E101', 'F E69', 'D47',\n",
       "       'B86', 'F2', 'C2', 'E33', 'B19', 'A7', 'C49', 'F4', 'A32', 'B4',\n",
       "       'B80', 'A31', 'D36', 'D15', 'C93', 'C78', 'D35', 'C87', 'B77',\n",
       "       'E67', 'B94', 'C125', 'C99', 'C118', 'D7', 'A19', 'B49', 'D',\n",
       "       'C22 C26', 'C106', 'C65', 'E36', 'C54', 'B57 B59 B63 B66', 'C7',\n",
       "       'E34', 'C32', 'B18', 'C124', 'C91', 'E40', 'T', 'C128', 'D37',\n",
       "       'B35', 'E50', 'C82', 'B96 B98', 'E10', 'E44', 'A34', 'C104', 'C111',\n",
       "       'C92', 'E38', 'D21', 'E12', 'E63', 'A14', 'B37', 'C30', 'D20',\n",
       "       'B79', 'E25', 'D46', 'B73', 'C95', 'B38', 'B39', 'B22', 'C86',\n",
       "       'C70', 'A16', 'C101', 'C68', 'A10', 'E68', 'B41', 'A20', 'D19',\n",
       "       'D50', 'D9', 'A23', 'B50', 'A26', 'D48', 'E58', 'C126', 'B71',\n",
       "       'B51 B53 B55', 'D49', 'B5', 'B20', 'F G63', 'C62 C64', 'E24', 'C90',\n",
       "       'C45', 'E8', 'B101', 'D45', 'C46', 'D30', 'E121', 'D11', 'E77',\n",
       "       'F38', 'B3', 'D6', 'B82 B84', 'D17', 'A36', 'B102', 'B69', 'E49',\n",
       "       'C47', 'D28', 'E17', 'A24', 'C50', 'B42', 'C148'], dtype=object)"
      ]
     },
     "execution_count": 17,
     "metadata": {},
     "output_type": "execute_result"
    }
   ],
   "source": [
    "train.Cabin.unique()"
   ]
  },
  {
   "cell_type": "markdown",
   "metadata": {},
   "source": [
    "##### Embarked\n",
    "\n",
    "Embarked is where people have embarked on the boat. This can be correlated to the location of the cabin and thus if they would survive or not. \n",
    "\n",
    "Indeed, people who have embarked at C are substantially more likely to survive. \n",
    "\n",
    "The S embarkation looks like the cheapest one, with the most people and only 33% chances to survive VS 55% for C"
   ]
  },
  {
   "cell_type": "code",
   "execution_count": 18,
   "metadata": {
    "collapsed": false
   },
   "outputs": [
    {
     "data": {
      "text/plain": [
       "array(['S', 'C', 'Q', nan], dtype=object)"
      ]
     },
     "execution_count": 18,
     "metadata": {},
     "output_type": "execute_result"
    }
   ],
   "source": [
    "train['Embarked'].unique()"
   ]
  },
  {
   "cell_type": "code",
   "execution_count": 19,
   "metadata": {
    "collapsed": false
   },
   "outputs": [
    {
     "data": {
      "text/html": [
       "<div>\n",
       "<table border=\"1\" class=\"dataframe\">\n",
       "  <thead>\n",
       "    <tr style=\"text-align: right;\">\n",
       "      <th></th>\n",
       "      <th>count</th>\n",
       "      <th>survived</th>\n",
       "      <th>dead</th>\n",
       "      <th>percentage</th>\n",
       "      <th>percentage died</th>\n",
       "    </tr>\n",
       "    <tr>\n",
       "      <th>Embarked</th>\n",
       "      <th></th>\n",
       "      <th></th>\n",
       "      <th></th>\n",
       "      <th></th>\n",
       "      <th></th>\n",
       "    </tr>\n",
       "  </thead>\n",
       "  <tbody>\n",
       "    <tr>\n",
       "      <th>C</th>\n",
       "      <td>168</td>\n",
       "      <td>93</td>\n",
       "      <td>75</td>\n",
       "      <td>0.188976</td>\n",
       "      <td>0.446429</td>\n",
       "    </tr>\n",
       "    <tr>\n",
       "      <th>Q</th>\n",
       "      <td>77</td>\n",
       "      <td>30</td>\n",
       "      <td>47</td>\n",
       "      <td>0.086614</td>\n",
       "      <td>0.610390</td>\n",
       "    </tr>\n",
       "    <tr>\n",
       "      <th>S</th>\n",
       "      <td>644</td>\n",
       "      <td>217</td>\n",
       "      <td>427</td>\n",
       "      <td>0.724409</td>\n",
       "      <td>0.663043</td>\n",
       "    </tr>\n",
       "  </tbody>\n",
       "</table>\n",
       "</div>"
      ],
      "text/plain": [
       "          count  survived  dead  percentage  percentage died\n",
       "Embarked                                                    \n",
       "C           168        93    75    0.188976         0.446429\n",
       "Q            77        30    47    0.086614         0.610390\n",
       "S           644       217   427    0.724409         0.663043"
      ]
     },
     "execution_count": 19,
     "metadata": {},
     "output_type": "execute_result"
    }
   ],
   "source": [
    "distribution_by_unique_values('Embarked')"
   ]
  },
  {
   "cell_type": "code",
   "execution_count": 20,
   "metadata": {
    "collapsed": false
   },
   "outputs": [
    {
     "data": {
      "image/png": "[encoded data removed]",
      "text/plain": [
       "<matplotlib.figure.Figure at 0xb9433c8>"
      ]
     },
     "metadata": {},
     "output_type": "display_data"
    }
   ],
   "source": [
    "plot_distribution('Embarked')"
   ]
  },
  {
   "cell_type": "markdown",
   "metadata": {},
   "source": [
    "##### Survived\n",
    "\n",
    "Of course we have to take a quick look at the survival data. \n",
    "\n",
    "61% have died in the collision"
   ]
  },
  {
   "cell_type": "code",
   "execution_count": 21,
   "metadata": {
    "collapsed": false
   },
   "outputs": [
    {
     "data": {
      "text/html": [
       "<div>\n",
       "<table border=\"1\" class=\"dataframe\">\n",
       "  <thead>\n",
       "    <tr style=\"text-align: right;\">\n",
       "      <th></th>\n",
       "      <th>count</th>\n",
       "      <th>%</th>\n",
       "    </tr>\n",
       "    <tr>\n",
       "      <th>Survived</th>\n",
       "      <th></th>\n",
       "      <th></th>\n",
       "    </tr>\n",
       "  </thead>\n",
       "  <tbody>\n",
       "    <tr>\n",
       "      <th>0</th>\n",
       "      <td>549</td>\n",
       "      <td>0.616162</td>\n",
       "    </tr>\n",
       "    <tr>\n",
       "      <th>1</th>\n",
       "      <td>342</td>\n",
       "      <td>0.383838</td>\n",
       "    </tr>\n",
       "  </tbody>\n",
       "</table>\n",
       "</div>"
      ],
      "text/plain": [
       "          count         %\n",
       "Survived                 \n",
       "0           549  0.616162\n",
       "1           342  0.383838"
      ]
     },
     "execution_count": 21,
     "metadata": {},
     "output_type": "execute_result"
    }
   ],
   "source": [
    "temp = pd.DataFrame()\n",
    "temp['count'] = train.groupby('Survived').count()['PassengerId']\n",
    "temp['%'] = temp['count']/sum(temp['count'])\n",
    "temp"
   ]
  },
  {
   "cell_type": "markdown",
   "metadata": {
    "collapsed": true
   },
   "source": [
    "##### Conclusion\n",
    "Let's draw some observations of the first exploratory analysis. \n",
    "- We discovered the data and the features\n",
    "- We observed the distribution of each features. \n",
    "- We found some correlations between variables (cabin, sex, age, size of the group travelling) with survival\n",
    "\n",
    "In the future, while processing the data, we will build more interesting features with the name and the cabin. \n",
    "But still, let's start with that to see the impact of each improvement on the accuracy. "
   ]
  },
  {
   "cell_type": "markdown",
   "metadata": {},
   "source": [
    "***\n",
    "## FIRST FEATURE ENGINEERING MODEL\n",
    "I want to separate the feature engineering from the algorithm accuracy. So at first, we will tune a model only with the data previously seen. \n",
    "\n",
    "Let's take a look again at the data"
   ]
  },
  {
   "cell_type": "code",
   "execution_count": 22,
   "metadata": {
    "collapsed": false
   },
   "outputs": [
    {
     "data": {
      "text/html": [
       "<div>\n",
       "<table border=\"1\" class=\"dataframe\">\n",
       "  <thead>\n",
       "    <tr style=\"text-align: right;\">\n",
       "      <th></th>\n",
       "      <th>PassengerId</th>\n",
       "      <th>Survived</th>\n",
       "      <th>Pclass</th>\n",
       "      <th>Name</th>\n",
       "      <th>Sex</th>\n",
       "      <th>Age</th>\n",
       "      <th>SibSp</th>\n",
       "      <th>Parch</th>\n",
       "      <th>Ticket</th>\n",
       "      <th>Fare</th>\n",
       "      <th>Cabin</th>\n",
       "      <th>Embarked</th>\n",
       "    </tr>\n",
       "  </thead>\n",
       "  <tbody>\n",
       "    <tr>\n",
       "      <th>0</th>\n",
       "      <td>1</td>\n",
       "      <td>0</td>\n",
       "      <td>3</td>\n",
       "      <td>Braund, Mr. Owen Harris</td>\n",
       "      <td>male</td>\n",
       "      <td>22.0</td>\n",
       "      <td>1</td>\n",
       "      <td>0</td>\n",
       "      <td>A/5 21171</td>\n",
       "      <td>7.2500</td>\n",
       "      <td>NaN</td>\n",
       "      <td>S</td>\n",
       "    </tr>\n",
       "    <tr>\n",
       "      <th>1</th>\n",
       "      <td>2</td>\n",
       "      <td>1</td>\n",
       "      <td>1</td>\n",
       "      <td>Cumings, Mrs. John Bradley (Florence Briggs Th...</td>\n",
       "      <td>female</td>\n",
       "      <td>38.0</td>\n",
       "      <td>1</td>\n",
       "      <td>0</td>\n",
       "      <td>PC 17599</td>\n",
       "      <td>71.2833</td>\n",
       "      <td>C85</td>\n",
       "      <td>C</td>\n",
       "    </tr>\n",
       "    <tr>\n",
       "      <th>2</th>\n",
       "      <td>3</td>\n",
       "      <td>1</td>\n",
       "      <td>3</td>\n",
       "      <td>Heikkinen, Miss. Laina</td>\n",
       "      <td>female</td>\n",
       "      <td>26.0</td>\n",
       "      <td>0</td>\n",
       "      <td>0</td>\n",
       "      <td>STON/O2. 3101282</td>\n",
       "      <td>7.9250</td>\n",
       "      <td>NaN</td>\n",
       "      <td>S</td>\n",
       "    </tr>\n",
       "    <tr>\n",
       "      <th>3</th>\n",
       "      <td>4</td>\n",
       "      <td>1</td>\n",
       "      <td>1</td>\n",
       "      <td>Futrelle, Mrs. Jacques Heath (Lily May Peel)</td>\n",
       "      <td>female</td>\n",
       "      <td>35.0</td>\n",
       "      <td>1</td>\n",
       "      <td>0</td>\n",
       "      <td>113803</td>\n",
       "      <td>53.1000</td>\n",
       "      <td>C123</td>\n",
       "      <td>S</td>\n",
       "    </tr>\n",
       "    <tr>\n",
       "      <th>4</th>\n",
       "      <td>5</td>\n",
       "      <td>0</td>\n",
       "      <td>3</td>\n",
       "      <td>Allen, Mr. William Henry</td>\n",
       "      <td>male</td>\n",
       "      <td>35.0</td>\n",
       "      <td>0</td>\n",
       "      <td>0</td>\n",
       "      <td>373450</td>\n",
       "      <td>8.0500</td>\n",
       "      <td>NaN</td>\n",
       "      <td>S</td>\n",
       "    </tr>\n",
       "  </tbody>\n",
       "</table>\n",
       "</div>"
      ],
      "text/plain": [
       "   PassengerId  Survived  Pclass  \\\n",
       "0            1         0       3   \n",
       "1            2         1       1   \n",
       "2            3         1       3   \n",
       "3            4         1       1   \n",
       "4            5         0       3   \n",
       "\n",
       "                                                Name     Sex   Age  SibSp  \\\n",
       "0                            Braund, Mr. Owen Harris    male  22.0      1   \n",
       "1  Cumings, Mrs. John Bradley (Florence Briggs Th...  female  38.0      1   \n",
       "2                             Heikkinen, Miss. Laina  female  26.0      0   \n",
       "3       Futrelle, Mrs. Jacques Heath (Lily May Peel)  female  35.0      1   \n",
       "4                           Allen, Mr. William Henry    male  35.0      0   \n",
       "\n",
       "   Parch            Ticket     Fare Cabin Embarked  \n",
       "0      0         A/5 21171   7.2500   NaN        S  \n",
       "1      0          PC 17599  71.2833   C85        C  \n",
       "2      0  STON/O2. 3101282   7.9250   NaN        S  \n",
       "3      0            113803  53.1000  C123        S  \n",
       "4      0            373450   8.0500   NaN        S  "
      ]
     },
     "execution_count": 22,
     "metadata": {},
     "output_type": "execute_result"
    }
   ],
   "source": [
    "train.head()"
   ]
  },
  {
   "cell_type": "markdown",
   "metadata": {},
   "source": [
    "##### We will only keep the following features for now : \n",
    "- Pclass\n",
    "- Sex\n",
    "- Age\n",
    "- SibSp\n",
    "- Parch\n",
    "- Fare\n",
    "- Embarked\n",
    "\n",
    "\n",
    "\n",
    "##### The first preprocessing will hold these steps: \n",
    "- Keep the above features\n",
    "- Clean the missing data with simply the median for the Age and Fare and the most frequent category for Embarked (S)\n",
    "- Engineer the feature \"GroupSize\" from \"SibSp\" and \"Parch\"\n",
    "- For each categorical variable, create one-hot-encoding (boolean) features\n",
    "- Normalize every feature to facilitate the optimization"
   ]
  },
  {
   "cell_type": "code",
   "execution_count": 23,
   "metadata": {
    "collapsed": false
   },
   "outputs": [],
   "source": [
    "def preprocessing_first(normalization = True):\n",
    "    '''\n",
    "    FIRST PREPROCESSING MODEL FOR TITANIC DATA\n",
    "    '''\n",
    "    global train\n",
    "    global test  \n",
    "    \n",
    "    print('>> Preprocessing the data ...')\n",
    "    print('')\n",
    "    \n",
    "    target = ['Survived']\n",
    "    features = ['Pclass','Sex','SibSp','Parch','Embarked','Fare','Age']\n",
    "    \n",
    "    '''COMBINING THE DATA TO PREPROCESS'''\n",
    "    print(\"- Combining\")\n",
    "    data = train[features].append(test[features],ignore_index = True).copy()\n",
    "    \n",
    "    \n",
    "    '''FILLING MISSING DATA : filling \"Age\" and \"Fare\" with the median, and \"Embarked\" with \"S\" '''\n",
    "    print(\"- Filling missing data\")\n",
    "    data['Age'] = data['Age'].fillna(data['Age'].median())\n",
    "    data['Fare'] = data['Fare'].fillna(data['Fare'].median())\n",
    "    data['Embarked'] = data['Embarked'].fillna(\"S\")\n",
    "        \n",
    "        \n",
    "    '''SAFETY CHECK FOR MISSING DATA'''\n",
    "    test_missing_data = data.isnull().sum()\n",
    "    if test_missing_data.sum() > 0:\n",
    "        missing_features = list(test_missing_data[test_missing_data != 0].index)\n",
    "        raise ValueError(\"Unable to process because of remaining missing data : %s \" % missing_features)\n",
    "    else:\n",
    "        print(\"  ... No missing data\")\n",
    "    \n",
    "    \n",
    "    '''FEATURE ENGINEERING'''\n",
    "    print('- Feature engineering')\n",
    "    #CREATING THE GROUPSIZE FEATURE\n",
    "    print('  ... Group Size')\n",
    "    data['Groupsize'] = data['SibSp']+data['Parch']\n",
    "    data.drop(['SibSp','Parch'],axis = 1,inplace = True)\n",
    "    \n",
    "    \n",
    "    '''ONE HOT ENCODING'''\n",
    "    print(\"- One Hot Encoding\")\n",
    "    cat_features = ['Pclass','Sex','Embarked']\n",
    "    for feature in cat_features:\n",
    "        onehot = pd.get_dummies(data[feature],prefix = feature)\n",
    "        data = pd.concat([data,onehot],axis = 1)\n",
    "        data.drop(feature,axis = 1,inplace = True)\n",
    "    \n",
    "    '''NORMALIZATION'''\n",
    "    if normalization:\n",
    "        print('- Normalization')\n",
    "        for feature in data.columns:\n",
    "            mean = data[feature].mean()\n",
    "            std = data[feature].std()\n",
    "            data[feature] = data[feature].map(lambda x : (x-mean)/std)\n",
    "    \n",
    "    '''EXTRACTING THE PREPROCESSED TRAIN AND TEST DATA FROM THE COMBINED DATA'''\n",
    "    print('- Extracting the train and test set')\n",
    "    data_train,data_test = data.ix[:len(train)-1].copy(),data.ix[len(train):].reset_index(drop=True).copy()\n",
    "    data_train['Survived'] = train['Survived']\n",
    "    \n",
    "    print('')\n",
    "    print(\">> Preprocessing the data OK\")\n",
    "    return data_train,data_test\n"
   ]
  },
  {
   "cell_type": "code",
   "execution_count": 24,
   "metadata": {
    "collapsed": false
   },
   "outputs": [
    {
     "name": "stdout",
     "output_type": "stream",
     "text": [
      ">> Preprocessing the data ...\n",
      "\n",
      "- Combining\n",
      "- Filling missing data\n",
      "  ... No missing data\n",
      "- Feature engineering\n",
      "  ... Group Size\n",
      "- One Hot Encoding\n",
      "- Normalization\n",
      "- Extracting the train and test set\n",
      "\n",
      ">> Preprocessing the data OK\n"
     ]
    }
   ],
   "source": [
    "data_train,data_test = preprocessing_first()"
   ]
  },
  {
   "cell_type": "markdown",
   "metadata": {},
   "source": [
    "##### We now have a first version of our processed and cleaned dataset on which we can perform machine learning predictions"
   ]
  },
  {
   "cell_type": "code",
   "execution_count": 25,
   "metadata": {
    "collapsed": false
   },
   "outputs": [
    {
     "data": {
      "text/html": [
       "<div>\n",
       "<table border=\"1\" class=\"dataframe\">\n",
       "  <thead>\n",
       "    <tr style=\"text-align: right;\">\n",
       "      <th></th>\n",
       "      <th>Fare</th>\n",
       "      <th>Age</th>\n",
       "      <th>Groupsize</th>\n",
       "      <th>Pclass_1</th>\n",
       "      <th>Pclass_2</th>\n",
       "      <th>Pclass_3</th>\n",
       "      <th>Sex_female</th>\n",
       "      <th>Sex_male</th>\n",
       "      <th>Embarked_C</th>\n",
       "      <th>Embarked_Q</th>\n",
       "      <th>Embarked_S</th>\n",
       "      <th>Survived</th>\n",
       "    </tr>\n",
       "  </thead>\n",
       "  <tbody>\n",
       "    <tr>\n",
       "      <th>0</th>\n",
       "      <td>-0.503099</td>\n",
       "      <td>-0.581406</td>\n",
       "      <td>0.073324</td>\n",
       "      <td>-0.572133</td>\n",
       "      <td>-0.517886</td>\n",
       "      <td>0.919574</td>\n",
       "      <td>-0.743213</td>\n",
       "      <td>0.743213</td>\n",
       "      <td>-0.509575</td>\n",
       "      <td>-0.321917</td>\n",
       "      <td>0.654761</td>\n",
       "      <td>0</td>\n",
       "    </tr>\n",
       "    <tr>\n",
       "      <th>1</th>\n",
       "      <td>0.734463</td>\n",
       "      <td>0.658400</td>\n",
       "      <td>0.073324</td>\n",
       "      <td>1.746511</td>\n",
       "      <td>-0.517886</td>\n",
       "      <td>-1.086630</td>\n",
       "      <td>1.344482</td>\n",
       "      <td>-1.344482</td>\n",
       "      <td>1.960920</td>\n",
       "      <td>-0.321917</td>\n",
       "      <td>-1.526109</td>\n",
       "      <td>1</td>\n",
       "    </tr>\n",
       "    <tr>\n",
       "      <th>2</th>\n",
       "      <td>-0.490053</td>\n",
       "      <td>-0.271455</td>\n",
       "      <td>-0.558133</td>\n",
       "      <td>-0.572133</td>\n",
       "      <td>-0.517886</td>\n",
       "      <td>0.919574</td>\n",
       "      <td>1.344482</td>\n",
       "      <td>-1.344482</td>\n",
       "      <td>-0.509575</td>\n",
       "      <td>-0.321917</td>\n",
       "      <td>0.654761</td>\n",
       "      <td>1</td>\n",
       "    </tr>\n",
       "    <tr>\n",
       "      <th>3</th>\n",
       "      <td>0.383037</td>\n",
       "      <td>0.425937</td>\n",
       "      <td>0.073324</td>\n",
       "      <td>1.746511</td>\n",
       "      <td>-0.517886</td>\n",
       "      <td>-1.086630</td>\n",
       "      <td>1.344482</td>\n",
       "      <td>-1.344482</td>\n",
       "      <td>-0.509575</td>\n",
       "      <td>-0.321917</td>\n",
       "      <td>0.654761</td>\n",
       "      <td>1</td>\n",
       "    </tr>\n",
       "    <tr>\n",
       "      <th>4</th>\n",
       "      <td>-0.487637</td>\n",
       "      <td>0.425937</td>\n",
       "      <td>-0.558133</td>\n",
       "      <td>-0.572133</td>\n",
       "      <td>-0.517886</td>\n",
       "      <td>0.919574</td>\n",
       "      <td>-0.743213</td>\n",
       "      <td>0.743213</td>\n",
       "      <td>-0.509575</td>\n",
       "      <td>-0.321917</td>\n",
       "      <td>0.654761</td>\n",
       "      <td>0</td>\n",
       "    </tr>\n",
       "  </tbody>\n",
       "</table>\n",
       "</div>"
      ],
      "text/plain": [
       "       Fare       Age  Groupsize  Pclass_1  Pclass_2  Pclass_3  Sex_female  \\\n",
       "0 -0.503099 -0.581406   0.073324 -0.572133 -0.517886  0.919574   -0.743213   \n",
       "1  0.734463  0.658400   0.073324  1.746511 -0.517886 -1.086630    1.344482   \n",
       "2 -0.490053 -0.271455  -0.558133 -0.572133 -0.517886  0.919574    1.344482   \n",
       "3  0.383037  0.425937   0.073324  1.746511 -0.517886 -1.086630    1.344482   \n",
       "4 -0.487637  0.425937  -0.558133 -0.572133 -0.517886  0.919574   -0.743213   \n",
       "\n",
       "   Sex_male  Embarked_C  Embarked_Q  Embarked_S  Survived  \n",
       "0  0.743213   -0.509575   -0.321917    0.654761         0  \n",
       "1 -1.344482    1.960920   -0.321917   -1.526109         1  \n",
       "2 -1.344482   -0.509575   -0.321917    0.654761         1  \n",
       "3 -1.344482   -0.509575   -0.321917    0.654761         1  \n",
       "4  0.743213   -0.509575   -0.321917    0.654761         0  "
      ]
     },
     "execution_count": 25,
     "metadata": {},
     "output_type": "execute_result"
    }
   ],
   "source": [
    "data_train.head()"
   ]
  },
  {
   "cell_type": "code",
   "execution_count": 26,
   "metadata": {
    "collapsed": false
   },
   "outputs": [
    {
     "data": {
      "text/html": [
       "<div>\n",
       "<table border=\"1\" class=\"dataframe\">\n",
       "  <thead>\n",
       "    <tr style=\"text-align: right;\">\n",
       "      <th></th>\n",
       "      <th>Fare</th>\n",
       "      <th>Age</th>\n",
       "      <th>Groupsize</th>\n",
       "      <th>Pclass_1</th>\n",
       "      <th>Pclass_2</th>\n",
       "      <th>Pclass_3</th>\n",
       "      <th>Sex_female</th>\n",
       "      <th>Sex_male</th>\n",
       "      <th>Embarked_C</th>\n",
       "      <th>Embarked_Q</th>\n",
       "      <th>Embarked_S</th>\n",
       "    </tr>\n",
       "  </thead>\n",
       "  <tbody>\n",
       "    <tr>\n",
       "      <th>0</th>\n",
       "      <td>-0.491905</td>\n",
       "      <td>0.387193</td>\n",
       "      <td>-0.558133</td>\n",
       "      <td>-0.572133</td>\n",
       "      <td>-0.517886</td>\n",
       "      <td>0.919574</td>\n",
       "      <td>-0.743213</td>\n",
       "      <td>0.743213</td>\n",
       "      <td>-0.509575</td>\n",
       "      <td>3.104015</td>\n",
       "      <td>-1.526109</td>\n",
       "    </tr>\n",
       "    <tr>\n",
       "      <th>1</th>\n",
       "      <td>-0.507930</td>\n",
       "      <td>1.355791</td>\n",
       "      <td>0.073324</td>\n",
       "      <td>-0.572133</td>\n",
       "      <td>-0.517886</td>\n",
       "      <td>0.919574</td>\n",
       "      <td>1.344482</td>\n",
       "      <td>-1.344482</td>\n",
       "      <td>-0.509575</td>\n",
       "      <td>-0.321917</td>\n",
       "      <td>0.654761</td>\n",
       "    </tr>\n",
       "    <tr>\n",
       "      <th>2</th>\n",
       "      <td>-0.455990</td>\n",
       "      <td>2.518110</td>\n",
       "      <td>-0.558133</td>\n",
       "      <td>-0.572133</td>\n",
       "      <td>1.929452</td>\n",
       "      <td>-1.086630</td>\n",
       "      <td>-0.743213</td>\n",
       "      <td>0.743213</td>\n",
       "      <td>-0.509575</td>\n",
       "      <td>3.104015</td>\n",
       "      <td>-1.526109</td>\n",
       "    </tr>\n",
       "    <tr>\n",
       "      <th>3</th>\n",
       "      <td>-0.475800</td>\n",
       "      <td>-0.193967</td>\n",
       "      <td>-0.558133</td>\n",
       "      <td>-0.572133</td>\n",
       "      <td>-0.517886</td>\n",
       "      <td>0.919574</td>\n",
       "      <td>-0.743213</td>\n",
       "      <td>0.743213</td>\n",
       "      <td>-0.509575</td>\n",
       "      <td>-0.321917</td>\n",
       "      <td>0.654761</td>\n",
       "    </tr>\n",
       "    <tr>\n",
       "      <th>4</th>\n",
       "      <td>-0.405740</td>\n",
       "      <td>-0.581406</td>\n",
       "      <td>0.704781</td>\n",
       "      <td>-0.572133</td>\n",
       "      <td>-0.517886</td>\n",
       "      <td>0.919574</td>\n",
       "      <td>1.344482</td>\n",
       "      <td>-1.344482</td>\n",
       "      <td>-0.509575</td>\n",
       "      <td>-0.321917</td>\n",
       "      <td>0.654761</td>\n",
       "    </tr>\n",
       "  </tbody>\n",
       "</table>\n",
       "</div>"
      ],
      "text/plain": [
       "       Fare       Age  Groupsize  Pclass_1  Pclass_2  Pclass_3  Sex_female  \\\n",
       "0 -0.491905  0.387193  -0.558133 -0.572133 -0.517886  0.919574   -0.743213   \n",
       "1 -0.507930  1.355791   0.073324 -0.572133 -0.517886  0.919574    1.344482   \n",
       "2 -0.455990  2.518110  -0.558133 -0.572133  1.929452 -1.086630   -0.743213   \n",
       "3 -0.475800 -0.193967  -0.558133 -0.572133 -0.517886  0.919574   -0.743213   \n",
       "4 -0.405740 -0.581406   0.704781 -0.572133 -0.517886  0.919574    1.344482   \n",
       "\n",
       "   Sex_male  Embarked_C  Embarked_Q  Embarked_S  \n",
       "0  0.743213   -0.509575    3.104015   -1.526109  \n",
       "1 -1.344482   -0.509575   -0.321917    0.654761  \n",
       "2  0.743213   -0.509575    3.104015   -1.526109  \n",
       "3  0.743213   -0.509575   -0.321917    0.654761  \n",
       "4 -1.344482   -0.509575   -0.321917    0.654761  "
      ]
     },
     "execution_count": 26,
     "metadata": {},
     "output_type": "execute_result"
    }
   ],
   "source": [
    "data_test.head()"
   ]
  },
  {
   "cell_type": "markdown",
   "metadata": {},
   "source": [
    "***\n",
    "## First Machine Learning model"
   ]
  },
  {
   "cell_type": "markdown",
   "metadata": {},
   "source": [
    "#### Classifiers\n",
    "We are going to try the following machine learning classifiers encompassing regression to ensemble classifiers"
   ]
  },
  {
   "cell_type": "code",
   "execution_count": 27,
   "metadata": {
    "collapsed": true
   },
   "outputs": [],
   "source": [
    "from sklearn import naive_bayes\n",
    "from sklearn.linear_model import LogisticRegression\n",
    "from sklearn.ensemble import RandomForestClassifier\n",
    "from sklearn.ensemble import GradientBoostingClassifier\n",
    "from sklearn.svm import LinearSVC\n",
    "from sklearn.svm import SVC\n",
    "from sklearn.neighbors import KNeighborsClassifier\n",
    "from sklearn.tree import DecisionTreeClassifier\n",
    "\n",
    "#CLASSIFIER\n",
    "classifiers = [\n",
    "    ('Naive Bayes Multinomial',naive_bayes.MultinomialNB(fit_prior = True)),\n",
    "    ('Naive Bayes Gaussian',naive_bayes.GaussianNB()),\n",
    "    ('Logistic Regression',LogisticRegression()),\n",
    "    ('Linear SVC',LinearSVC(C=1.0)),\n",
    "    ('Random Forest',RandomForestClassifier(n_estimators=30,min_samples_leaf = 1,min_samples_split = 10)),\n",
    "    ('Gradient Boosting',GradientBoostingClassifier(random_state=1, n_estimators=50, max_depth=30)),\n",
    "    ('KNeighbors',KNeighborsClassifier()),\n",
    "    ('SVC',SVC(gamma=2, C=1)),\n",
    "    ('Decision Tree',DecisionTreeClassifier()),\n",
    "]"
   ]
  },
  {
   "cell_type": "markdown",
   "metadata": {},
   "source": [
    "We are going to need to perform cross validation to assess the validity of our classifiers. \n",
    "\n",
    "For that we are going to use the following function :"
   ]
  },
  {
   "cell_type": "code",
   "execution_count": 8,
   "metadata": {
    "collapsed": true
   },
   "outputs": [],
   "source": [
    "from sklearn.cross_validation import cross_val_score\n",
    "\n",
    "def cross_validation_score(clf,training_set,n_folds = 5,return_score = False):\n",
    "    X,y = training_set.iloc[:,:-1],training_set.iloc[:,-1]\n",
    "    scores = list(cross_val_score(clf,X,y,cv = n_folds))\n",
    "    scores = sum(scores)/len(scores)\n",
    "    print(\"- Cross validation score of %s\" % scores)\n",
    "    if return_score:\n",
    "        return scores"
   ]
  },
  {
   "cell_type": "markdown",
   "metadata": {},
   "source": [
    "#### First test with all the classifiers\n",
    "Every classifier achieve a cross validation score of about 80% : \n",
    "\n",
    "The bests without tuning any hyperparameters seem to be Random Forest and SVM\n",
    "\n",
    "(NB : the Multinomial Naive Bayes does not work with negative numbers) "
   ]
  },
  {
   "cell_type": "code",
   "execution_count": 29,
   "metadata": {
    "collapsed": false
   },
   "outputs": [
    {
     "name": "stdout",
     "output_type": "stream",
     "text": [
      "Testing Naive Bayes Multinomial \n",
      "- PROBLEM\n",
      "\n",
      "Testing Naive Bayes Gaussian \n",
      "- Cross validation score of 0.789081834905\n",
      "\n",
      "Testing Logistic Regression \n",
      "- Cross validation score of 0.79355132143\n",
      "\n",
      "Testing Linear SVC \n",
      "- Cross validation score of 0.799125288541\n",
      "\n",
      "Testing Random Forest \n",
      "- Cross validation score of 0.828364234604\n",
      "\n",
      "Testing Gradient Boosting \n",
      "- Cross validation score of 0.784562202748\n",
      "\n",
      "Testing KNeighbors \n",
      "- Cross validation score of 0.804736563435\n",
      "\n",
      "Testing SVC \n",
      "- Cross validation score of 0.781191345304\n",
      "\n",
      "Testing Decision Tree \n",
      "- Cross validation score of 0.777801585723\n",
      "\n"
     ]
    }
   ],
   "source": [
    "for classifier in classifiers:\n",
    "    try:\n",
    "        print('Testing %s ' % classifier[0])\n",
    "        cross_validation_score(classifier[1],data_train)\n",
    "        print('')\n",
    "    except:\n",
    "        print('- PROBLEM')\n",
    "        print('')\n",
    "        pass"
   ]
  },
  {
   "cell_type": "markdown",
   "metadata": {},
   "source": [
    "#### First submission to Kaggle\n",
    "Let's build the Kaggle submission with the Random Forest classifier"
   ]
  },
  {
   "cell_type": "code",
   "execution_count": 102,
   "metadata": {
    "collapsed": false
   },
   "outputs": [
    {
     "data": {
      "text/html": [
       "<div>\n",
       "<table border=\"1\" class=\"dataframe\">\n",
       "  <thead>\n",
       "    <tr style=\"text-align: right;\">\n",
       "      <th></th>\n",
       "      <th>PassengerId</th>\n",
       "      <th>Survived</th>\n",
       "    </tr>\n",
       "  </thead>\n",
       "  <tbody>\n",
       "    <tr>\n",
       "      <th>0</th>\n",
       "      <td>892</td>\n",
       "      <td>0</td>\n",
       "    </tr>\n",
       "    <tr>\n",
       "      <th>1</th>\n",
       "      <td>893</td>\n",
       "      <td>0</td>\n",
       "    </tr>\n",
       "    <tr>\n",
       "      <th>2</th>\n",
       "      <td>894</td>\n",
       "      <td>0</td>\n",
       "    </tr>\n",
       "    <tr>\n",
       "      <th>3</th>\n",
       "      <td>895</td>\n",
       "      <td>0</td>\n",
       "    </tr>\n",
       "    <tr>\n",
       "      <th>4</th>\n",
       "      <td>896</td>\n",
       "      <td>1</td>\n",
       "    </tr>\n",
       "  </tbody>\n",
       "</table>\n",
       "</div>"
      ],
      "text/plain": [
       "   PassengerId  Survived\n",
       "0          892         0\n",
       "1          893         0\n",
       "2          894         0\n",
       "3          895         0\n",
       "4          896         1"
      ]
     },
     "execution_count": 102,
     "metadata": {},
     "output_type": "execute_result"
    }
   ],
   "source": [
    "random_forest = classifiers[4][1]\n",
    "\n",
    "def prediction(clf,training_set,test_set):\n",
    "    X,y = training_set.iloc[:,:-1],training_set.iloc[:,-1]\n",
    "    clf.fit(X,y)\n",
    "    pred = pd.DataFrame()\n",
    "    pred['PassengerId'] = test['PassengerId']\n",
    "    pred['Survived'] = clf.predict(test_set)\n",
    "    return pred\n",
    "\n",
    "first_prediction = prediction(random_forest,data_train,data_test)\n",
    "first_prediction.head()"
   ]
  },
  {
   "cell_type": "code",
   "execution_count": 31,
   "metadata": {
    "collapsed": false
   },
   "outputs": [],
   "source": [
    "first_prediction.to_csv('submission.csv',delimiter = \",\",index=False)"
   ]
  },
  {
   "cell_type": "markdown",
   "metadata": {},
   "source": [
    "With this submission, I was able to achieve 77% accuracy on the public leaderboard. \n",
    "\n",
    "And ranked 3000/4800 teams"
   ]
  },
  {
   "cell_type": "markdown",
   "metadata": {
    "collapsed": true
   },
   "source": [
    "#### Parameter tuning with Random Forest\n",
    "Let's run a grid search to optimize the hyperparameters. \n",
    "\n",
    "With Random Forests, we will then keep :\n",
    "- n_estimators = 30\n",
    "- min_samples_leaf = 1\n",
    "- min_samples_split = 2\n",
    "- max_depth = 9\n",
    "- criterion = gini\n",
    "\n",
    "(NB : the cross val score does not change much, tuning here is probably not going to be a deal changer to crack this case)"
   ]
  },
  {
   "cell_type": "code",
   "execution_count": 9,
   "metadata": {
    "collapsed": true
   },
   "outputs": [],
   "source": [
    "def split_train(training_set):\n",
    "    X,y = training_set.iloc[:,:-1],training_set.iloc[:,-1]\n",
    "    return X,y"
   ]
  },
  {
   "cell_type": "code",
   "execution_count": 41,
   "metadata": {
    "collapsed": false
   },
   "outputs": [
    {
     "name": "stdout",
     "output_type": "stream",
     "text": [
      "SEARCHING ...\n",
      "Best score: 0.835016835017\n",
      "Best parameters: {'min_samples_split': 1, 'n_estimators': 30, 'criterion': 'gini', 'max_depth': 9, 'min_samples_leaf': 2}\n"
     ]
    }
   ],
   "source": [
    "from sklearn.cross_validation import StratifiedKFold\n",
    "from sklearn.grid_search import GridSearchCV\n",
    "\n",
    "X,y = split_train(data_train)\n",
    "random_forest_tuned = RandomForestClassifier()\n",
    "cross_validation = StratifiedKFold(y, n_folds=5)\n",
    "print('SEARCHING ...')\n",
    "parameter_grid = {\n",
    "                 'min_samples_leaf':[1,2,5,10],\n",
    "                 'min_samples_split':[1,2,5,10],\n",
    "                 'max_depth' : [4,5,6,7,8,9,10,None],\n",
    "                 'n_estimators': [10,30,80,150,250],\n",
    "                 'criterion': ['gini','entropy']\n",
    "                 }\n",
    "\n",
    "grid_search = GridSearchCV(random_forest_tuned,\n",
    "                           param_grid=parameter_grid,\n",
    "                           cv=cross_validation)\n",
    "\n",
    "grid_search.fit(X,y)\n",
    "\n",
    "print('Best score: {}'.format(grid_search.best_score_))\n",
    "print('Best parameters: {}'.format(grid_search.best_params_))\n"
   ]
  },
  {
   "cell_type": "markdown",
   "metadata": {},
   "source": [
    "Let's try again another submission with the tuned parameters and see if it increases our score on Kaggle"
   ]
  },
  {
   "cell_type": "code",
   "execution_count": 30,
   "metadata": {
    "collapsed": false
   },
   "outputs": [
    {
     "data": {
      "text/html": [
       "<div>\n",
       "<table border=\"1\" class=\"dataframe\">\n",
       "  <thead>\n",
       "    <tr style=\"text-align: right;\">\n",
       "      <th></th>\n",
       "      <th>PassengerId</th>\n",
       "      <th>Survived</th>\n",
       "    </tr>\n",
       "  </thead>\n",
       "  <tbody>\n",
       "    <tr>\n",
       "      <th>0</th>\n",
       "      <td>892</td>\n",
       "      <td>0</td>\n",
       "    </tr>\n",
       "    <tr>\n",
       "      <th>1</th>\n",
       "      <td>893</td>\n",
       "      <td>0</td>\n",
       "    </tr>\n",
       "    <tr>\n",
       "      <th>2</th>\n",
       "      <td>894</td>\n",
       "      <td>0</td>\n",
       "    </tr>\n",
       "    <tr>\n",
       "      <th>3</th>\n",
       "      <td>895</td>\n",
       "      <td>0</td>\n",
       "    </tr>\n",
       "    <tr>\n",
       "      <th>4</th>\n",
       "      <td>896</td>\n",
       "      <td>1</td>\n",
       "    </tr>\n",
       "  </tbody>\n",
       "</table>\n",
       "</div>"
      ],
      "text/plain": [
       "   PassengerId  Survived\n",
       "0          892         0\n",
       "1          893         0\n",
       "2          894         0\n",
       "3          895         0\n",
       "4          896         1"
      ]
     },
     "execution_count": 30,
     "metadata": {},
     "output_type": "execute_result"
    }
   ],
   "source": [
    "random_forest_tuned = RandomForestClassifier(n_estimators = 30,\\\n",
    "                                             min_samples_split = 1,\\\n",
    "                                             min_samples_leaf = 2,\\\n",
    "                                             criterion = \"gini\",\\\n",
    "                                             max_depth = 9)\n",
    "\n",
    "prediction_tuned = prediction(random_forest_tuned,data_train,data_test)\n",
    "prediction_tuned.head()"
   ]
  },
  {
   "cell_type": "code",
   "execution_count": 14,
   "metadata": {
    "collapsed": false
   },
   "outputs": [],
   "source": [
    "prediction_tuned.to_csv('submission_tuned.csv',delimiter = \",\",index=False)"
   ]
  },
  {
   "cell_type": "markdown",
   "metadata": {},
   "source": [
    "#### Quick deep learning digression"
   ]
  },
  {
   "cell_type": "markdown",
   "metadata": {},
   "source": [
    "Here and with the simple data model, I wanted to see the performance of a Deep Neural Network on the problem. \n",
    "\n",
    "For ease of implementation, I used skflow, a scikit-learn-like package of the deep learning library TensorFlow, developed by Google : \n",
    "\n",
    "https://www.tensorflow.org/\n",
    "\n",
    "https://github.com/tensorflow/skflow\n",
    "\n",
    "I trained a 4 layers Neural Network on the data, which helped my to achieve a little better score on the Kaggle Dashboard : \n",
    "- 78% accuracy on the secret dataset\n",
    "- ranking better of about 500 : now ranked 2500/4800\n",
    "\n",
    "Yet, I am not convinced of the validity of using a Deep Learning model here with that few data, but in a way this problem is a matter how well you succeed to overfit the test data, so why not ? "
   ]
  },
  {
   "cell_type": "code",
   "execution_count": 21,
   "metadata": {
    "collapsed": false
   },
   "outputs": [
    {
     "name": "stderr",
     "output_type": "stream",
     "text": [
      "WARNING:tensorflow:TensorFlowDNNClassifier class is deprecated. Please consider using DNNClassifier as an alternative.\n"
     ]
    },
    {
     "data": {
      "text/plain": [
       "TensorFlowDNNClassifier(steps=1500, batch_size=32)"
      ]
     },
     "execution_count": 21,
     "metadata": {},
     "output_type": "execute_result"
    }
   ],
   "source": [
    "import tensorflow.contrib.learn as skflow\n",
    "X,y = split_train(data_train)\n",
    "model = skflow.TensorFlowDNNClassifier(hidden_units=[100,200,200,100], n_classes=2, steps=1500)\n",
    "model.fit(X, y)"
   ]
  },
  {
   "cell_type": "code",
   "execution_count": 24,
   "metadata": {
    "collapsed": false
   },
   "outputs": [
    {
     "data": {
      "text/html": [
       "<div>\n",
       "<table border=\"1\" class=\"dataframe\">\n",
       "  <thead>\n",
       "    <tr style=\"text-align: right;\">\n",
       "      <th></th>\n",
       "      <th>PassengerId</th>\n",
       "      <th>Survived</th>\n",
       "    </tr>\n",
       "  </thead>\n",
       "  <tbody>\n",
       "    <tr>\n",
       "      <th>0</th>\n",
       "      <td>892</td>\n",
       "      <td>0</td>\n",
       "    </tr>\n",
       "    <tr>\n",
       "      <th>1</th>\n",
       "      <td>893</td>\n",
       "      <td>0</td>\n",
       "    </tr>\n",
       "    <tr>\n",
       "      <th>2</th>\n",
       "      <td>894</td>\n",
       "      <td>0</td>\n",
       "    </tr>\n",
       "    <tr>\n",
       "      <th>3</th>\n",
       "      <td>895</td>\n",
       "      <td>0</td>\n",
       "    </tr>\n",
       "    <tr>\n",
       "      <th>4</th>\n",
       "      <td>896</td>\n",
       "      <td>0</td>\n",
       "    </tr>\n",
       "  </tbody>\n",
       "</table>\n",
       "</div>"
      ],
      "text/plain": [
       "   PassengerId  Survived\n",
       "0          892         0\n",
       "1          893         0\n",
       "2          894         0\n",
       "3          895         0\n",
       "4          896         0"
      ]
     },
     "execution_count": 24,
     "metadata": {},
     "output_type": "execute_result"
    }
   ],
   "source": [
    "pred_tensorflow = model.predict(data_test)\n",
    "output_tensorflow = pd.DataFrame({'PassengerId':test['PassengerId'],'Survived':pred_tensorflow})\n",
    "output_tensorflow.head()"
   ]
  },
  {
   "cell_type": "code",
   "execution_count": 25,
   "metadata": {
    "collapsed": false
   },
   "outputs": [],
   "source": [
    "output_tensorflow.to_csv('submission_tensorflow.csv',delimiter = \",\",index=False)"
   ]
  },
  {
   "cell_type": "markdown",
   "metadata": {},
   "source": [
    "***\n",
    "## SECOND FEATURE ENGINEERING MODEL\n",
    "\n",
    "In this second pass, we will complete our feature engineering with studying the Name field which: \n",
    "1. will give information about the status of the passenger\n",
    "2. will infer better filling of the ages \n",
    "\n",
    "#### Study of the name\n",
    "To be sure we won't forget anyone here, like in the first feature engineering pass, we will combine the two datasets to study the names."
   ]
  },
  {
   "cell_type": "code",
   "execution_count": 10,
   "metadata": {
    "collapsed": false
   },
   "outputs": [
    {
     "data": {
      "text/plain": [
       "(1309, 11)"
      ]
     },
     "execution_count": 10,
     "metadata": {},
     "output_type": "execute_result"
    }
   ],
   "source": [
    "combined = train[[x for x in list(train.columns) if x != \"Survived\"]].append(test[features],ignore_index = True).copy()\n",
    "combined.shape"
   ]
  },
  {
   "cell_type": "markdown",
   "metadata": {},
   "source": [
    "We can find a very useful information in the name of the passengers : the status. \n",
    "\n",
    "Here for the first 5, we can observe Mr. and Mrs. but we'll see there are a lot more. \n",
    "\n",
    "Thankfully, every name is formatted the same way, with the status after \", \" et before the point \".\". So we can extract it !"
   ]
  },
  {
   "cell_type": "code",
   "execution_count": 11,
   "metadata": {
    "collapsed": false
   },
   "outputs": [
    {
     "data": {
      "text/plain": [
       "0                              Braund, Mr. Owen Harris\n",
       "1    Cumings, Mrs. John Bradley (Florence Briggs Th...\n",
       "2                               Heikkinen, Miss. Laina\n",
       "3         Futrelle, Mrs. Jacques Heath (Lily May Peel)\n",
       "4                             Allen, Mr. William Henry\n",
       "Name: Name, dtype: object"
      ]
     },
     "execution_count": 11,
     "metadata": {},
     "output_type": "execute_result"
    }
   ],
   "source": [
    "combined['Name'].head()"
   ]
  },
  {
   "cell_type": "code",
   "execution_count": 12,
   "metadata": {
    "collapsed": true
   },
   "outputs": [],
   "source": [
    "def extract_status(name):\n",
    "    s = name.find(\", \")\n",
    "    e = s+2+name[s+2:].find(\".\")\n",
    "    return name[s+2:e+1]"
   ]
  },
  {
   "cell_type": "code",
   "execution_count": 13,
   "metadata": {
    "collapsed": false
   },
   "outputs": [
    {
     "data": {
      "text/plain": [
       "'Mr.'"
      ]
     },
     "execution_count": 13,
     "metadata": {},
     "output_type": "execute_result"
    }
   ],
   "source": [
    "extract_status(combined['Name'][0])"
   ]
  },
  {
   "cell_type": "markdown",
   "metadata": {},
   "source": [
    "Let's try that on the full data set to understand better. "
   ]
  },
  {
   "cell_type": "code",
   "execution_count": 14,
   "metadata": {
    "collapsed": false
   },
   "outputs": [
    {
     "data": {
      "text/html": [
       "<div>\n",
       "<table border=\"1\" class=\"dataframe\">\n",
       "  <thead>\n",
       "    <tr style=\"text-align: right;\">\n",
       "      <th></th>\n",
       "      <th>Age</th>\n",
       "      <th>Cabin</th>\n",
       "      <th>Embarked</th>\n",
       "      <th>Fare</th>\n",
       "      <th>Name</th>\n",
       "      <th>Parch</th>\n",
       "      <th>PassengerId</th>\n",
       "      <th>Pclass</th>\n",
       "      <th>Sex</th>\n",
       "      <th>SibSp</th>\n",
       "      <th>Ticket</th>\n",
       "      <th>Status</th>\n",
       "    </tr>\n",
       "  </thead>\n",
       "  <tbody>\n",
       "    <tr>\n",
       "      <th>0</th>\n",
       "      <td>22.0</td>\n",
       "      <td>NaN</td>\n",
       "      <td>S</td>\n",
       "      <td>7.2500</td>\n",
       "      <td>Braund, Mr. Owen Harris</td>\n",
       "      <td>0</td>\n",
       "      <td>1.0</td>\n",
       "      <td>3</td>\n",
       "      <td>male</td>\n",
       "      <td>1</td>\n",
       "      <td>A/5 21171</td>\n",
       "      <td>Mr.</td>\n",
       "    </tr>\n",
       "    <tr>\n",
       "      <th>1</th>\n",
       "      <td>38.0</td>\n",
       "      <td>C85</td>\n",
       "      <td>C</td>\n",
       "      <td>71.2833</td>\n",
       "      <td>Cumings, Mrs. John Bradley (Florence Briggs Th...</td>\n",
       "      <td>0</td>\n",
       "      <td>2.0</td>\n",
       "      <td>1</td>\n",
       "      <td>female</td>\n",
       "      <td>1</td>\n",
       "      <td>PC 17599</td>\n",
       "      <td>Mrs.</td>\n",
       "    </tr>\n",
       "    <tr>\n",
       "      <th>2</th>\n",
       "      <td>26.0</td>\n",
       "      <td>NaN</td>\n",
       "      <td>S</td>\n",
       "      <td>7.9250</td>\n",
       "      <td>Heikkinen, Miss. Laina</td>\n",
       "      <td>0</td>\n",
       "      <td>3.0</td>\n",
       "      <td>3</td>\n",
       "      <td>female</td>\n",
       "      <td>0</td>\n",
       "      <td>STON/O2. 3101282</td>\n",
       "      <td>Miss.</td>\n",
       "    </tr>\n",
       "    <tr>\n",
       "      <th>3</th>\n",
       "      <td>35.0</td>\n",
       "      <td>C123</td>\n",
       "      <td>S</td>\n",
       "      <td>53.1000</td>\n",
       "      <td>Futrelle, Mrs. Jacques Heath (Lily May Peel)</td>\n",
       "      <td>0</td>\n",
       "      <td>4.0</td>\n",
       "      <td>1</td>\n",
       "      <td>female</td>\n",
       "      <td>1</td>\n",
       "      <td>113803</td>\n",
       "      <td>Mrs.</td>\n",
       "    </tr>\n",
       "    <tr>\n",
       "      <th>4</th>\n",
       "      <td>35.0</td>\n",
       "      <td>NaN</td>\n",
       "      <td>S</td>\n",
       "      <td>8.0500</td>\n",
       "      <td>Allen, Mr. William Henry</td>\n",
       "      <td>0</td>\n",
       "      <td>5.0</td>\n",
       "      <td>3</td>\n",
       "      <td>male</td>\n",
       "      <td>0</td>\n",
       "      <td>373450</td>\n",
       "      <td>Mr.</td>\n",
       "    </tr>\n",
       "  </tbody>\n",
       "</table>\n",
       "</div>"
      ],
      "text/plain": [
       "    Age Cabin Embarked     Fare  \\\n",
       "0  22.0   NaN        S   7.2500   \n",
       "1  38.0   C85        C  71.2833   \n",
       "2  26.0   NaN        S   7.9250   \n",
       "3  35.0  C123        S  53.1000   \n",
       "4  35.0   NaN        S   8.0500   \n",
       "\n",
       "                                                Name  Parch  PassengerId  \\\n",
       "0                            Braund, Mr. Owen Harris      0          1.0   \n",
       "1  Cumings, Mrs. John Bradley (Florence Briggs Th...      0          2.0   \n",
       "2                             Heikkinen, Miss. Laina      0          3.0   \n",
       "3       Futrelle, Mrs. Jacques Heath (Lily May Peel)      0          4.0   \n",
       "4                           Allen, Mr. William Henry      0          5.0   \n",
       "\n",
       "   Pclass     Sex  SibSp            Ticket Status  \n",
       "0       3    male      1         A/5 21171    Mr.  \n",
       "1       1  female      1          PC 17599   Mrs.  \n",
       "2       3  female      0  STON/O2. 3101282  Miss.  \n",
       "3       1  female      1            113803   Mrs.  \n",
       "4       3    male      0            373450    Mr.  "
      ]
     },
     "execution_count": 14,
     "metadata": {},
     "output_type": "execute_result"
    }
   ],
   "source": [
    "combined['Status'] = combined['Name'].map(extract_status)\n",
    "combined.head()"
   ]
  },
  {
   "cell_type": "markdown",
   "metadata": {},
   "source": [
    "We then get a precious new information we did not have before : "
   ]
  },
  {
   "cell_type": "code",
   "execution_count": 15,
   "metadata": {
    "collapsed": false
   },
   "outputs": [
    {
     "data": {
      "text/plain": [
       "array(['Mr.', 'Mrs.', 'Miss.', 'Master.', 'Don.', 'Rev.', 'Dr.', 'Mme.',\n",
       "       'Ms.', 'Major.', 'Lady.', 'Sir.', 'Mlle.', 'Col.', 'Capt.',\n",
       "       'the Countess.', 'Jonkheer.', 'Dona.'], dtype=object)"
      ]
     },
     "execution_count": 15,
     "metadata": {},
     "output_type": "execute_result"
    }
   ],
   "source": [
    "combined['Status'].unique()"
   ]
  },
  {
   "cell_type": "markdown",
   "metadata": {},
   "source": [
    "What's great is that there is no data missing here, so we will be able to infer new data thanks to that, especially for the ages ! "
   ]
  },
  {
   "cell_type": "code",
   "execution_count": 16,
   "metadata": {
    "collapsed": false
   },
   "outputs": [
    {
     "data": {
      "text/plain": [
       "0"
      ]
     },
     "execution_count": 16,
     "metadata": {},
     "output_type": "execute_result"
    }
   ],
   "source": [
    "sum(combined['Status'].isnull())"
   ]
  },
  {
   "cell_type": "markdown",
   "metadata": {},
   "source": [
    "Then we will use the following table providing the median age by status and sex to more accurately fill the ages in the data preprocessing step : "
   ]
  },
  {
   "cell_type": "code",
   "execution_count": 17,
   "metadata": {
    "collapsed": false,
    "scrolled": true
   },
   "outputs": [
    {
     "data": {
      "text/html": [
       "<div>\n",
       "<table border=\"1\" class=\"dataframe\">\n",
       "  <thead>\n",
       "    <tr style=\"text-align: right;\">\n",
       "      <th></th>\n",
       "      <th>Status</th>\n",
       "      <th>Sex</th>\n",
       "      <th>Age</th>\n",
       "      <th>PassengerId</th>\n",
       "    </tr>\n",
       "  </thead>\n",
       "  <tbody>\n",
       "    <tr>\n",
       "      <th>0</th>\n",
       "      <td>Capt.</td>\n",
       "      <td>male</td>\n",
       "      <td>70.0</td>\n",
       "      <td>1.0</td>\n",
       "    </tr>\n",
       "    <tr>\n",
       "      <th>1</th>\n",
       "      <td>Col.</td>\n",
       "      <td>male</td>\n",
       "      <td>54.5</td>\n",
       "      <td>2.0</td>\n",
       "    </tr>\n",
       "    <tr>\n",
       "      <th>2</th>\n",
       "      <td>Don.</td>\n",
       "      <td>male</td>\n",
       "      <td>40.0</td>\n",
       "      <td>1.0</td>\n",
       "    </tr>\n",
       "    <tr>\n",
       "      <th>3</th>\n",
       "      <td>Dona.</td>\n",
       "      <td>female</td>\n",
       "      <td>39.0</td>\n",
       "      <td>0.0</td>\n",
       "    </tr>\n",
       "    <tr>\n",
       "      <th>4</th>\n",
       "      <td>Dr.</td>\n",
       "      <td>female</td>\n",
       "      <td>49.0</td>\n",
       "      <td>1.0</td>\n",
       "    </tr>\n",
       "    <tr>\n",
       "      <th>5</th>\n",
       "      <td>Dr.</td>\n",
       "      <td>male</td>\n",
       "      <td>47.0</td>\n",
       "      <td>6.0</td>\n",
       "    </tr>\n",
       "    <tr>\n",
       "      <th>6</th>\n",
       "      <td>Jonkheer.</td>\n",
       "      <td>male</td>\n",
       "      <td>38.0</td>\n",
       "      <td>1.0</td>\n",
       "    </tr>\n",
       "    <tr>\n",
       "      <th>7</th>\n",
       "      <td>Lady.</td>\n",
       "      <td>female</td>\n",
       "      <td>48.0</td>\n",
       "      <td>1.0</td>\n",
       "    </tr>\n",
       "    <tr>\n",
       "      <th>8</th>\n",
       "      <td>Major.</td>\n",
       "      <td>male</td>\n",
       "      <td>48.5</td>\n",
       "      <td>2.0</td>\n",
       "    </tr>\n",
       "    <tr>\n",
       "      <th>9</th>\n",
       "      <td>Master.</td>\n",
       "      <td>male</td>\n",
       "      <td>4.0</td>\n",
       "      <td>40.0</td>\n",
       "    </tr>\n",
       "    <tr>\n",
       "      <th>10</th>\n",
       "      <td>Miss.</td>\n",
       "      <td>female</td>\n",
       "      <td>22.0</td>\n",
       "      <td>182.0</td>\n",
       "    </tr>\n",
       "    <tr>\n",
       "      <th>11</th>\n",
       "      <td>Mlle.</td>\n",
       "      <td>female</td>\n",
       "      <td>24.0</td>\n",
       "      <td>2.0</td>\n",
       "    </tr>\n",
       "    <tr>\n",
       "      <th>12</th>\n",
       "      <td>Mme.</td>\n",
       "      <td>female</td>\n",
       "      <td>24.0</td>\n",
       "      <td>1.0</td>\n",
       "    </tr>\n",
       "    <tr>\n",
       "      <th>13</th>\n",
       "      <td>Mr.</td>\n",
       "      <td>male</td>\n",
       "      <td>29.0</td>\n",
       "      <td>517.0</td>\n",
       "    </tr>\n",
       "    <tr>\n",
       "      <th>14</th>\n",
       "      <td>Mrs.</td>\n",
       "      <td>female</td>\n",
       "      <td>35.5</td>\n",
       "      <td>125.0</td>\n",
       "    </tr>\n",
       "    <tr>\n",
       "      <th>15</th>\n",
       "      <td>Ms.</td>\n",
       "      <td>female</td>\n",
       "      <td>28.0</td>\n",
       "      <td>1.0</td>\n",
       "    </tr>\n",
       "    <tr>\n",
       "      <th>16</th>\n",
       "      <td>Rev.</td>\n",
       "      <td>male</td>\n",
       "      <td>41.5</td>\n",
       "      <td>6.0</td>\n",
       "    </tr>\n",
       "    <tr>\n",
       "      <th>17</th>\n",
       "      <td>Sir.</td>\n",
       "      <td>male</td>\n",
       "      <td>49.0</td>\n",
       "      <td>1.0</td>\n",
       "    </tr>\n",
       "    <tr>\n",
       "      <th>18</th>\n",
       "      <td>the Countess.</td>\n",
       "      <td>female</td>\n",
       "      <td>33.0</td>\n",
       "      <td>1.0</td>\n",
       "    </tr>\n",
       "  </tbody>\n",
       "</table>\n",
       "</div>"
      ],
      "text/plain": [
       "           Status     Sex   Age  PassengerId\n",
       "0           Capt.    male  70.0          1.0\n",
       "1            Col.    male  54.5          2.0\n",
       "2            Don.    male  40.0          1.0\n",
       "3           Dona.  female  39.0          0.0\n",
       "4             Dr.  female  49.0          1.0\n",
       "5             Dr.    male  47.0          6.0\n",
       "6       Jonkheer.    male  38.0          1.0\n",
       "7           Lady.  female  48.0          1.0\n",
       "8          Major.    male  48.5          2.0\n",
       "9         Master.    male   4.0         40.0\n",
       "10          Miss.  female  22.0        182.0\n",
       "11          Mlle.  female  24.0          2.0\n",
       "12           Mme.  female  24.0          1.0\n",
       "13            Mr.    male  29.0        517.0\n",
       "14           Mrs.  female  35.5        125.0\n",
       "15            Ms.  female  28.0          1.0\n",
       "16           Rev.    male  41.5          6.0\n",
       "17           Sir.    male  49.0          1.0\n",
       "18  the Countess.  female  33.0          1.0"
      ]
     },
     "execution_count": 17,
     "metadata": {},
     "output_type": "execute_result"
    }
   ],
   "source": [
    "mapping_ages = combined.groupby(['Status','Sex'],as_index = False).aggregate({\"Age\":pd.Series.median,\"PassengerId\":pd.Series.count})\n",
    "mapping_ages"
   ]
  },
  {
   "cell_type": "markdown",
   "metadata": {},
   "source": [
    "For the purpose of filling the age, we need a more complex function : "
   ]
  },
  {
   "cell_type": "code",
   "execution_count": 18,
   "metadata": {
    "collapsed": true
   },
   "outputs": [],
   "source": [
    "def fill_ages(row):\n",
    "    '''Used with the apply methode we pass a dataframe row as a parameter\n",
    "       The function looks up in the above table to find a better approximation of the missing age of a passenger\n",
    "    '''\n",
    "    if np.isnan(row['Age']):\n",
    "        return mapping_ages[(mapping_ages['Status'] == row['Status'])&(mapping_ages['Sex'] == row['Sex'])]['Age'].iloc[0]\n",
    "    else:\n",
    "        return row['Age']"
   ]
  },
  {
   "cell_type": "markdown",
   "metadata": {},
   "source": [
    "Let's implement that function in our preprocessing pass. \n",
    "\n",
    "We will also add the cabin feature by taking the first letter of the cabin field (and \"M\" for the missing data)"
   ]
  },
  {
   "cell_type": "code",
   "execution_count": 19,
   "metadata": {
    "collapsed": true
   },
   "outputs": [],
   "source": [
    "def preprocessing_second(normalization = True):\n",
    "    '''\n",
    "    FIRST PREPROCESSING MODEL FOR TITANIC DATA\n",
    "    '''\n",
    "    global train\n",
    "    global test\n",
    "    global mapping_ages\n",
    "    \n",
    "    print('>> Preprocessing the data ...')\n",
    "    print('')\n",
    "    \n",
    "    target = ['Survived']\n",
    "    features = ['Pclass','Sex','SibSp','Parch','Embarked','Fare','Age','Name','Cabin'] # Name and cabin features added compared to the first model\n",
    "    \n",
    "    '''COMBINING THE DATA TO PREPROCESS'''\n",
    "    print(\"- Combining\")\n",
    "    data = train[features].append(test[features],ignore_index = True).copy()\n",
    "    \n",
    "    '''FEATURE ENGINEERING FIRST PASS : creating the status feature'''\n",
    "    data['Status'] = combined['Name'].map(extract_status)\n",
    "    data = data.drop('Name',axis = 1)\n",
    "    \n",
    "    '''FILLING MISSING DATA : filling \"Age\" and \"Fare\" with the median, and \"Embarked\" with \"S\" '''\n",
    "    print(\"- Filling missing data\")\n",
    "    \n",
    "    #A little bit more complicated for the Ages\n",
    "    data['Age'] = data.apply(fill_ages,axis = 1)\n",
    "    data['Fare'] = data['Fare'].fillna(data['Fare'].median())\n",
    "    data['Embarked'] = data['Embarked'].fillna(\"S\")\n",
    "    data['Cabin'] = data['Cabin'].fillna(\"M\").map(lambda x :x[0])        \n",
    "        \n",
    "    '''SAFETY CHECK FOR MISSING DATA'''\n",
    "    test_missing_data = data.isnull().sum()\n",
    "    if test_missing_data.sum() > 0:\n",
    "        missing_features = list(test_missing_data[test_missing_data != 0].index)\n",
    "        raise ValueError(\"Unable to process because of remaining missing data : %s \" % missing_features)\n",
    "    else:\n",
    "        print(\"  ... No missing data\")\n",
    "    \n",
    "    \n",
    "    '''FEATURE ENGINEERING'''\n",
    "    print('- Feature engineering')\n",
    "    #CREATING THE GROUPSIZE FEATURE\n",
    "    print('  ... Group Size')\n",
    "    data['Groupsize'] = data['SibSp']+data['Parch']\n",
    "    data = data.drop(['SibSp','Parch'],axis = 1)\n",
    "    \n",
    "\n",
    "    \n",
    "    '''ONE HOT ENCODING'''\n",
    "    print(\"- One Hot Encoding\")\n",
    "    cat_features = ['Pclass','Sex','Embarked','Status','Cabin']\n",
    "    for feature in cat_features:\n",
    "        onehot = pd.get_dummies(data[feature],prefix = feature)\n",
    "        data = pd.concat([data,onehot],axis = 1)\n",
    "        data.drop(feature,axis = 1,inplace = True)\n",
    "    \n",
    "    '''NORMALIZATION'''\n",
    "    if normalization:\n",
    "        print('- Normalization')\n",
    "        for feature in data.columns:\n",
    "            mean = data[feature].mean()\n",
    "            std = data[feature].std()\n",
    "            data[feature] = data[feature].map(lambda x : (x-mean)/std)\n",
    "    \n",
    "    '''EXTRACTING THE PREPROCESSED TRAIN AND TEST DATA FROM THE COMBINED DATA'''\n",
    "    print('- Extracting the train and test set')\n",
    "    data_train,data_test = data.ix[:len(train)-1].copy(),data.ix[len(train):].reset_index(drop=True).copy()\n",
    "    data_train['Survived'] = train['Survived']\n",
    "    \n",
    "    print('')\n",
    "    print(\">> Preprocessing the data OK\")\n",
    "    return data_train,data_test\n"
   ]
  },
  {
   "cell_type": "code",
   "execution_count": 20,
   "metadata": {
    "collapsed": false
   },
   "outputs": [
    {
     "name": "stdout",
     "output_type": "stream",
     "text": [
      ">> Preprocessing the data ...\n",
      "\n",
      "- Combining\n",
      "- Filling missing data\n",
      "  ... No missing data\n",
      "- Feature engineering\n",
      "  ... Group Size\n",
      "- One Hot Encoding\n",
      "- Normalization\n",
      "- Extracting the train and test set\n",
      "\n",
      ">> Preprocessing the data OK\n"
     ]
    }
   ],
   "source": [
    "data_train,data_test = preprocessing_second()"
   ]
  },
  {
   "cell_type": "markdown",
   "metadata": {},
   "source": [
    "### Feature selection\n",
    "First I tested the model without adding the Cabin feature, and it gave me a better score than afterwards.\n",
    "\n",
    "We now have probably too many features and a little bit of overfitting. \n",
    "\n",
    "Sometimes in that situation it may be smart to reduce the number of features used in the model. \n",
    "\n",
    "For that we can compute the feature importance with decision trees and take the top important ones : "
   ]
  },
  {
   "cell_type": "code",
   "execution_count": 22,
   "metadata": {
    "collapsed": false
   },
   "outputs": [
    {
     "data": {
      "text/html": [
       "<div>\n",
       "<table border=\"1\" class=\"dataframe\">\n",
       "  <thead>\n",
       "    <tr style=\"text-align: right;\">\n",
       "      <th></th>\n",
       "      <th>feature</th>\n",
       "      <th>importance</th>\n",
       "    </tr>\n",
       "  </thead>\n",
       "  <tbody>\n",
       "    <tr>\n",
       "      <th>0</th>\n",
       "      <td>Fare</td>\n",
       "      <td>0.205772</td>\n",
       "    </tr>\n",
       "    <tr>\n",
       "      <th>1</th>\n",
       "      <td>Age</td>\n",
       "      <td>0.195657</td>\n",
       "    </tr>\n",
       "    <tr>\n",
       "      <th>23</th>\n",
       "      <td>Status_Mr.</td>\n",
       "      <td>0.109249</td>\n",
       "    </tr>\n",
       "    <tr>\n",
       "      <th>6</th>\n",
       "      <td>Sex_female</td>\n",
       "      <td>0.087643</td>\n",
       "    </tr>\n",
       "    <tr>\n",
       "      <th>7</th>\n",
       "      <td>Sex_male</td>\n",
       "      <td>0.074936</td>\n",
       "    </tr>\n",
       "    <tr>\n",
       "      <th>2</th>\n",
       "      <td>Groupsize</td>\n",
       "      <td>0.065513</td>\n",
       "    </tr>\n",
       "    <tr>\n",
       "      <th>5</th>\n",
       "      <td>Pclass_3</td>\n",
       "      <td>0.047985</td>\n",
       "    </tr>\n",
       "    <tr>\n",
       "      <th>36</th>\n",
       "      <td>Cabin_M</td>\n",
       "      <td>0.031766</td>\n",
       "    </tr>\n",
       "    <tr>\n",
       "      <th>20</th>\n",
       "      <td>Status_Miss.</td>\n",
       "      <td>0.024872</td>\n",
       "    </tr>\n",
       "    <tr>\n",
       "      <th>24</th>\n",
       "      <td>Status_Mrs.</td>\n",
       "      <td>0.023775</td>\n",
       "    </tr>\n",
       "    <tr>\n",
       "      <th>3</th>\n",
       "      <td>Pclass_1</td>\n",
       "      <td>0.021957</td>\n",
       "    </tr>\n",
       "    <tr>\n",
       "      <th>4</th>\n",
       "      <td>Pclass_2</td>\n",
       "      <td>0.018505</td>\n",
       "    </tr>\n",
       "    <tr>\n",
       "      <th>19</th>\n",
       "      <td>Status_Master.</td>\n",
       "      <td>0.016336</td>\n",
       "    </tr>\n",
       "    <tr>\n",
       "      <th>10</th>\n",
       "      <td>Embarked_S</td>\n",
       "      <td>0.013619</td>\n",
       "    </tr>\n",
       "    <tr>\n",
       "      <th>8</th>\n",
       "      <td>Embarked_C</td>\n",
       "      <td>0.012070</td>\n",
       "    </tr>\n",
       "    <tr>\n",
       "      <th>33</th>\n",
       "      <td>Cabin_E</td>\n",
       "      <td>0.010377</td>\n",
       "    </tr>\n",
       "    <tr>\n",
       "      <th>9</th>\n",
       "      <td>Embarked_Q</td>\n",
       "      <td>0.007473</td>\n",
       "    </tr>\n",
       "    <tr>\n",
       "      <th>30</th>\n",
       "      <td>Cabin_B</td>\n",
       "      <td>0.006717</td>\n",
       "    </tr>\n",
       "    <tr>\n",
       "      <th>32</th>\n",
       "      <td>Cabin_D</td>\n",
       "      <td>0.005459</td>\n",
       "    </tr>\n",
       "    <tr>\n",
       "      <th>31</th>\n",
       "      <td>Cabin_C</td>\n",
       "      <td>0.004754</td>\n",
       "    </tr>\n",
       "    <tr>\n",
       "      <th>26</th>\n",
       "      <td>Status_Rev.</td>\n",
       "      <td>0.003133</td>\n",
       "    </tr>\n",
       "    <tr>\n",
       "      <th>34</th>\n",
       "      <td>Cabin_F</td>\n",
       "      <td>0.002411</td>\n",
       "    </tr>\n",
       "    <tr>\n",
       "      <th>15</th>\n",
       "      <td>Status_Dr.</td>\n",
       "      <td>0.002215</td>\n",
       "    </tr>\n",
       "    <tr>\n",
       "      <th>29</th>\n",
       "      <td>Cabin_A</td>\n",
       "      <td>0.002181</td>\n",
       "    </tr>\n",
       "    <tr>\n",
       "      <th>35</th>\n",
       "      <td>Cabin_G</td>\n",
       "      <td>0.000973</td>\n",
       "    </tr>\n",
       "    <tr>\n",
       "      <th>18</th>\n",
       "      <td>Status_Major.</td>\n",
       "      <td>0.000889</td>\n",
       "    </tr>\n",
       "    <tr>\n",
       "      <th>12</th>\n",
       "      <td>Status_Col.</td>\n",
       "      <td>0.000792</td>\n",
       "    </tr>\n",
       "    <tr>\n",
       "      <th>11</th>\n",
       "      <td>Status_Capt.</td>\n",
       "      <td>0.000789</td>\n",
       "    </tr>\n",
       "    <tr>\n",
       "      <th>13</th>\n",
       "      <td>Status_Don.</td>\n",
       "      <td>0.000560</td>\n",
       "    </tr>\n",
       "    <tr>\n",
       "      <th>27</th>\n",
       "      <td>Status_Sir.</td>\n",
       "      <td>0.000457</td>\n",
       "    </tr>\n",
       "    <tr>\n",
       "      <th>37</th>\n",
       "      <td>Cabin_T</td>\n",
       "      <td>0.000398</td>\n",
       "    </tr>\n",
       "    <tr>\n",
       "      <th>16</th>\n",
       "      <td>Status_Jonkheer.</td>\n",
       "      <td>0.000281</td>\n",
       "    </tr>\n",
       "    <tr>\n",
       "      <th>25</th>\n",
       "      <td>Status_Ms.</td>\n",
       "      <td>0.000223</td>\n",
       "    </tr>\n",
       "    <tr>\n",
       "      <th>21</th>\n",
       "      <td>Status_Mlle.</td>\n",
       "      <td>0.000130</td>\n",
       "    </tr>\n",
       "    <tr>\n",
       "      <th>17</th>\n",
       "      <td>Status_Lady.</td>\n",
       "      <td>0.000087</td>\n",
       "    </tr>\n",
       "    <tr>\n",
       "      <th>28</th>\n",
       "      <td>Status_the Countess.</td>\n",
       "      <td>0.000038</td>\n",
       "    </tr>\n",
       "    <tr>\n",
       "      <th>22</th>\n",
       "      <td>Status_Mme.</td>\n",
       "      <td>0.000008</td>\n",
       "    </tr>\n",
       "    <tr>\n",
       "      <th>14</th>\n",
       "      <td>Status_Dona.</td>\n",
       "      <td>0.000000</td>\n",
       "    </tr>\n",
       "  </tbody>\n",
       "</table>\n",
       "</div>"
      ],
      "text/plain": [
       "                 feature  importance\n",
       "0                   Fare    0.205772\n",
       "1                    Age    0.195657\n",
       "23            Status_Mr.    0.109249\n",
       "6             Sex_female    0.087643\n",
       "7               Sex_male    0.074936\n",
       "2              Groupsize    0.065513\n",
       "5               Pclass_3    0.047985\n",
       "36               Cabin_M    0.031766\n",
       "20          Status_Miss.    0.024872\n",
       "24           Status_Mrs.    0.023775\n",
       "3               Pclass_1    0.021957\n",
       "4               Pclass_2    0.018505\n",
       "19        Status_Master.    0.016336\n",
       "10            Embarked_S    0.013619\n",
       "8             Embarked_C    0.012070\n",
       "33               Cabin_E    0.010377\n",
       "9             Embarked_Q    0.007473\n",
       "30               Cabin_B    0.006717\n",
       "32               Cabin_D    0.005459\n",
       "31               Cabin_C    0.004754\n",
       "26           Status_Rev.    0.003133\n",
       "34               Cabin_F    0.002411\n",
       "15            Status_Dr.    0.002215\n",
       "29               Cabin_A    0.002181\n",
       "35               Cabin_G    0.000973\n",
       "18         Status_Major.    0.000889\n",
       "12           Status_Col.    0.000792\n",
       "11          Status_Capt.    0.000789\n",
       "13           Status_Don.    0.000560\n",
       "27           Status_Sir.    0.000457\n",
       "37               Cabin_T    0.000398\n",
       "16      Status_Jonkheer.    0.000281\n",
       "25            Status_Ms.    0.000223\n",
       "21          Status_Mlle.    0.000130\n",
       "17          Status_Lady.    0.000087\n",
       "28  Status_the Countess.    0.000038\n",
       "22           Status_Mme.    0.000008\n",
       "14          Status_Dona.    0.000000"
      ]
     },
     "execution_count": 22,
     "metadata": {},
     "output_type": "execute_result"
    }
   ],
   "source": [
    "from sklearn.ensemble import ExtraTreesClassifier\n",
    "from sklearn.feature_selection import SelectFromModel\n",
    "\n",
    "X,y = data_train.iloc[:,:-1],data_train.iloc[:,-1]\n",
    "clf = ExtraTreesClassifier(n_estimators=200)\n",
    "clf = clf.fit(X,y)\n",
    "features = pd.DataFrame()\n",
    "features['feature'] = X.columns\n",
    "features['importance'] = clf.feature_importances_\n",
    "features = features.sort_values(['importance'],ascending=False)\n",
    "features"
   ]
  },
  {
   "cell_type": "markdown",
   "metadata": {},
   "source": [
    "Then we can only take the top 15 features for the prediction"
   ]
  },
  {
   "cell_type": "code",
   "execution_count": 23,
   "metadata": {
    "collapsed": false
   },
   "outputs": [
    {
     "data": {
      "text/plain": [
       "['Fare',\n",
       " 'Age',\n",
       " 'Status_Mr.',\n",
       " 'Sex_female',\n",
       " 'Sex_male',\n",
       " 'Groupsize',\n",
       " 'Pclass_3',\n",
       " 'Cabin_M',\n",
       " 'Status_Miss.',\n",
       " 'Status_Mrs.',\n",
       " 'Pclass_1',\n",
       " 'Pclass_2',\n",
       " 'Status_Master.',\n",
       " 'Embarked_S',\n",
       " 'Embarked_C']"
      ]
     },
     "execution_count": 23,
     "metadata": {},
     "output_type": "execute_result"
    }
   ],
   "source": [
    "top15_features = list(features[\"feature\"].iloc[:15])\n",
    "top15_features"
   ]
  },
  {
   "cell_type": "markdown",
   "metadata": {},
   "source": [
    "However, it seems to work better without the cabin feature we will take out"
   ]
  },
  {
   "cell_type": "code",
   "execution_count": 24,
   "metadata": {
    "collapsed": false
   },
   "outputs": [
    {
     "data": {
      "text/plain": [
       "['Fare',\n",
       " 'Age',\n",
       " 'Status_Mr.',\n",
       " 'Sex_female',\n",
       " 'Sex_male',\n",
       " 'Groupsize',\n",
       " 'Pclass_3',\n",
       " 'Status_Miss.',\n",
       " 'Status_Mrs.',\n",
       " 'Pclass_1',\n",
       " 'Pclass_2',\n",
       " 'Status_Master.',\n",
       " 'Embarked_S',\n",
       " 'Embarked_C',\n",
       " 'Embarked_Q',\n",
       " 'Status_Rev.',\n",
       " 'Status_Dr.',\n",
       " 'Status_Major.',\n",
       " 'Status_Col.',\n",
       " 'Status_Capt.',\n",
       " 'Status_Don.',\n",
       " 'Status_Sir.',\n",
       " 'Status_Jonkheer.',\n",
       " 'Status_Ms.',\n",
       " 'Status_Mlle.',\n",
       " 'Status_Lady.',\n",
       " 'Status_the Countess.',\n",
       " 'Status_Mme.',\n",
       " 'Status_Dona.']"
      ]
     },
     "execution_count": 24,
     "metadata": {},
     "output_type": "execute_result"
    }
   ],
   "source": [
    "new_features = list(features[features['feature'].map(lambda x : 'Cabin' not in x)]['feature'])\n",
    "new_features"
   ]
  },
  {
   "cell_type": "markdown",
   "metadata": {},
   "source": [
    "### Prediction with Random Forests"
   ]
  },
  {
   "cell_type": "markdown",
   "metadata": {},
   "source": [
    "We will use the Random Forests previously tuned to predict the survival of the passengers."
   ]
  },
  {
   "cell_type": "code",
   "execution_count": 141,
   "metadata": {
    "collapsed": false
   },
   "outputs": [
    {
     "data": {
      "text/html": [
       "<div>\n",
       "<table border=\"1\" class=\"dataframe\">\n",
       "  <thead>\n",
       "    <tr style=\"text-align: right;\">\n",
       "      <th></th>\n",
       "      <th>PassengerId</th>\n",
       "      <th>Survived</th>\n",
       "    </tr>\n",
       "  </thead>\n",
       "  <tbody>\n",
       "    <tr>\n",
       "      <th>0</th>\n",
       "      <td>892</td>\n",
       "      <td>0</td>\n",
       "    </tr>\n",
       "    <tr>\n",
       "      <th>1</th>\n",
       "      <td>893</td>\n",
       "      <td>0</td>\n",
       "    </tr>\n",
       "    <tr>\n",
       "      <th>2</th>\n",
       "      <td>894</td>\n",
       "      <td>0</td>\n",
       "    </tr>\n",
       "    <tr>\n",
       "      <th>3</th>\n",
       "      <td>895</td>\n",
       "      <td>0</td>\n",
       "    </tr>\n",
       "    <tr>\n",
       "      <th>4</th>\n",
       "      <td>896</td>\n",
       "      <td>1</td>\n",
       "    </tr>\n",
       "  </tbody>\n",
       "</table>\n",
       "</div>"
      ],
      "text/plain": [
       "   PassengerId  Survived\n",
       "0          892         0\n",
       "1          893         0\n",
       "2          894         0\n",
       "3          895         0\n",
       "4          896         1"
      ]
     },
     "execution_count": 141,
     "metadata": {},
     "output_type": "execute_result"
    }
   ],
   "source": [
    "random_forest = RandomForestClassifier(n_estimators = 30,\\\n",
    "                                             min_samples_split = 1,\\\n",
    "                                             min_samples_leaf = 2,\\\n",
    "                                             criterion = \"gini\",\\\n",
    "                                             max_depth = 9)\n",
    "\n",
    "new_prediction = prediction(random_forest,data_train[new_features+['Survived']],data_test[new_features])\n",
    "new_prediction.head()"
   ]
  },
  {
   "cell_type": "markdown",
   "metadata": {},
   "source": [
    "Let's submit again with those results ! "
   ]
  },
  {
   "cell_type": "code",
   "execution_count": 142,
   "metadata": {
    "collapsed": true
   },
   "outputs": [],
   "source": [
    "new_prediction.to_csv('new_prediction.csv',delimiter = \",\",index=False)"
   ]
  },
  {
   "cell_type": "markdown",
   "metadata": {},
   "source": [
    "I was able to achieve a 79% score with this submission, thus ranking me 1500th "
   ]
  },
  {
   "cell_type": "markdown",
   "metadata": {},
   "source": [
    "### Tensorflow again,\n",
    "It does not work as well as before, eventually I will try better deep learning models here. "
   ]
  },
  {
   "cell_type": "code",
   "execution_count": null,
   "metadata": {
    "collapsed": false
   },
   "outputs": [
    {
     "name": "stderr",
     "output_type": "stream",
     "text": [
      "WARNING:tensorflow:TensorFlowDNNClassifier class is deprecated. Please consider using DNNClassifier as an alternative.\n"
     ]
    }
   ],
   "source": [
    "import tensorflow.contrib.learn as skflow\n",
    "X,y = split_train(data_train[new_features+['Survived']])\n",
    "model = skflow.TensorFlowDNNClassifier(hidden_units=[300,300,300,200], n_classes=2, steps=15000)\n",
    "model.fit(X, y)"
   ]
  },
  {
   "cell_type": "code",
   "execution_count": null,
   "metadata": {
    "collapsed": false
   },
   "outputs": [],
   "source": [
    "pred_tensorflow = model.predict(data_test[new_features])\n",
    "output_tensorflow = pd.DataFrame({'PassengerId':test['PassengerId'],'Survived':pred_tensorflow})\n",
    "output_tensorflow.head()"
   ]
  },
  {
   "cell_type": "code",
   "execution_count": null,
   "metadata": {
    "collapsed": true
   },
   "outputs": [],
   "source": [
    "output_tensorflow.to_csv('submission_tensorflow.csv',delimiter = \",\",index=False)"
   ]
  }
 ],
 "metadata": {
  "kernelspec": {
   "display_name": "Python 2",
   "language": "python",
   "name": "python2"
  },
  "language_info": {
   "codemirror_mode": {
    "name": "ipython",
    "version": 2
   },
   "file_extension": ".py",
   "mimetype": "text/x-python",
   "name": "python",
   "nbconvert_exporter": "python",
   "pygments_lexer": "ipython2",
   "version": "2.7.11"
  }
 },
 "nbformat": 4,
 "nbformat_minor": 0
}
