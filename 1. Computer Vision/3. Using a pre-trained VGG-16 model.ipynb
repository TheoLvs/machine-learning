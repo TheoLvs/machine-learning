{
 "cells": [
  {
   "cell_type": "markdown",
   "metadata": {},
   "source": [
    "# Using a pre-trained VGG-16 model\n",
    "![](http://karpathy.github.io/assets/cnntsne.jpeg)"
   ]
  },
  {
   "cell_type": "code",
   "execution_count": 1,
   "metadata": {
    "collapsed": true
   },
   "outputs": [],
   "source": [
    "# Usual\n",
    "import os\n",
    "import matplotlib.pyplot as plt\n",
    "import pandas as pd\n",
    "import numpy as np\n",
    "import sys\n",
    "\n",
    "# Autoreload\n",
    "%load_ext autoreload\n",
    "%autoreload 2\n",
    "%reload_ext autoreload\n",
    "% matplotlib inline\n",
    "\n",
    "# Seaborn config\n",
    "import seaborn as sns\n",
    "sns.set(style='whitegrid', color_codes=True)\n",
    "sns.set(font_scale=1)"
   ]
  },
  {
   "cell_type": "code",
   "execution_count": 2,
   "metadata": {
    "collapsed": false
   },
   "outputs": [
    {
     "name": "stderr",
     "output_type": "stream",
     "text": [
      "Using TensorFlow backend.\n"
     ]
    }
   ],
   "source": [
    "# Images\n",
    "from PIL import Image\n",
    "from io import BytesIO\n",
    "import scipy\n",
    "import requests\n",
    "\n",
    "# Keras\n",
    "from keras.applications.vgg16 import VGG16\n",
    "from keras.applications.vgg16 import preprocess_input, decode_predictions"
   ]
  },
  {
   "cell_type": "markdown",
   "metadata": {},
   "source": [
    "# VGG-16\n",
    "![](https://www.cs.toronto.edu/~frossard/post/vgg16/vgg16.png)\n",
    "\n",
    "[Link to the original paper](https://arxiv.org/abs/1409.1556)"
   ]
  },
  {
   "cell_type": "markdown",
   "metadata": {},
   "source": [
    "# Fetching the pre-tained model with Keras"
   ]
  },
  {
   "cell_type": "code",
   "execution_count": 3,
   "metadata": {
    "collapsed": false
   },
   "outputs": [],
   "source": [
    "model = VGG16(weights='imagenet', include_top=True)"
   ]
  },
  {
   "cell_type": "markdown",
   "metadata": {},
   "source": [
    "##### Looking at the different layers"
   ]
  },
  {
   "cell_type": "code",
   "execution_count": 4,
   "metadata": {
    "collapsed": false
   },
   "outputs": [
    {
     "data": {
      "text/plain": [
       "{'block1_conv1': <tf.Tensor 'block1_conv1/Relu:0' shape=(?, 224, 224, 64) dtype=float32>,\n",
       " 'block1_conv2': <tf.Tensor 'block1_conv2/Relu:0' shape=(?, 224, 224, 64) dtype=float32>,\n",
       " 'block1_pool': <tf.Tensor 'block1_pool/MaxPool:0' shape=(?, 112, 112, 64) dtype=float32>,\n",
       " 'block2_conv1': <tf.Tensor 'block2_conv1/Relu:0' shape=(?, 112, 112, 128) dtype=float32>,\n",
       " 'block2_conv2': <tf.Tensor 'block2_conv2/Relu:0' shape=(?, 112, 112, 128) dtype=float32>,\n",
       " 'block2_pool': <tf.Tensor 'block2_pool/MaxPool:0' shape=(?, 56, 56, 128) dtype=float32>,\n",
       " 'block3_conv1': <tf.Tensor 'block3_conv1/Relu:0' shape=(?, 56, 56, 256) dtype=float32>,\n",
       " 'block3_conv2': <tf.Tensor 'block3_conv2/Relu:0' shape=(?, 56, 56, 256) dtype=float32>,\n",
       " 'block3_conv3': <tf.Tensor 'block3_conv3/Relu:0' shape=(?, 56, 56, 256) dtype=float32>,\n",
       " 'block3_pool': <tf.Tensor 'block3_pool/MaxPool:0' shape=(?, 28, 28, 256) dtype=float32>,\n",
       " 'block4_conv1': <tf.Tensor 'block4_conv1/Relu:0' shape=(?, 28, 28, 512) dtype=float32>,\n",
       " 'block4_conv2': <tf.Tensor 'block4_conv2/Relu:0' shape=(?, 28, 28, 512) dtype=float32>,\n",
       " 'block4_conv3': <tf.Tensor 'block4_conv3/Relu:0' shape=(?, 28, 28, 512) dtype=float32>,\n",
       " 'block4_pool': <tf.Tensor 'block4_pool/MaxPool:0' shape=(?, 14, 14, 512) dtype=float32>,\n",
       " 'block5_conv1': <tf.Tensor 'block5_conv1/Relu:0' shape=(?, 14, 14, 512) dtype=float32>,\n",
       " 'block5_conv2': <tf.Tensor 'block5_conv2/Relu:0' shape=(?, 14, 14, 512) dtype=float32>,\n",
       " 'block5_conv3': <tf.Tensor 'block5_conv3/Relu:0' shape=(?, 14, 14, 512) dtype=float32>,\n",
       " 'block5_pool': <tf.Tensor 'block5_pool/MaxPool:0' shape=(?, 7, 7, 512) dtype=float32>,\n",
       " 'fc1': <tf.Tensor 'fc1/Relu:0' shape=(?, 4096) dtype=float32>,\n",
       " 'fc2': <tf.Tensor 'fc2/Relu:0' shape=(?, 4096) dtype=float32>,\n",
       " 'flatten': <tf.Tensor 'flatten/Reshape:0' shape=(?, ?) dtype=float32>,\n",
       " 'input_1': <tf.Tensor 'input_1:0' shape=(?, 224, 224, 3) dtype=float32>,\n",
       " 'predictions': <tf.Tensor 'predictions/Softmax:0' shape=(?, 1000) dtype=float32>}"
      ]
     },
     "execution_count": 4,
     "metadata": {},
     "output_type": "execute_result"
    }
   ],
   "source": [
    "layers = dict([(layer.name, layer.output) for layer in model.layers])\n",
    "layers"
   ]
  },
  {
   "cell_type": "markdown",
   "metadata": {},
   "source": [
    "##### How many parameters do we have ?"
   ]
  },
  {
   "cell_type": "code",
   "execution_count": 5,
   "metadata": {
    "collapsed": false
   },
   "outputs": [
    {
     "data": {
      "text/plain": [
       "138357544"
      ]
     },
     "execution_count": 5,
     "metadata": {},
     "output_type": "execute_result"
    }
   ],
   "source": [
    "model.count_params()"
   ]
  },
  {
   "cell_type": "markdown",
   "metadata": {},
   "source": [
    "# Using the VGG-16 model on sample images"
   ]
  },
  {
   "cell_type": "markdown",
   "metadata": {},
   "source": [
    "## Designing a function to test a web image"
   ]
  },
  {
   "cell_type": "markdown",
   "metadata": {},
   "source": [
    "On this picture : \n",
    "![](http://www.gettyimages.fr/gi-resources/images/Embed/new/embed2.jpg)"
   ]
  },
  {
   "cell_type": "markdown",
   "metadata": {},
   "source": [
    "##### Getting the image data from the url"
   ]
  },
  {
   "cell_type": "code",
   "execution_count": 6,
   "metadata": {
    "collapsed": true
   },
   "outputs": [],
   "source": [
    "example_url = \"http://www.gettyimages.fr/gi-resources/images/Embed/new/embed2.jpg\""
   ]
  },
  {
   "cell_type": "code",
   "execution_count": 7,
   "metadata": {
    "collapsed": false
   },
   "outputs": [
    {
     "name": "stdout",
     "output_type": "stream",
     "text": [
      "(359, 500, 3)\n"
     ]
    },
    {
     "data": {
      "text/plain": [
       "array([[[167, 142, 101],\n",
       "        [167, 142, 101],\n",
       "        [167, 142, 101],\n",
       "        [168, 143, 102],\n",
       "        [168, 143, 102]],\n",
       "\n",
       "       [[167, 142, 101],\n",
       "        [167, 142, 101],\n",
       "        [168, 143, 102],\n",
       "        [168, 143, 102],\n",
       "        [168, 143, 102]],\n",
       "\n",
       "       [[168, 143, 102],\n",
       "        [168, 143, 102],\n",
       "        [168, 143, 102],\n",
       "        [169, 144, 103],\n",
       "        [169, 144, 103]],\n",
       "\n",
       "       [[169, 144, 103],\n",
       "        [169, 144, 103],\n",
       "        [169, 144, 103],\n",
       "        [169, 144, 103],\n",
       "        [170, 145, 104]],\n",
       "\n",
       "       [[169, 144, 103],\n",
       "        [170, 145, 104],\n",
       "        [170, 145, 104],\n",
       "        [170, 145, 104],\n",
       "        [171, 146, 105]]], dtype=uint8)"
      ]
     },
     "execution_count": 7,
     "metadata": {},
     "output_type": "execute_result"
    }
   ],
   "source": [
    "def read_image_from_url(url,colors = True,resize = None):\n",
    "    \"\"\"\n",
    "    IO function that reads a picture from an url\n",
    "    Takes as input : \n",
    "        - The url\n",
    "        - colors = True returns a 3 dimensional array, False a two dimensional array for the picture in black & white\n",
    "        - resize a tuple to resize the picture at a given pixels shape\n",
    "    Returns: a numpy array for the pixel value of the image\n",
    "    \"\"\"\n",
    "    request = requests.get(url)\n",
    "    if request.ok:\n",
    "        img = scipy.misc.imread(BytesIO(request.content),flatten = not colors)\n",
    "        if img.shape[-1] == 4:\n",
    "            img = img[:,:,range(3)]            \n",
    "        if resize is not None:\n",
    "            img = scipy.misc.imresize(img,resize,'cubic')\n",
    "        return img\n",
    "    else:\n",
    "        print(\"Invalid request\")\n",
    "\n",
    "        \n",
    "img = read_image_from_url(example_url)\n",
    "print(img.shape)\n",
    "img[:5,:5,:]"
   ]
  },
  {
   "cell_type": "markdown",
   "metadata": {},
   "source": [
    "##### Preprocess the image to work with the model"
   ]
  },
  {
   "cell_type": "code",
   "execution_count": 8,
   "metadata": {
    "collapsed": true
   },
   "outputs": [],
   "source": [
    "def preprocess_image(img):\n",
    "    img = scipy.misc.imresize(img,(224,224),'cubic')\n",
    "    img = np.asarray(img,dtype = \"float32\")\n",
    "    img = np.expand_dims(img,axis = 0)\n",
    "    img = preprocess_input(img)\n",
    "    return img\n",
    "\n",
    "x = preprocess_image(img)"
   ]
  },
  {
   "cell_type": "markdown",
   "metadata": {},
   "source": [
    "##### Prediction"
   ]
  },
  {
   "cell_type": "code",
   "execution_count": 9,
   "metadata": {
    "collapsed": true
   },
   "outputs": [],
   "source": [
    "prediction = model.predict(x)"
   ]
  },
  {
   "cell_type": "markdown",
   "metadata": {},
   "source": [
    "Probabilities are given for each of the 1000 class : "
   ]
  },
  {
   "cell_type": "code",
   "execution_count": 10,
   "metadata": {
    "collapsed": false
   },
   "outputs": [
    {
     "data": {
      "text/plain": [
       "(1, 1000)"
      ]
     },
     "execution_count": 10,
     "metadata": {},
     "output_type": "execute_result"
    }
   ],
   "source": [
    "prediction.shape"
   ]
  },
  {
   "cell_type": "markdown",
   "metadata": {},
   "source": [
    "The prediction was quite correct !"
   ]
  },
  {
   "cell_type": "code",
   "execution_count": 11,
   "metadata": {
    "collapsed": false
   },
   "outputs": [
    {
     "data": {
      "text/plain": [
       "[[('n02124075', 'Egyptian_cat', 0.44606611),\n",
       "  ('n02123045', 'tabby', 0.075424992),\n",
       "  ('n02123159', 'tiger_cat', 0.071717076)]]"
      ]
     },
     "execution_count": 11,
     "metadata": {},
     "output_type": "execute_result"
    }
   ],
   "source": [
    "decode_predictions(prediction, top=3)"
   ]
  },
  {
   "cell_type": "markdown",
   "metadata": {},
   "source": [
    "##### Big function !"
   ]
  },
  {
   "cell_type": "code",
   "execution_count": 62,
   "metadata": {
    "collapsed": true
   },
   "outputs": [],
   "source": [
    "def predict_image(url):\n",
    "    img = read_image_from_url(url)\n",
    "    x = preprocess_image(img)\n",
    "    prediction = model.predict(x)\n",
    "    return decode_predictions(prediction,top = 3)"
   ]
  },
  {
   "cell_type": "markdown",
   "metadata": {},
   "source": [
    "## Let's try that on other images"
   ]
  },
  {
   "cell_type": "markdown",
   "metadata": {},
   "source": [
    "### Some successes"
   ]
  },
  {
   "cell_type": "markdown",
   "metadata": {},
   "source": [
    "##### Monkey\n",
    "![](http://pngimg.com/uploads/monkey/monkey_PNG18736.png)"
   ]
  },
  {
   "cell_type": "code",
   "execution_count": 76,
   "metadata": {
    "collapsed": false
   },
   "outputs": [
    {
     "data": {
      "text/plain": [
       "[[('n02481823', 'chimpanzee', 0.91695374),\n",
       "  ('n02487347', 'macaque', 0.038173083),\n",
       "  ('n02493793', 'spider_monkey', 0.024044253)]]"
      ]
     },
     "execution_count": 76,
     "metadata": {},
     "output_type": "execute_result"
    }
   ],
   "source": [
    "predict_image(\"http://pngimg.com/uploads/monkey/monkey_PNG18736.png\")"
   ]
  },
  {
   "cell_type": "markdown",
   "metadata": {},
   "source": [
    "##### Plane\n",
    "![](https://ichef-1.bbci.co.uk/news/660/cpsprodpb/0CB0/production/_89284230_planepa.jpg)"
   ]
  },
  {
   "cell_type": "code",
   "execution_count": 80,
   "metadata": {
    "collapsed": false
   },
   "outputs": [
    {
     "data": {
      "text/plain": [
       "[[('n02690373', 'airliner', 0.83158499),\n",
       "  ('n04592741', 'wing', 0.16258174),\n",
       "  ('n04552348', 'warplane', 0.0041271355)]]"
      ]
     },
     "execution_count": 80,
     "metadata": {},
     "output_type": "execute_result"
    }
   ],
   "source": [
    "predict_image(\"https://ichef-1.bbci.co.uk/news/660/cpsprodpb/0CB0/production/_89284230_planepa.jpg\")"
   ]
  },
  {
   "cell_type": "markdown",
   "metadata": {},
   "source": [
    "### Some failures"
   ]
  },
  {
   "cell_type": "markdown",
   "metadata": {},
   "source": [
    "##### Face"
   ]
  },
  {
   "cell_type": "markdown",
   "metadata": {},
   "source": [
    "![](https://images-na.ssl-images-amazon.com/images/I/41ZN1VIePUL.jpg)"
   ]
  },
  {
   "cell_type": "code",
   "execution_count": 78,
   "metadata": {
    "collapsed": false
   },
   "outputs": [
    {
     "data": {
      "text/plain": [
       "[[('n03814639', 'neck_brace', 0.12140641),\n",
       "  ('n02883205', 'bow_tie', 0.10820005),\n",
       "  ('n02669723', 'academic_gown', 0.085149564)]]"
      ]
     },
     "execution_count": 78,
     "metadata": {},
     "output_type": "execute_result"
    }
   ],
   "source": [
    "predict_image(\"https://images-na.ssl-images-amazon.com/images/I/41ZN1VIePUL.jpg\")"
   ]
  },
  {
   "cell_type": "markdown",
   "metadata": {},
   "source": [
    "##### Woman\n",
    "![](http://www.wethepeoplestyle.com/wp-content/uploads/2016/02/jessiebush_wethepeople_streetstyle_nyfw7-815x545.jpg)"
   ]
  },
  {
   "cell_type": "code",
   "execution_count": 77,
   "metadata": {
    "collapsed": false
   },
   "outputs": [
    {
     "data": {
      "text/plain": [
       "[[('n04479046', 'trench_coat', 0.14009823),\n",
       "  ('n03891332', 'parking_meter', 0.10048288),\n",
       "  ('n03141823', 'crutch', 0.07991156)]]"
      ]
     },
     "execution_count": 77,
     "metadata": {},
     "output_type": "execute_result"
    }
   ],
   "source": [
    "predict_image(\"http://www.wethepeoplestyle.com/wp-content/uploads/2016/02/jessiebush_wethepeople_streetstyle_nyfw7-815x545.jpg\")"
   ]
  },
  {
   "cell_type": "code",
   "execution_count": null,
   "metadata": {
    "collapsed": true
   },
   "outputs": [],
   "source": []
  }
 ],
 "metadata": {
  "anaconda-cloud": {},
  "kernelspec": {
   "display_name": "Python [conda root]",
   "language": "python",
   "name": "conda-root-py"
  },
  "language_info": {
   "codemirror_mode": {
    "name": "ipython",
    "version": 3
   },
   "file_extension": ".py",
   "mimetype": "text/x-python",
   "name": "python",
   "nbconvert_exporter": "python",
   "pygments_lexer": "ipython3",
   "version": "3.5.2"
  },
  "toc": {
   "colors": {
    "hover_highlight": "#DAA520",
    "running_highlight": "#FF0000",
    "selected_highlight": "#FFD700"
   },
   "moveMenuLeft": true,
   "nav_menu": {
    "height": "177px",
    "width": "252px"
   },
   "navigate_menu": true,
   "number_sections": true,
   "sideBar": true,
   "threshold": 4,
   "toc_cell": false,
   "toc_section_display": "block",
   "toc_window_display": false
  }
 },
 "nbformat": 4,
 "nbformat_minor": 2
}
